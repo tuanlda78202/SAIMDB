{
 "cells": [
  {
   "cell_type": "markdown",
   "id": "69ad9a2e",
   "metadata": {},
   "source": [
    "## 1. Importing necessary libraries"
   ]
  },
  {
   "cell_type": "code",
   "execution_count": 1,
   "id": "e00c9043",
   "metadata": {},
   "outputs": [],
   "source": [
    "import pandas as pd\n",
    "import numpy as np\n",
    "import seaborn as sns\n",
    "\n",
    "import re\n",
    "import tensorflow_datasets as tfds\n",
    "from nltk.corpus import stopwords \n",
    "from nltk.tokenize import word_tokenize \n",
    "from sklearn.feature_extraction.text import TfidfTransformer\n",
    "from keras.preprocessing.text import text_to_word_sequence\n",
    "from nltk.stem import WordNetLemmatizer\n",
    "from sklearn.model_selection import train_test_split\n",
    "from sklearn.feature_extraction.text import CountVectorizer"
   ]
  },
  {
   "cell_type": "markdown",
   "id": "b60512fd",
   "metadata": {},
   "source": [
    "## 2. Import Preprocessor module"
   ]
  },
  {
   "cell_type": "markdown",
   "id": "4c28800c",
   "metadata": {},
   "source": [
    "### Basic cleaning and preprocessing"
   ]
  },
  {
   "cell_type": "code",
   "execution_count": 2,
   "id": "40d2a390",
   "metadata": {},
   "outputs": [],
   "source": [
    "def clean(data):\n",
    "    # remove \"(<.*?>)\" markup\n",
    "    data = data.apply(lambda x: re.sub('(<.*?>)', ' ', x))\n",
    "    # remove punctuation marks \n",
    "    data = data.apply(lambda x: re.sub('[,\\.!?:()\"]', '', x))\n",
    "    # remove whitespace\n",
    "    data = data.apply(lambda x: x.strip())\n",
    "    # remove all strings that contain a non-letter\n",
    "    data = data.apply(lambda x: re.sub('[^a-zA-Z\"]',' ',x))\n",
    "    # convert to lower\n",
    "    data = data.apply(lambda x: x.lower())\n",
    "    \n",
    "    # tokenisation\n",
    "    words = data.apply(lambda x: text_to_word_sequence(x)) \n",
    "\n",
    "    # remove stop words\n",
    "    stop_words = set(stopwords.words('english'))\n",
    "    filtered = words.apply(lambda x: [w for w in x if not w in stop_words])\n",
    "    data = filtered.apply(lambda x: \" \".join(x))\n",
    "\n",
    "    # lemmatisation\n",
    "    lemmatizer = WordNetLemmatizer()\n",
    "    data = data.apply(lambda x: lemmatizer.lemmatize(x))\n",
    "    return data"
   ]
  },
  {
   "cell_type": "markdown",
   "id": "3f750e68",
   "metadata": {},
   "source": [
    "### Writing to csv file"
   ]
  },
  {
   "cell_type": "code",
   "execution_count": 3,
   "id": "19a09d6b",
   "metadata": {},
   "outputs": [],
   "source": [
    "def file_write(X_train, X_test, y_train, y_test):\n",
    "    train_data = pd.DataFrame(list(zip(X_train, y_train)))\n",
    "    train_data.to_csv('../data/TrainingSet.csv')\n",
    "    \n",
    "    test_data = pd.DataFrame(list(zip(X_test, y_test)))\n",
    "    test_data.to_csv('../data/TestSet.csv')"
   ]
  },
  {
   "cell_type": "markdown",
   "id": "0df630b8",
   "metadata": {},
   "source": [
    "## 3. Implementation"
   ]
  },
  {
   "cell_type": "markdown",
   "id": "01a5cf26",
   "metadata": {},
   "source": [
    "**IMDb Reviews** is a large dataset for binary sentiment classification, consisting of 50,000 highly polar reviews (in English) with an even number of examples for training and testing purposes.\n",
    "\n",
    "The dataset contains additional unlabelled data. A negative review has a score ≤ 4 out of 10, and a positive review has a score ≥ 7 out of 10. No more than 30 reviews are included per movie."
   ]
  },
  {
   "cell_type": "code",
   "execution_count": 4,
   "id": "e836d241",
   "metadata": {},
   "outputs": [
    {
     "name": "stderr",
     "output_type": "stream",
     "text": [
      "2022-07-05 01:47:47.320405: I tensorflow/core/platform/cpu_feature_guard.cc:151] This TensorFlow binary is optimized with oneAPI Deep Neural Network Library (oneDNN) to use the following CPU instructions in performance-critical operations:  AVX2 FMA\n",
      "To enable them in other operations, rebuild TensorFlow with the appropriate compiler flags.\n"
     ]
    }
   ],
   "source": [
    "dataset = tfds.load('imdb_reviews', as_supervised=False)\n",
    "\n",
    "data = pd.DataFrame(dataset['train']).append(pd.DataFrame(dataset['test']))\n",
    "data.columns=['sentiment', 'review']\n",
    "data['sentiment'] = [str(s.numpy()) for s in data['sentiment']]\n",
    "data['review'] = [str(s.numpy()) for s in data['review']]"
   ]
  },
  {
   "cell_type": "code",
   "execution_count": 5,
   "id": "534fda57",
   "metadata": {},
   "outputs": [
    {
     "data": {
      "text/html": [
       "<div>\n",
       "<style scoped>\n",
       "    .dataframe tbody tr th:only-of-type {\n",
       "        vertical-align: middle;\n",
       "    }\n",
       "\n",
       "    .dataframe tbody tr th {\n",
       "        vertical-align: top;\n",
       "    }\n",
       "\n",
       "    .dataframe thead th {\n",
       "        text-align: right;\n",
       "    }\n",
       "</style>\n",
       "<table border=\"1\" class=\"dataframe\">\n",
       "  <thead>\n",
       "    <tr style=\"text-align: right;\">\n",
       "      <th></th>\n",
       "      <th>sentiment</th>\n",
       "      <th>review</th>\n",
       "    </tr>\n",
       "  </thead>\n",
       "  <tbody>\n",
       "    <tr>\n",
       "      <th>0</th>\n",
       "      <td>0</td>\n",
       "      <td>b\"This was an absolutely terrible movie. Don't...</td>\n",
       "    </tr>\n",
       "    <tr>\n",
       "      <th>1</th>\n",
       "      <td>0</td>\n",
       "      <td>b'I have been known to fall asleep during film...</td>\n",
       "    </tr>\n",
       "    <tr>\n",
       "      <th>2</th>\n",
       "      <td>0</td>\n",
       "      <td>b'Mann photographs the Alberta Rocky Mountains...</td>\n",
       "    </tr>\n",
       "    <tr>\n",
       "      <th>3</th>\n",
       "      <td>1</td>\n",
       "      <td>b'This is the kind of film for a snowy Sunday ...</td>\n",
       "    </tr>\n",
       "    <tr>\n",
       "      <th>4</th>\n",
       "      <td>1</td>\n",
       "      <td>b'As others have mentioned, all the women that...</td>\n",
       "    </tr>\n",
       "  </tbody>\n",
       "</table>\n",
       "</div>"
      ],
      "text/plain": [
       "  sentiment                                             review\n",
       "0         0  b\"This was an absolutely terrible movie. Don't...\n",
       "1         0  b'I have been known to fall asleep during film...\n",
       "2         0  b'Mann photographs the Alberta Rocky Mountains...\n",
       "3         1  b'This is the kind of film for a snowy Sunday ...\n",
       "4         1  b'As others have mentioned, all the women that..."
      ]
     },
     "execution_count": 5,
     "metadata": {},
     "output_type": "execute_result"
    }
   ],
   "source": [
    "data.head()"
   ]
  },
  {
   "cell_type": "code",
   "execution_count": 6,
   "id": "bd95c72b",
   "metadata": {},
   "outputs": [
    {
     "data": {
      "text/html": [
       "<div>\n",
       "<style scoped>\n",
       "    .dataframe tbody tr th:only-of-type {\n",
       "        vertical-align: middle;\n",
       "    }\n",
       "\n",
       "    .dataframe tbody tr th {\n",
       "        vertical-align: top;\n",
       "    }\n",
       "\n",
       "    .dataframe thead th {\n",
       "        text-align: right;\n",
       "    }\n",
       "</style>\n",
       "<table border=\"1\" class=\"dataframe\">\n",
       "  <thead>\n",
       "    <tr style=\"text-align: right;\">\n",
       "      <th></th>\n",
       "      <th>sentiment</th>\n",
       "      <th>review</th>\n",
       "    </tr>\n",
       "  </thead>\n",
       "  <tbody>\n",
       "    <tr>\n",
       "      <th>count</th>\n",
       "      <td>50000</td>\n",
       "      <td>50000</td>\n",
       "    </tr>\n",
       "    <tr>\n",
       "      <th>unique</th>\n",
       "      <td>2</td>\n",
       "      <td>49582</td>\n",
       "    </tr>\n",
       "    <tr>\n",
       "      <th>top</th>\n",
       "      <td>0</td>\n",
       "      <td>b\"Loved today's show!!! It was a variety and n...</td>\n",
       "    </tr>\n",
       "    <tr>\n",
       "      <th>freq</th>\n",
       "      <td>25000</td>\n",
       "      <td>5</td>\n",
       "    </tr>\n",
       "  </tbody>\n",
       "</table>\n",
       "</div>"
      ],
      "text/plain": [
       "       sentiment                                             review\n",
       "count      50000                                              50000\n",
       "unique         2                                              49582\n",
       "top            0  b\"Loved today's show!!! It was a variety and n...\n",
       "freq       25000                                                  5"
      ]
     },
     "execution_count": 6,
     "metadata": {},
     "output_type": "execute_result"
    }
   ],
   "source": [
    "data.describe(include='all')"
   ]
  },
  {
   "cell_type": "markdown",
   "id": "842a9e59",
   "metadata": {},
   "source": [
    "The number of positive and negative semtiment is equal in the dataset (25,000 each)"
   ]
  },
  {
   "cell_type": "code",
   "execution_count": 7,
   "id": "7c456753",
   "metadata": {},
   "outputs": [
    {
     "name": "stdout",
     "output_type": "stream",
     "text": [
      "0    25000\n",
      "1    25000\n",
      "Name: sentiment, dtype: int64\n"
     ]
    },
    {
     "data": {
      "image/png": "[encoded data removed]",
      "text/plain": [
       "<Figure size 432x288 with 1 Axes>"
      ]
     },
     "metadata": {
      "needs_background": "light"
     },
     "output_type": "display_data"
    }
   ],
   "source": [
    "sns.countplot(x='sentiment', data=data)\n",
    "print(data.sentiment.value_counts())"
   ]
  },
  {
   "cell_type": "code",
   "execution_count": 8,
   "id": "f8843011",
   "metadata": {},
   "outputs": [],
   "source": [
    "# splitting dataset\n",
    "X_train, X_test, y_train, y_test = train_test_split(data['review'], data['sentiment'], test_size=.2, shuffle=True, random_state=0)"
   ]
  },
  {
   "cell_type": "code",
   "execution_count": 9,
   "id": "e1fe427c",
   "metadata": {},
   "outputs": [],
   "source": [
    "X_temp = X_train[0]"
   ]
  },
  {
   "cell_type": "code",
   "execution_count": 10,
   "id": "69ee9d23",
   "metadata": {},
   "outputs": [],
   "source": [
    "# applying preprocessing functions\n",
    "X_train = clean(X_train)\n",
    "X_test = clean(X_test)"
   ]
  },
  {
   "cell_type": "code",
   "execution_count": 11,
   "id": "443a4399",
   "metadata": {},
   "outputs": [
    {
     "name": "stdout",
     "output_type": "stream",
     "text": [
      "Before preprocessing: 0    b\"There are films that make careers. For Georg...\n",
      "0    b\"This was an absolutely terrible movie. Don't...\n",
      "Name: review, dtype: object\n",
      "\n",
      "After preprocessing: 0    bthere films make careers george romero night ...\n",
      "0    bthis absolutely terrible movie lured christop...\n",
      "Name: review, dtype: object\n"
     ]
    }
   ],
   "source": [
    "print(\"Before preprocessing:\", X_temp)\n",
    "print()\n",
    "print(\"After preprocessing:\", X_train[0])"
   ]
  },
  {
   "cell_type": "code",
   "execution_count": 12,
   "id": "cc09183e",
   "metadata": {},
   "outputs": [],
   "source": [
    "# # converting sentiments into 0 and 1\n",
    "# y_train = y_train.apply(lambda x : 1 if x == 'positive' else 0)\n",
    "# y_test = y_test.apply(lambda x : 1 if x == 'positive' else 0)"
   ]
  },
  {
   "cell_type": "code",
   "execution_count": 13,
   "id": "8e857caa",
   "metadata": {},
   "outputs": [],
   "source": [
    "# exporting resultant datasets\n",
    "file_write(X_train, X_test, y_train, y_test)"
   ]
  },
  {
   "cell_type": "code",
   "execution_count": null,
   "id": "c7443e64",
   "metadata": {},
   "outputs": [],
   "source": []
  }
 ],
 "metadata": {
  "kernelspec": {
   "display_name": "Python 3 (ipykernel)",
   "language": "python",
   "name": "python3"
  },
  "language_info": {
   "codemirror_mode": {
    "name": "ipython",
    "version": 3
   },
   "file_extension": ".py",
   "mimetype": "text/x-python",
   "name": "python",
   "nbconvert_exporter": "python",
   "pygments_lexer": "ipython3",
   "version": "3.9.7"
  }
 },
 "nbformat": 4,
 "nbformat_minor": 5
}
