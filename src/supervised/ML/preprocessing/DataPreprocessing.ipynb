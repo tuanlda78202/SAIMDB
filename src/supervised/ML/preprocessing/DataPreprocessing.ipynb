{
 "cells": [
  {
   "cell_type": "markdown",
   "id": "69ad9a2e",
   "metadata": {},
   "source": [
    "## 1. Importing necessary libraries"
   ]
  },
  {
   "cell_type": "code",
   "execution_count": 1,
   "id": "e00c9043",
   "metadata": {},
   "outputs": [],
   "source": [
    "import pandas as pd\n",
    "import numpy as np\n",
    "import seaborn as sns\n",
    "\n",
    "import re\n",
    "import string\n",
    "import tensorflow_datasets as tfds\n",
    "from nltk.corpus import stopwords \n",
    "from nltk.tokenize import word_tokenize \n",
    "from sklearn.feature_extraction.text import TfidfTransformer\n",
    "from keras.preprocessing.text import text_to_word_sequence\n",
    "from nltk.stem import WordNetLemmatizer\n",
    "from sklearn.model_selection import train_test_split\n",
    "from sklearn.feature_extraction.text import CountVectorizer"
   ]
  },
  {
   "cell_type": "markdown",
   "id": "b60512fd",
   "metadata": {},
   "source": [
    "## 2. Import Preprocessor module"
   ]
  },
  {
   "cell_type": "markdown",
   "id": "4c28800c",
   "metadata": {},
   "source": [
    "### Basic cleaning and preprocessing"
   ]
  },
  {
   "cell_type": "code",
   "execution_count": 2,
   "id": "d118463a",
   "metadata": {},
   "outputs": [],
   "source": [
    "# Function to clean and tokenize\n",
    "def clean_text(text, tokenizer, stopwords):\n",
    "    \"\"\"Pre-process text and generate tokens\n",
    "    \n",
    "    Args:\n",
    "        text: Text to tokenize.\n",
    "\n",
    "    Returns:\n",
    "        Tokenized text.\n",
    "    \"\"\"\n",
    "    text = str(text).lower()                            # Lowercase words\n",
    "    text = re.sub(r\"\\[(.*?)\\]\", \"\", text)               # Remove [+XYZ chars] in content\n",
    "    text = re.sub(r\"\\s+\", \" \", text)                    # Remove multiple spaces in content\n",
    "    text = re.sub(r\"\\w+…|…\", \"\", text)                  # Remove ellipsis (and last word)\n",
    "    text = re.sub(r\"(?<=\\w)-(?=\\w)\", \" \", text)         # Replace dash between words\n",
    "    text = re.sub(f\"[{re.escape(string.punctuation)}]\", \"\", text)  # Remove punctuation\n",
    "\n",
    "    tokens = tokenizer(text)                                            # Get tokens from text\n",
    "    tokens = [t for t in tokens if not t in stopwords]                  # Remove stopwords\n",
    "    tokens = [\"\" if t.isdigit() else t for t in tokens]                 # Remove digits\n",
    "    tokens = [t for t in tokens if len(t) > 1]                          # Remove short tokens\n",
    "    return tokens"
   ]
  },
  {
   "cell_type": "markdown",
   "id": "3f750e68",
   "metadata": {},
   "source": [
    "### Writing to csv file"
   ]
  },
  {
   "cell_type": "code",
   "execution_count": 3,
   "id": "19a09d6b",
   "metadata": {},
   "outputs": [],
   "source": [
    "def file_write(X_train, X_test, y_train, y_test):\n",
    "    train_data = pd.DataFrame(list(zip(X_train, y_train)))\n",
    "    train_data.to_csv('../data/TrainingSet.csv')\n",
    "    \n",
    "    test_data = pd.DataFrame(list(zip(X_test, y_test)))\n",
    "    test_data.to_csv('../data/TestSet.csv')"
   ]
  },
  {
   "cell_type": "markdown",
   "id": "0df630b8",
   "metadata": {},
   "source": [
    "## 3. Implementation"
   ]
  },
  {
   "cell_type": "markdown",
   "id": "01a5cf26",
   "metadata": {},
   "source": [
    "**IMDb Reviews** is a large dataset for binary sentiment classification, consisting of 50,000 highly polar reviews (in English) with an even number of examples for training and testing purposes.\n",
    "\n",
    "The dataset contains additional unlabelled data. A negative review has a score ≤ 4 out of 10, and a positive review has a score ≥ 7 out of 10. No more than 30 reviews are included per movie."
   ]
  },
  {
   "cell_type": "code",
   "execution_count": 4,
   "id": "e836d241",
   "metadata": {},
   "outputs": [
    {
     "name": "stderr",
     "output_type": "stream",
     "text": [
      "2022-07-10 13:00:34.212364: I tensorflow/core/platform/cpu_feature_guard.cc:151] This TensorFlow binary is optimized with oneAPI Deep Neural Network Library (oneDNN) to use the following CPU instructions in performance-critical operations:  AVX2 FMA\n",
      "To enable them in other operations, rebuild TensorFlow with the appropriate compiler flags.\n"
     ]
    }
   ],
   "source": [
    "dataset = tfds.load('imdb_reviews', as_supervised=False)\n",
    "\n",
    "train_dat = pd.DataFrame(dataset['train'])\n",
    "test_dat = pd.DataFrame(dataset['test'])\n",
    "\n",
    "X_train, y_train = pd.DataFrame([str(s.numpy()) for s in train_dat['text']], columns=['text']), train_dat['label']\n",
    "X_test, y_test = pd.DataFrame([str(s.numpy()) for s in test_dat['text']], columns=['text']), test_dat['label']"
   ]
  },
  {
   "cell_type": "code",
   "execution_count": 5,
   "id": "8f67e52f",
   "metadata": {},
   "outputs": [],
   "source": [
    "X_train_tmp = X_train"
   ]
  },
  {
   "cell_type": "code",
   "execution_count": 6,
   "id": "a89d699f",
   "metadata": {},
   "outputs": [
    {
     "data": {
      "text/html": [
       "<div>\n",
       "<style scoped>\n",
       "    .dataframe tbody tr th:only-of-type {\n",
       "        vertical-align: middle;\n",
       "    }\n",
       "\n",
       "    .dataframe tbody tr th {\n",
       "        vertical-align: top;\n",
       "    }\n",
       "\n",
       "    .dataframe thead th {\n",
       "        text-align: right;\n",
       "    }\n",
       "</style>\n",
       "<table border=\"1\" class=\"dataframe\">\n",
       "  <thead>\n",
       "    <tr style=\"text-align: right;\">\n",
       "      <th></th>\n",
       "      <th>text</th>\n",
       "    </tr>\n",
       "  </thead>\n",
       "  <tbody>\n",
       "    <tr>\n",
       "      <th>0</th>\n",
       "      <td>b\"This was an absolutely terrible movie. Don't...</td>\n",
       "    </tr>\n",
       "    <tr>\n",
       "      <th>1</th>\n",
       "      <td>b'I have been known to fall asleep during film...</td>\n",
       "    </tr>\n",
       "    <tr>\n",
       "      <th>2</th>\n",
       "      <td>b'Mann photographs the Alberta Rocky Mountains...</td>\n",
       "    </tr>\n",
       "    <tr>\n",
       "      <th>3</th>\n",
       "      <td>b'This is the kind of film for a snowy Sunday ...</td>\n",
       "    </tr>\n",
       "    <tr>\n",
       "      <th>4</th>\n",
       "      <td>b'As others have mentioned, all the women that...</td>\n",
       "    </tr>\n",
       "    <tr>\n",
       "      <th>...</th>\n",
       "      <td>...</td>\n",
       "    </tr>\n",
       "    <tr>\n",
       "      <th>24995</th>\n",
       "      <td>b'I have a severe problem with this show, seve...</td>\n",
       "    </tr>\n",
       "    <tr>\n",
       "      <th>24996</th>\n",
       "      <td>b'The year is 1964. Ernesto \"Che\" Guevara, hav...</td>\n",
       "    </tr>\n",
       "    <tr>\n",
       "      <th>24997</th>\n",
       "      <td>b'Okay. So I just got back. Before I start my ...</td>\n",
       "    </tr>\n",
       "    <tr>\n",
       "      <th>24998</th>\n",
       "      <td>b'When I saw this trailer on TV I was surprise...</td>\n",
       "    </tr>\n",
       "    <tr>\n",
       "      <th>24999</th>\n",
       "      <td>b'First of all, Riget is wonderful. Good comed...</td>\n",
       "    </tr>\n",
       "  </tbody>\n",
       "</table>\n",
       "<p>25000 rows × 1 columns</p>\n",
       "</div>"
      ],
      "text/plain": [
       "                                                    text\n",
       "0      b\"This was an absolutely terrible movie. Don't...\n",
       "1      b'I have been known to fall asleep during film...\n",
       "2      b'Mann photographs the Alberta Rocky Mountains...\n",
       "3      b'This is the kind of film for a snowy Sunday ...\n",
       "4      b'As others have mentioned, all the women that...\n",
       "...                                                  ...\n",
       "24995  b'I have a severe problem with this show, seve...\n",
       "24996  b'The year is 1964. Ernesto \"Che\" Guevara, hav...\n",
       "24997  b'Okay. So I just got back. Before I start my ...\n",
       "24998  b'When I saw this trailer on TV I was surprise...\n",
       "24999  b'First of all, Riget is wonderful. Good comed...\n",
       "\n",
       "[25000 rows x 1 columns]"
      ]
     },
     "execution_count": 6,
     "metadata": {},
     "output_type": "execute_result"
    }
   ],
   "source": [
    "X_train_tmp"
   ]
  },
  {
   "cell_type": "code",
   "execution_count": 7,
   "id": "63179f4a",
   "metadata": {},
   "outputs": [],
   "source": [
    "stop_words = set(stopwords.words(\"english\"))\n",
    "\n",
    "X_train['text'] = X_train['text'].map(lambda x:clean_text(x, word_tokenize, stop_words))\n",
    "X_test['text'] = X_test['text'].map(lambda x:clean_text(x, word_tokenize, stop_words))"
   ]
  },
  {
   "cell_type": "code",
   "execution_count": 8,
   "id": "9dbe753e",
   "metadata": {},
   "outputs": [
    {
     "data": {
      "text/html": [
       "<div>\n",
       "<style scoped>\n",
       "    .dataframe tbody tr th:only-of-type {\n",
       "        vertical-align: middle;\n",
       "    }\n",
       "\n",
       "    .dataframe tbody tr th {\n",
       "        vertical-align: top;\n",
       "    }\n",
       "\n",
       "    .dataframe thead th {\n",
       "        text-align: right;\n",
       "    }\n",
       "</style>\n",
       "<table border=\"1\" class=\"dataframe\">\n",
       "  <thead>\n",
       "    <tr style=\"text-align: right;\">\n",
       "      <th></th>\n",
       "      <th>text</th>\n",
       "    </tr>\n",
       "  </thead>\n",
       "  <tbody>\n",
       "    <tr>\n",
       "      <th>0</th>\n",
       "      <td>[bthis, absolutely, terrible, movie, dont, lur...</td>\n",
       "    </tr>\n",
       "    <tr>\n",
       "      <th>1</th>\n",
       "      <td>[bi, known, fall, asleep, films, usually, due,...</td>\n",
       "    </tr>\n",
       "    <tr>\n",
       "      <th>2</th>\n",
       "      <td>[bmann, photographs, alberta, rocky, mountains...</td>\n",
       "    </tr>\n",
       "    <tr>\n",
       "      <th>3</th>\n",
       "      <td>[bthis, kind, film, snowy, sunday, afternoon, ...</td>\n",
       "    </tr>\n",
       "    <tr>\n",
       "      <th>4</th>\n",
       "      <td>[bas, others, mentioned, women, go, nude, film...</td>\n",
       "    </tr>\n",
       "    <tr>\n",
       "      <th>...</th>\n",
       "      <td>...</td>\n",
       "    </tr>\n",
       "    <tr>\n",
       "      <th>24995</th>\n",
       "      <td>[bi, severe, problem, show, several, actually,...</td>\n",
       "    </tr>\n",
       "    <tr>\n",
       "      <th>24996</th>\n",
       "      <td>[bthe, year, ernesto, che, guevara, cuban, cit...</td>\n",
       "    </tr>\n",
       "    <tr>\n",
       "      <th>24997</th>\n",
       "      <td>[bokay, got, back, start, review, let, tell, o...</td>\n",
       "    </tr>\n",
       "    <tr>\n",
       "      <th>24998</th>\n",
       "      <td>[bwhen, saw, trailer, tv, surprised, may, six,...</td>\n",
       "    </tr>\n",
       "    <tr>\n",
       "      <th>24999</th>\n",
       "      <td>[bfirst, riget, wonderful, good, comedy, myste...</td>\n",
       "    </tr>\n",
       "  </tbody>\n",
       "</table>\n",
       "<p>25000 rows × 1 columns</p>\n",
       "</div>"
      ],
      "text/plain": [
       "                                                    text\n",
       "0      [bthis, absolutely, terrible, movie, dont, lur...\n",
       "1      [bi, known, fall, asleep, films, usually, due,...\n",
       "2      [bmann, photographs, alberta, rocky, mountains...\n",
       "3      [bthis, kind, film, snowy, sunday, afternoon, ...\n",
       "4      [bas, others, mentioned, women, go, nude, film...\n",
       "...                                                  ...\n",
       "24995  [bi, severe, problem, show, several, actually,...\n",
       "24996  [bthe, year, ernesto, che, guevara, cuban, cit...\n",
       "24997  [bokay, got, back, start, review, let, tell, o...\n",
       "24998  [bwhen, saw, trailer, tv, surprised, may, six,...\n",
       "24999  [bfirst, riget, wonderful, good, comedy, myste...\n",
       "\n",
       "[25000 rows x 1 columns]"
      ]
     },
     "execution_count": 8,
     "metadata": {},
     "output_type": "execute_result"
    }
   ],
   "source": [
    "X_train"
   ]
  },
  {
   "cell_type": "code",
   "execution_count": 10,
   "id": "c04e3ba9",
   "metadata": {},
   "outputs": [
    {
     "data": {
      "text/plain": [
       "0        tf.Tensor(0, shape=(), dtype=int64)\n",
       "1        tf.Tensor(0, shape=(), dtype=int64)\n",
       "2        tf.Tensor(0, shape=(), dtype=int64)\n",
       "3        tf.Tensor(1, shape=(), dtype=int64)\n",
       "4        tf.Tensor(1, shape=(), dtype=int64)\n",
       "                        ...                 \n",
       "24995    tf.Tensor(0, shape=(), dtype=int64)\n",
       "24996    tf.Tensor(1, shape=(), dtype=int64)\n",
       "24997    tf.Tensor(0, shape=(), dtype=int64)\n",
       "24998    tf.Tensor(0, shape=(), dtype=int64)\n",
       "24999    tf.Tensor(1, shape=(), dtype=int64)\n",
       "Name: label, Length: 25000, dtype: object"
      ]
     },
     "execution_count": 10,
     "metadata": {},
     "output_type": "execute_result"
    }
   ],
   "source": [
    "y_train"
   ]
  },
  {
   "cell_type": "code",
   "execution_count": 12,
   "id": "4b73269e",
   "metadata": {},
   "outputs": [
    {
     "name": "stdout",
     "output_type": "stream",
     "text": [
      "[('text', <tf.Tensor: shape=(), dtype=int64, numpy=0>)]\n"
     ]
    }
   ],
   "source": [
    "print(list(zip(X_train, y_train)))"
   ]
  },
  {
   "cell_type": "code",
   "execution_count": 9,
   "id": "8e857caa",
   "metadata": {},
   "outputs": [],
   "source": [
    "# exporting resultant datasets\n",
    "file_write(X_train, X_test, y_train, y_test)"
   ]
  }
 ],
 "metadata": {
  "kernelspec": {
   "display_name": "Python 3 (ipykernel)",
   "language": "python",
   "name": "python3"
  },
  "language_info": {
   "codemirror_mode": {
    "name": "ipython",
    "version": 3
   },
   "file_extension": ".py",
   "mimetype": "text/x-python",
   "name": "python",
   "nbconvert_exporter": "python",
   "pygments_lexer": "ipython3",
   "version": "3.9.7"
  }
 },
 "nbformat": 4,
 "nbformat_minor": 5
}
