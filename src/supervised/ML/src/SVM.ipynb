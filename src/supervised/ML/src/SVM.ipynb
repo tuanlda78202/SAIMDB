{
 "cells": [
  {
   "cell_type": "code",
   "execution_count": 1,
   "id": "e8569e52",
   "metadata": {},
   "outputs": [],
   "source": [
    "import pandas as pd\n",
    "import numpy as np\n",
    "import seaborn as sns\n",
    "import matplotlib.pyplot as plt\n",
    "\n",
    "import re\n",
    "import nltk\n",
    "from nltk.corpus import stopwords \n",
    "from nltk.tokenize import word_tokenize \n",
    "from sklearn.feature_extraction.text import TfidfTransformer\n",
    "from keras.preprocessing.text import text_to_word_sequence\n",
    "from nltk.stem import WordNetLemmatizer\n",
    "from sklearn.model_selection import train_test_split\n",
    "from sklearn.feature_extraction.text import CountVectorizer\n",
    "from sklearn.svm import LinearSVC\n",
    "from sklearn.metrics import confusion_matrix, accuracy_score"
   ]
  },
  {
   "cell_type": "markdown",
   "id": "a322041e",
   "metadata": {},
   "source": [
    "## 1. Prepare data"
   ]
  },
  {
   "cell_type": "code",
   "execution_count": 2,
   "id": "cded43b8",
   "metadata": {},
   "outputs": [],
   "source": [
    "import sys\n",
    "sys.path.insert(0, '../preprocessing')\n",
    "import Preprocessor"
   ]
  },
  {
   "cell_type": "code",
   "execution_count": 3,
   "id": "6d5455de",
   "metadata": {},
   "outputs": [],
   "source": [
    "X_train, y_train, X_test, y_test = Preprocessor.file_read_vectorizer('../data/TrainingSet.csv', '../data/TestSet.csv')"
   ]
  },
  {
   "cell_type": "markdown",
   "id": "7305d121",
   "metadata": {},
   "source": [
    "## 2. Model training"
   ]
  },
  {
   "cell_type": "markdown",
   "id": "d7b8922c",
   "metadata": {},
   "source": [
    "### 2.1. Default hyperparameter values"
   ]
  },
  {
   "cell_type": "code",
   "execution_count": null,
   "id": "86e45c3c",
   "metadata": {},
   "outputs": [],
   "source": [
    "classifier_def  = LinearSVC()  # default C=1.0\n",
    "classifier_def.fit(X_train, y_train)\n",
    "\n",
    "y_pred_def = classifier_def.predict(X_test)\n",
    "print(accuracy_score(y_test, y_pred_def))"
   ]
  },
  {
   "cell_type": "markdown",
   "id": "1610e35a",
   "metadata": {},
   "source": [
    "### 2.2. Hyperparameter tuning"
   ]
  },
  {
   "cell_type": "markdown",
   "id": "c9e89169",
   "metadata": {},
   "source": [
    "SVM has one hyperparameter that we need to tune: C i.e. the penalty term. We will choose this hyperparameter based on the Grid Search with Cross-validation schema."
   ]
  },
  {
   "cell_type": "code",
   "execution_count": 22,
   "id": "8cfba0a8",
   "metadata": {},
   "outputs": [
    {
     "name": "stdout",
     "output_type": "stream",
     "text": [
      "{'C': 100}\n"
     ]
    }
   ],
   "source": [
    "from sklearn.model_selection import GridSearchCV\n",
    "\n",
    "param_grid = {'C': [0.1,1, 5, 50, 100, 150]}\n",
    "\n",
    "grid_search = GridSearchCV(LinearSVC(max_iter=10000), param_grid, cv=5, return_train_score=True)\n",
    "\n",
    "grid_search.fit(X_train, y_train)\n",
    "print(grid_search.best_params_)"
   ]
  },
  {
   "cell_type": "code",
   "execution_count": 28,
   "id": "ebe529ac",
   "metadata": {},
   "outputs": [
    {
     "name": "stdout",
     "output_type": "stream",
     "text": [
      "0.90635\n"
     ]
    }
   ],
   "source": [
    "classifier = LinearSVC(C=100, max_iter=10000)\n",
    "classifier.fit(X_train, y_train)\n",
    "\n",
    "y_pred = classifier.predict(X_test)\n",
    "print(accuracy_score(y_test, y_pred))"
   ]
  },
  {
   "cell_type": "markdown",
   "id": "95cd5372-0c3b-423f-a09d-584fa3367625",
   "metadata": {},
   "source": [
    "### 2.3. Model evaluation"
   ]
  },
  {
   "cell_type": "markdown",
   "id": "c00ed08e-d91b-486c-a86c-8265f3d3dd21",
   "metadata": {},
   "source": [
    "We can plot the following Confusion Matrix"
   ]
  },
  {
   "cell_type": "code",
   "execution_count": 30,
   "id": "9e9c5fed-e790-4723-b4cf-ef8c51f620bb",
   "metadata": {},
   "outputs": [
    {
     "data": {
      "image/png": "[encoded data removed]",
      "text/plain": [
       "<Figure size 432x288 with 2 Axes>"
      ]
     },
     "metadata": {
      "needs_background": "light"
     },
     "output_type": "display_data"
    }
   ],
   "source": [
    "from sklearn.datasets import make_classification\n",
    "from sklearn.metrics import plot_confusion_matrix\n",
    "\n",
    "plot_confusion_matrix(classifier, X_test, y_test)  \n",
    "plt.show()"
   ]
  },
  {
   "cell_type": "markdown",
   "id": "00f2c953",
   "metadata": {},
   "source": [
    "## 3. Predicting new instances"
   ]
  },
  {
   "cell_type": "code",
   "execution_count": 31,
   "id": "f7756488",
   "metadata": {},
   "outputs": [],
   "source": [
    "# positive review\n",
    "sentence = \"Was foolishly overthought about watching it at cinemas, due to criticism, but the movie was actually a welcomed change to the previous marvel phase setup, it was not boring at any point for the duration of the movie and it was interesting to see how easily things can go really bad that even Thanos Crusade that was the big deal can seem so simple and trivial.Some comments that i noticed complained about 'not enough multiverse etc etc' the movie was not called Doctor Strange visits any other universe :) the movie played with multiverse and showed some different ways that interacting with one another can have a number of unpredictable results .If someone wants a more deep dive into the theme i suggest to watch Loki series, there its explained and shown in a slower pace with more detailOverall a Solid entry for the Genre, and honestly most of the negative comments and chatter can be applied for the most marvel movies out there if taken serious!\"\n",
    "review_tf = Preprocessor.vectorize_new(sentence)"
   ]
  },
  {
   "cell_type": "code",
   "execution_count": 32,
   "id": "804c7315",
   "metadata": {},
   "outputs": [
    {
     "name": "stdout",
     "output_type": "stream",
     "text": [
      "  (0, 2076228)\t0.13445214347323473\n",
      "  (0, 2076225)\t0.09894691220652085\n",
      "  (0, 2070306)\t0.13445214347323473\n",
      "  (0, 2070027)\t0.05769710845773085\n",
      "  (0, 2062473)\t0.036420280996354665\n",
      "  (0, 2058394)\t0.032053367439103\n",
      "  (0, 2052524)\t0.13445214347323473\n",
      "  (0, 2052356)\t0.05224557390393417\n",
      "  (0, 2039859)\t0.08582455951199523\n",
      "  (0, 2001301)\t0.08757426666728792\n",
      "  (0, 1997998)\t0.13445214347323473\n",
      "  (0, 1997883)\t0.07550861995628141\n",
      "  (0, 1901052)\t0.08789091415321881\n",
      "  (0, 1900481)\t0.039657263245114815\n",
      "  (0, 1895362)\t0.058632293709226284\n",
      "  (0, 1865430)\t0.12567326826501293\n",
      "  (0, 1864887)\t0.05434127739243571\n",
      "  (0, 1838152)\t0.10593899314736344\n",
      "  (0, 1837898)\t0.06637295383794296\n",
      "  (0, 1814719)\t0.056634559486866305\n",
      "  (0, 1751042)\t0.12053795546969258\n",
      "  (0, 1749935)\t0.044883596967115094\n",
      "  (0, 1748153)\t0.12567326826501293\n",
      "  (0, 1748055)\t0.06417176459198497\n",
      "  (0, 1737531)\t0.11858560015552562\n",
      "  :\t:\n",
      "  (0, 454309)\t0.05936932876894218\n",
      "  (0, 445877)\t0.05734729824308704\n",
      "  (0, 420917)\t0.10351923277257238\n",
      "  (0, 417181)\t0.11406822648575445\n",
      "  (0, 417106)\t0.07651233224653363\n",
      "  (0, 360786)\t0.13445214347323473\n",
      "  (0, 360769)\t0.09095987230731559\n",
      "  (0, 354917)\t0.13445214347323473\n",
      "  (0, 354620)\t0.11645043517885528\n",
      "  (0, 319636)\t0.09247718322258272\n",
      "  (0, 302400)\t0.10528935127753267\n",
      "  (0, 289784)\t0.13445214347323473\n",
      "  (0, 289372)\t0.05554160232200783\n",
      "  (0, 252066)\t0.13445214347323473\n",
      "  (0, 251771)\t0.05028224113319485\n",
      "  (0, 212938)\t0.12931683067791436\n",
      "  (0, 212317)\t0.047964868055924655\n",
      "  (0, 185407)\t0.08789091415321881\n",
      "  (0, 185072)\t0.04027680296544602\n",
      "  (0, 140997)\t0.08465462926811224\n",
      "  (0, 140299)\t0.031080950148014066\n",
      "  (0, 95295)\t0.09095987230731559\n",
      "  (0, 81473)\t0.13445214347323473\n",
      "  (0, 80336)\t0.037464837189902664\n",
      "  (0, 23212)\t0.03774001497526851\n"
     ]
    }
   ],
   "source": [
    "print(review_tf)"
   ]
  },
  {
   "cell_type": "code",
   "execution_count": 33,
   "id": "5b06bfe8",
   "metadata": {},
   "outputs": [
    {
     "data": {
      "text/plain": [
       "array([1])"
      ]
     },
     "execution_count": 33,
     "metadata": {},
     "output_type": "execute_result"
    }
   ],
   "source": [
    "classifier.predict(review_tf)"
   ]
  },
  {
   "cell_type": "code",
   "execution_count": 34,
   "id": "fe477edb",
   "metadata": {},
   "outputs": [
    {
     "data": {
      "text/plain": [
       "array([0])"
      ]
     },
     "execution_count": 34,
     "metadata": {},
     "output_type": "execute_result"
    }
   ],
   "source": [
    "# negative review\n",
    "sentence2 = \"After months of hype, we are left with a mess of a story that is mostly just CGI blobs, some light shows and some boring dialogue. I loved the first Strange movie, its my second favorite after Captain America Winter Soldier. So this was extra disappointing.Firstly, youre not going to have any idea whats going on with the main antagonist unless you watched the Disney+ show Wandavision. Even though I did watch it, it had been months, and I didnt remember all the details, so her whole backstory fell flat. This movie was less about Strange and more about her.Theres also a subplot involving Stranges old flame, but since we only saw them as exes in the previous film, it Didnt really feel that impactful.Theres also an obligatory teen sidekick, which I guess is now standard in the Phase IV fully Disneyized MCU. She might have been interesting, but shes just there as a macguffiin and has no real personality.Theres also random cameos from other Marvel properties, Im beginning to see these bits of crossover fan service are the sole purpose of having a multiverse.Seriously, I dont know why I keep giving my money to this franchise. Black Widow, Eternals, Shang Chi and now Dr Strange 2, have all been dull, uninspired CGI crap fests, that rely entirely on cameos and fan service to keep people coming back. Lets just face it, Hollywood milked all they could from Marvel. Its time to give the franchise ( and maybe all superhero movies)a good 10-15 year rest and reboot it after audiences grow nostalgic.\"\n",
    "classifier.predict(Preprocessor.vectorize_new(sentence2))"
   ]
  },
  {
   "cell_type": "code",
   "execution_count": null,
   "id": "5fd206aa-0659-4fcc-ac5a-a60864d563a6",
   "metadata": {},
   "outputs": [],
   "source": []
  }
 ],
 "metadata": {
  "kernelspec": {
   "display_name": "Python 3 (ipykernel)",
   "language": "python",
   "name": "python3"
  },
  "language_info": {
   "codemirror_mode": {
    "name": "ipython",
    "version": 3
   },
   "file_extension": ".py",
   "mimetype": "text/x-python",
   "name": "python",
   "nbconvert_exporter": "python",
   "pygments_lexer": "ipython3",
   "version": "3.9.7"
  }
 },
 "nbformat": 4,
 "nbformat_minor": 5
}
