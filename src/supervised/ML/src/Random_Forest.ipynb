{
  "cells": [
    {
      "cell_type": "code",
      "execution_count": 1,
      "metadata": {
        "id": "V4xrTjMZcMLu"
      },
      "outputs": [],
      "source": [
        "import pandas as pd\n",
        "import numpy as np\n",
        "import seaborn as sns\n",
        "import matplotlib.pyplot as plt\n",
        "\n",
        "import re\n",
        "import nltk\n",
        "from nltk.corpus import stopwords\n",
        "from tqdm import tqdm\n",
        "from nltk.tokenize import word_tokenize \n",
        "from sklearn.feature_extraction.text import TfidfTransformer\n",
        "from keras.preprocessing.text import text_to_word_sequence\n",
        "from nltk.stem import WordNetLemmatizer\n",
        "from sklearn.model_selection import train_test_split\n",
        "from sklearn.feature_extraction.text import CountVectorizer\n",
        "from sklearn.metrics import confusion_matrix, accuracy_score"
      ]
    },
    {
      "cell_type": "code",
      "execution_count": 2,
      "metadata": {
        "id": "7k2yQp7ccInS"
      },
      "outputs": [],
      "source": [
        "import sys\n",
        "sys.path.insert(0, '/content/drive/MyDrive/ML/preprocessing')\n",
        "import Preprocessor"
      ]
    },
    {
      "cell_type": "code",
      "execution_count": 3,
      "metadata": {
        "id": "ABPC1IwDcbAp"
      },
      "outputs": [],
      "source": [
        "X_train, y_train, X_test, y_test = Preprocessor.file_read_vectorizer('/content/drive/MyDrive/ML/data/TrainingSet.csv', '/content/drive/MyDrive/ML/data/TestSet.csv')"
      ]
    },
    {
      "cell_type": "code",
      "source": [
        "from sklearn.model_selection import GridSearchCV\n",
        "from sklearn.ensemble import RandomForestClassifier\n",
        "\n",
        "param_grid = {'n_estimators': [100, 200, 300, 400]}\n",
        "\n",
        "grid_search = GridSearchCV(RandomForestClassifier(criterion='entropy'), param_grid, cv=5, return_train_score=True)\n",
        "\n",
        "grid_search.fit(X_train, y_train)\n",
        "print(grid_search.best_params_)"
      ],
      "metadata": {
        "id": "hW_msTcNFR0m"
      },
      "execution_count": null,
      "outputs": []
    },
    {
      "cell_type": "code",
      "execution_count": null,
      "metadata": {
        "id": "NWDMQ5mVcZPD"
      },
      "outputs": [],
      "source": [
        "from sklearn.model_selection import learning_curve\n",
        "\n",
        "def cross_validation(estimator):\n",
        "    _, train_scores, test_scores = learning_curve(estimator, X_train, y_train, cv=3, n_jobs=-1, train_sizes=[1.0, ], scoring=\"accuracy\")\n",
        "    test_scores = test_scores[0]\n",
        "    mean, std = test_scores.mean(), test_scores.std()\n",
        "    return mean, std\n",
        "\n",
        "def plot(title, xlabel, X, Y, error, ylabel = \"Accuracy\"):\n",
        "    plt.xlabel(xlabel)\n",
        "    plt.title(title)\n",
        "    plt.grid()\n",
        "    plt.ylabel(ylabel)\n",
        "    \n",
        "    plt.errorbar(X, Y, error, linestyle='None', marker='o')"
      ]
    },
    {
      "cell_type": "code",
      "execution_count": null,
      "metadata": {
        "colab": {
          "background_save": true,
          "base_uri": "https://localhost:8080/"
        },
        "id": "A3dazW0McgzV",
        "outputId": "431499c7-0718-4738-a644-d4e5c5d4dc14"
      },
      "outputs": [
        {
          "name": "stderr",
          "output_type": "stream",
          "text": [
            "100%|██████████| 2/2 [3:05:40<00:00, 5570.03s/it]\n"
          ]
        },
        {
          "data": {
            "image/png": "[encoded data removed]",
            "text/plain": [
              "<Figure size 432x288 with 1 Axes>"
            ]
          },
          "metadata": {},
          "output_type": "display_data"
        }
      ],
      "source": [
        "from sklearn.ensemble import RandomForestClassifier\n",
        "\n",
        "title = \"Changing n_estimators, criterion = entropy\"\n",
        "xlabel = \"n_estimators\"\n",
        "X = []\n",
        "Y = []\n",
        "error = []\n",
        "\n",
        "for n_estimators in tqdm([300, 350]):\n",
        "    text_clf = RandomForestClassifier(criterion='entropy', n_estimators=n_estimators)\n",
        "    mean, std = cross_validation(text_clf)\n",
        "    X.append(str(n_estimators))\n",
        "    Y.append(mean)\n",
        "    error.append(std)\n",
        "\n",
        "# export to plots\n",
        "plot(title, xlabel, X, Y, error)\n",
        "plt.savefig('../RF_change_N_4.png', bbox_inches='tight')\n",
        "plt.show()"
      ]
    },
    {
      "cell_type": "code",
      "execution_count": null,
      "metadata": {
        "id": "S6nxGMiKcjYZ"
      },
      "outputs": [],
      "source": [
        ""
      ]
    }
  ],
  "metadata": {
    "colab": {
      "collapsed_sections": [],
      "name": "Random-Forest.ipynb",
      "provenance": []
    },
    "kernelspec": {
      "display_name": "Python 3",
      "name": "python3"
    },
    "language_info": {
      "name": "python"
    }
  },
  "nbformat": 4,
  "nbformat_minor": 0
}