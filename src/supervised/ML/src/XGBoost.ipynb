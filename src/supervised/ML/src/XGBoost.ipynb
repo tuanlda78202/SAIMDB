{
  "nbformat": 4,
  "nbformat_minor": 0,
  "metadata": {
    "colab": {
      "name": "XGBoost.ipynb",
      "provenance": [],
      "collapsed_sections": []
    },
    "kernelspec": {
      "name": "python3",
      "display_name": "Python 3"
    },
    "language_info": {
      "name": "python"
    }
  },
  "cells": [
    {
      "cell_type": "code",
      "execution_count": 1,
      "metadata": {
        "id": "bsdcpUZLcOIm"
      },
      "outputs": [],
      "source": [
        "import pandas as pd\n",
        "import numpy as np\n",
        "import seaborn as sns\n",
        "import matplotlib.pyplot as plt\n",
        "\n",
        "import re\n",
        "import nltk\n",
        "from nltk.corpus import stopwords \n",
        "from nltk.tokenize import word_tokenize \n",
        "from sklearn.feature_extraction.text import TfidfTransformer\n",
        "from keras.preprocessing.text import text_to_word_sequence\n",
        "from nltk.stem import WordNetLemmatizer\n",
        "from sklearn.model_selection import train_test_split\n",
        "from sklearn.feature_extraction.text import CountVectorizer\n",
        "from sklearn.metrics import confusion_matrix, accuracy_score"
      ]
    },
    {
      "cell_type": "markdown",
      "source": [
        "## 1. Prepare data"
      ],
      "metadata": {
        "id": "KtMwT4xszMP1"
      }
    },
    {
      "cell_type": "code",
      "source": [
        "import sys\n",
        "sys.path.insert(0, '/content/drive/MyDrive/ML/preprocessing')\n",
        "import Preprocessor"
      ],
      "metadata": {
        "id": "8PqeNf-fzPZN"
      },
      "execution_count": 2,
      "outputs": []
    },
    {
      "cell_type": "code",
      "source": [
        "X_train, y_train, X_test, y_test = Preprocessor.file_read_vectorizer('/content/drive/MyDrive/ML/data/TrainingSet.csv', '/content/drive/MyDrive/ML/data/TestSet.csv')"
      ],
      "metadata": {
        "id": "vI13MhD2zQUo"
      },
      "execution_count": 3,
      "outputs": []
    },
    {
      "cell_type": "markdown",
      "source": [
        "## 2. Model training"
      ],
      "metadata": {
        "id": "C8sZNVF4zSi5"
      }
    },
    {
      "cell_type": "code",
      "source": [
        "import xgboost\n",
        "\n",
        "\n",
        "xgb = xgboost.XGBClassifier()\n",
        "xgb.fit(X_train, y_train)\n",
        "y_pred = xgb.predict(X_test)"
      ],
      "metadata": {
        "id": "_KHu-VIVzVx5"
      },
      "execution_count": 10,
      "outputs": []
    },
    {
      "cell_type": "code",
      "source": [
        "print(accuracy_score(y_test, y_pred))"
      ],
      "metadata": {
        "colab": {
          "base_uri": "https://localhost:8080/"
        },
        "id": "PYMBzVUizopY",
        "outputId": "b8a56946-0cdc-4cc8-ab5e-e1ab11d3169b"
      },
      "execution_count": 11,
      "outputs": [
        {
          "output_type": "stream",
          "name": "stdout",
          "text": [
            "0.80445\n"
          ]
        }
      ]
    },
    {
      "cell_type": "code",
      "source": [
        "from sklearn.model_selection import GridSearchCV\n",
        "from xgboost import XGBClassifier\n",
        "\n",
        "param_grid = {'learning_rate': [0.025, 0.05, 0.1, 0.2, 0.3],\n",
        "              'gamma': [0,0.1, 0.2, 0.3, 0.4, 1.0, 1.5, 2.0],\n",
        "              'max_depth': [2, 3, 5, 7, 10, 100],\n",
        "              'colsample_bylevel': [0.25, 1.0],\n",
        "              'subsample': [0.15, 0.5, 0.75, 1.0]}\n",
        "\n",
        "grid_search = GridSearchCV(XGBClassifier(), param_grid, cv=3, return_train_score=True)\n",
        "\n",
        "grid_search.fit(X_train, y_train)\n",
        "print(grid_search.best_params_)"
      ],
      "metadata": {
        "id": "aEGZODYT3lQF"
      },
      "execution_count": null,
      "outputs": []
    },
    {
      "cell_type": "code",
      "source": [
        ""
      ],
      "metadata": {
        "id": "Wk_c3QBX42Zb"
      },
      "execution_count": null,
      "outputs": []
    }
  ]
}