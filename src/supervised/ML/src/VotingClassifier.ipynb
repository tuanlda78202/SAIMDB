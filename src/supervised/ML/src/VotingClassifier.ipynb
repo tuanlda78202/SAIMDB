{
  "nbformat": 4,
  "nbformat_minor": 0,
  "metadata": {
    "colab": {
      "name": "VotingClassifier.ipynb",
      "provenance": [],
      "collapsed_sections": []
    },
    "kernelspec": {
      "name": "python3",
      "display_name": "Python 3"
    },
    "language_info": {
      "name": "python"
    }
  },
  "cells": [
    {
      "cell_type": "markdown",
      "source": [
        "## 0. Importing necessary libraries"
      ],
      "metadata": {
        "id": "Uole0vxGzTHx"
      }
    },
    {
      "cell_type": "code",
      "source": [
        "import nltk\n",
        "nltk.download('punkt')\n",
        "nltk.download('stopwords')"
      ],
      "metadata": {
        "colab": {
          "base_uri": "https://localhost:8080/"
        },
        "id": "eUxgpeKDzar1",
        "outputId": "4979bb43-16d0-4e41-cb2b-fe4386bd6641"
      },
      "execution_count": 1,
      "outputs": [
        {
          "output_type": "stream",
          "name": "stderr",
          "text": [
            "[nltk_data] Downloading package punkt to /root/nltk_data...\n",
            "[nltk_data]   Package punkt is already up-to-date!\n",
            "[nltk_data] Downloading package stopwords to /root/nltk_data...\n",
            "[nltk_data]   Package stopwords is already up-to-date!\n"
          ]
        },
        {
          "output_type": "execute_result",
          "data": {
            "text/plain": [
              "True"
            ]
          },
          "metadata": {},
          "execution_count": 1
        }
      ]
    },
    {
      "cell_type": "code",
      "execution_count": 2,
      "metadata": {
        "id": "1a718753"
      },
      "outputs": [],
      "source": [
        "import pandas as pd\n",
        "import numpy as np\n",
        "import seaborn as sns\n",
        "\n",
        "import re\n",
        "from nltk.corpus import stopwords \n",
        "from nltk.tokenize import word_tokenize \n",
        "from sklearn.feature_extraction.text import TfidfTransformer\n",
        "from keras.preprocessing.text import text_to_word_sequence\n",
        "from nltk.stem import WordNetLemmatizer\n",
        "from sklearn.model_selection import train_test_split\n",
        "from sklearn.feature_extraction.text import CountVectorizer\n",
        "from sklearn.metrics import confusion_matrix, accuracy_score\n",
        "\n",
        "from xgboost import XGBClassifier"
      ]
    },
    {
      "cell_type": "code",
      "execution_count": 3,
      "metadata": {
        "colab": {
          "base_uri": "https://localhost:8080/"
        },
        "id": "DDooKLcJjMbY",
        "outputId": "208e6c05-091c-407d-fe88-93919ffab1ef"
      },
      "outputs": [
        {
          "output_type": "stream",
          "name": "stdout",
          "text": [
            "Drive already mounted at /content/drive; to attempt to forcibly remount, call drive.mount(\"/content/drive\", force_remount=True).\n"
          ]
        }
      ],
      "source": [
        "from google.colab import drive\n",
        "drive.mount('/content/drive')"
      ]
    },
    {
      "cell_type": "markdown",
      "metadata": {
        "id": "aglOYr9GkmwM"
      },
      "source": [
        "## 1. Prepare data"
      ]
    },
    {
      "cell_type": "code",
      "execution_count": 4,
      "metadata": {
        "id": "A91tte0akrgp"
      },
      "outputs": [],
      "source": [
        "import sys\n",
        "sys.path.insert(0, '/content/drive/MyDrive/ML/preprocessing')\n",
        "import Preprocessor"
      ]
    },
    {
      "cell_type": "markdown",
      "metadata": {
        "id": "A1hfDmc_km9C"
      },
      "source": [
        "### 1.1. Load data"
      ]
    },
    {
      "cell_type": "code",
      "execution_count": 5,
      "metadata": {
        "id": "BoPda-6pkecy"
      },
      "outputs": [],
      "source": [
        "import tensorflow_datasets as tfds\n",
        "dataset = tfds.load('imdb_reviews', as_supervised=False)"
      ]
    },
    {
      "cell_type": "code",
      "execution_count": 6,
      "metadata": {
        "id": "FL7i1qgNkvKQ"
      },
      "outputs": [],
      "source": [
        "X_train, y_train, X_test, y_test = Preprocessor.load_prep(dataset)  "
      ]
    },
    {
      "cell_type": "markdown",
      "metadata": {
        "id": "uMp6M0XtpJtn"
      },
      "source": [
        "### 1.2. TF-IDF Vectorisation"
      ]
    },
    {
      "cell_type": "code",
      "execution_count": 7,
      "metadata": {
        "colab": {
          "base_uri": "https://localhost:8080/"
        },
        "id": "4hzJiRpSpLuj",
        "outputId": "a56c95cb-65ff-469b-8702-8d203c59b21b"
      },
      "outputs": [
        {
          "output_type": "stream",
          "name": "stderr",
          "text": [
            "/usr/local/lib/python3.7/dist-packages/sklearn/feature_extraction/text.py:517: UserWarning: The parameter 'token_pattern' will not be used since 'tokenizer' is not None'\n",
            "  \"The parameter 'token_pattern' will not be used\"\n"
          ]
        },
        {
          "output_type": "execute_result",
          "data": {
            "text/plain": [
              "TfidfVectorizer(preprocessor=<function func at 0x7fc90152fcb0>,\n",
              "                tokenizer=<function func at 0x7fc90152fcb0>)"
            ]
          },
          "metadata": {},
          "execution_count": 7
        }
      ],
      "source": [
        "from sklearn.feature_extraction.text import TfidfVectorizer\n",
        "\n",
        "def func(doc):  # n_jobs in GridSearch does not support lambda function\n",
        "    return doc\n",
        "\n",
        "tfidf = TfidfVectorizer(\n",
        "    analyzer='word',\n",
        "    tokenizer=func,\n",
        "    preprocessor=func) \n",
        "\n",
        "tfidf.fit(X_train)"
      ]
    },
    {
      "cell_type": "code",
      "execution_count": 8,
      "metadata": {
        "id": "oqT_1W97pXsS"
      },
      "outputs": [],
      "source": [
        "X_train_tf = tfidf.transform(X_train)\n",
        "X_test_tf = tfidf.transform(X_test)"
      ]
    },
    {
      "cell_type": "markdown",
      "metadata": {
        "id": "ZnvY5yPU2TKj"
      },
      "source": [
        "## 2. Model training"
      ]
    },
    {
      "cell_type": "markdown",
      "metadata": {
        "id": "KkY4OJ7c2VTv"
      },
      "source": [
        "### 2.1. Default hyperparameter values"
      ]
    },
    {
      "cell_type": "code",
      "execution_count": 9,
      "metadata": {
        "id": "e5325816"
      },
      "outputs": [],
      "source": [
        "from sklearn.ensemble import VotingClassifier, RandomForestClassifier\n",
        "from sklearn.linear_model import LogisticRegression\n",
        "from sklearn.tree import DecisionTreeClassifier"
      ]
    },
    {
      "cell_type": "code",
      "source": [
        "rf = RandomForestClassifier(random_state=0)\n",
        "lr = LogisticRegression(random_state=0)\n",
        "dt = DecisionTreeClassifier(random_state=0)\n",
        "\n",
        "for clf in(rf, lr, dt):\n",
        "  clf.fit(X_train_tf, y_train)\n",
        "  y_pred_train = clf.predict(X_train_tf)\n",
        "  y_pred_test = clf.predict(X_test_tf)\n",
        "\n",
        "  train_acc = accuracy_score(y_train, y_pred_train)\n",
        "  test_acc = accuracy_score(y_test, y_pred_test)\n",
        "  print(\"classifier: \", clf.__class__.__name__)\n",
        "  print(\"train: \", train_acc)\n",
        "  print(\"test: \", test_acc)"
      ],
      "metadata": {
        "colab": {
          "base_uri": "https://localhost:8080/"
        },
        "id": "gHu6E0goFiDI",
        "outputId": "496fc952-c321-45ed-a9af-0be8d55ed123"
      },
      "execution_count": 10,
      "outputs": [
        {
          "output_type": "stream",
          "name": "stdout",
          "text": [
            "classifier:  RandomForestClassifier\n",
            "train:  1.0\n",
            "test:  0.84704\n",
            "classifier:  LogisticRegression\n",
            "train:  0.93748\n",
            "test:  0.88176\n",
            "classifier:  DecisionTreeClassifier\n",
            "train:  1.0\n",
            "test:  0.71336\n"
          ]
        }
      ]
    },
    {
      "cell_type": "code",
      "source": [
        "clf = VotingClassifier(\n",
        "    estimators=[('rf', rf), ('lr', lr), ('dt', dt)],\n",
        "    voting='soft'\n",
        ")\n",
        "clf.fit(X_train_tf, y_train)\n",
        "\n",
        "y_pred_train = clf.predict(X_train_tf)\n",
        "y_pred_test = clf.predict(X_test_tf)\n",
        "\n",
        "train_acc = accuracy_score(y_train, y_pred_train)\n",
        "test_acc = accuracy_score(y_test, y_pred_test)\n",
        "print(\"classifier: \", clf.__class__.__name__)\n",
        "print(\"train: \", train_acc)\n",
        "print(\"test: \", test_acc)"
      ],
      "metadata": {
        "colab": {
          "base_uri": "https://localhost:8080/"
        },
        "id": "mrxhBk1UFVQX",
        "outputId": "78821508-2a40-4b8e-bcdc-ee0e50dde816"
      },
      "execution_count": 25,
      "outputs": [
        {
          "output_type": "stream",
          "name": "stdout",
          "text": [
            "classifier:  VotingClassifier\n",
            "train:  1.0\n",
            "test:  0.78876\n"
          ]
        }
      ]
    },
    {
      "cell_type": "markdown",
      "metadata": {
        "id": "sV-EHi7u2QHO"
      },
      "source": [
        "## 2.2. Hyperparameter tuning"
      ]
    },
    {
      "cell_type": "markdown",
      "source": [
        "### 2.2.1. Random Forest"
      ],
      "metadata": {
        "id": "l2geoE-QJET3"
      }
    },
    {
      "cell_type": "markdown",
      "source": [
        "We tried tuning `n_estimators`, `max_depth` to increase the accuracy of the model. However, the tuning does not seem to help much, thus we kept default values for these. The `criterion` hypyerparameter is tuned to yield *entropy* as the best."
      ],
      "metadata": {
        "id": "z6raribC2Jki"
      }
    },
    {
      "cell_type": "code",
      "source": [
        "rf = RandomForestClassifier(random_state=0, criterion='entropy')\n",
        "rf.fit(X_train_tf, y_train)\n",
        "\n",
        "y_pred_train = rf.predict(X_train_tf)\n",
        "y_pred_test = rf.predict(X_test_tf)\n",
        "\n",
        "train_acc = accuracy_score(y_train, y_pred_train)\n",
        "test_acc = accuracy_score(y_test, y_pred_test)\n",
        "print(\"classifier: Random Forest\")\n",
        "print(\"train: \", train_acc)\n",
        "print(\"test: \", test_acc)"
      ],
      "metadata": {
        "id": "kcbI-D-kKJ8Q",
        "colab": {
          "base_uri": "https://localhost:8080/"
        },
        "outputId": "81e1f4c6-4013-416f-c833-53ce2b8233f7"
      },
      "execution_count": 12,
      "outputs": [
        {
          "output_type": "stream",
          "name": "stdout",
          "text": [
            "classifier: Random Forest\n",
            "train:  1.0\n",
            "test:  0.85128\n"
          ]
        }
      ]
    },
    {
      "cell_type": "markdown",
      "source": [
        "### 2.2.2. Logistic Regression"
      ],
      "metadata": {
        "id": "puNaLJryJJTi"
      }
    },
    {
      "cell_type": "markdown",
      "source": [
        "After tuning using GridSearchCV, we yield that `C` makes the most significant impact on the accuracy, with the optimal value of 2."
      ],
      "metadata": {
        "id": "XGzPg0ecoLNV"
      }
    },
    {
      "cell_type": "code",
      "source": [
        "lr = LogisticRegression(C=2)\n",
        "lr.fit(X_train_tf, y_train)\n",
        "\n",
        "y_pred_train = lr.predict(X_train_tf)\n",
        "y_pred_test = lr.predict(X_test_tf)\n",
        "\n",
        "train_acc = accuracy_score(y_train, y_pred_train)\n",
        "test_acc = accuracy_score(y_test, y_pred_test)\n",
        "print(\"classifier: Logistic Regression\")\n",
        "print(\"train: \", train_acc)\n",
        "print(\"test: \", test_acc)"
      ],
      "metadata": {
        "id": "iSz-3ZM8JLBp",
        "colab": {
          "base_uri": "https://localhost:8080/"
        },
        "outputId": "083b889d-1694-498d-9e72-34676bd8c1f3"
      },
      "execution_count": 13,
      "outputs": [
        {
          "output_type": "stream",
          "name": "stdout",
          "text": [
            "classifier: Logistic Regression\n",
            "train:  0.9574\n",
            "test:  0.88332\n"
          ]
        }
      ]
    },
    {
      "cell_type": "markdown",
      "source": [
        "### 2.2.3. Decision Tree"
      ],
      "metadata": {
        "id": "9gjOXXWKP33v"
      }
    },
    {
      "cell_type": "code",
      "source": [
        "dt = RandomForestClassifier(random_state=0, criterion='entropy')\n",
        "dt.fit(X_train_tf, y_train)\n",
        "\n",
        "y_pred_train = dt.predict(X_train_tf)\n",
        "y_pred_test = dt.predict(X_test_tf)\n",
        "\n",
        "train_acc = accuracy_score(y_train, y_pred_train)\n",
        "test_acc = accuracy_score(y_test, y_pred_test)\n",
        "print(\"classifier: Decision Tree\")\n",
        "print(\"train: \", train_acc)\n",
        "print(\"test: \", test_acc)"
      ],
      "metadata": {
        "colab": {
          "base_uri": "https://localhost:8080/"
        },
        "id": "tjd0AKQHP3P0",
        "outputId": "ffd310a4-c4e8-488f-9252-98e5a374d7ec"
      },
      "execution_count": 26,
      "outputs": [
        {
          "output_type": "stream",
          "name": "stdout",
          "text": [
            "classifier: Decision Tree\n",
            "train:  1.0\n",
            "test:  0.85128\n"
          ]
        }
      ]
    },
    {
      "cell_type": "markdown",
      "source": [
        "### 2.2.3. Voting Classifier"
      ],
      "metadata": {
        "id": "hoSXpoeT5Zft"
      }
    },
    {
      "cell_type": "markdown",
      "source": [
        "After tuning the base classifiers, Voting Classifier is called again to see the difference."
      ],
      "metadata": {
        "id": "Bh-pwrr-5c9C"
      }
    },
    {
      "cell_type": "code",
      "source": [
        "rf = RandomForestClassifier(random_state=0, criterion='entropy')\n",
        "lr = LogisticRegression(C=2, random_state=0)\n",
        "dt = DecisionTreeClassifier(criterion='entropy', random_state=0)\n",
        "\n",
        "clf = VotingClassifier(\n",
        "    estimators=[('rf', rf), ('lr', lr), ('dt', dt)]\n",
        ")\n",
        "clf.fit(X_train_tf, y_train)\n",
        "\n",
        "y_pred_train = clf.predict(X_train_tf)\n",
        "y_pred_test = clf.predict(X_test_tf)\n",
        "\n",
        "train_acc = accuracy_score(y_train, y_pred_train)\n",
        "test_acc = accuracy_score(y_test, y_pred_test)\n",
        "print(\"classifier: \", clf.__class__.__name__)\n",
        "print(\"train: \", train_acc)\n",
        "print(\"test: \", test_acc)"
      ],
      "metadata": {
        "id": "7fj6lvxhJn2d",
        "colab": {
          "base_uri": "https://localhost:8080/"
        },
        "outputId": "211c0cc1-1e51-478f-e62b-c79f0b4170dd"
      },
      "execution_count": 31,
      "outputs": [
        {
          "output_type": "stream",
          "name": "stdout",
          "text": [
            "classifier:  VotingClassifier\n",
            "train:  1.0\n",
            "test:  0.86932\n"
          ]
        }
      ]
    },
    {
      "cell_type": "code",
      "source": [
        "from sklearn.metrics import plot_confusion_matrix\n",
        "\n",
        "plot_confusion_matrix(clf, X_train_tf, y_train)  \n",
        "plot_confusion_matrix(clf, X_test_tf, y_test)"
      ],
      "metadata": {
        "colab": {
          "base_uri": "https://localhost:8080/",
          "height": 660
        },
        "id": "SV_Fwp0oONce",
        "outputId": "78b5bf63-31bb-4dc9-d3e8-230df245ab81"
      },
      "execution_count": 33,
      "outputs": [
        {
          "output_type": "stream",
          "name": "stderr",
          "text": [
            "/usr/local/lib/python3.7/dist-packages/sklearn/utils/deprecation.py:87: FutureWarning: Function plot_confusion_matrix is deprecated; Function `plot_confusion_matrix` is deprecated in 1.0 and will be removed in 1.2. Use one of the class methods: ConfusionMatrixDisplay.from_predictions or ConfusionMatrixDisplay.from_estimator.\n",
            "  warnings.warn(msg, category=FutureWarning)\n",
            "/usr/local/lib/python3.7/dist-packages/sklearn/utils/deprecation.py:87: FutureWarning: Function plot_confusion_matrix is deprecated; Function `plot_confusion_matrix` is deprecated in 1.0 and will be removed in 1.2. Use one of the class methods: ConfusionMatrixDisplay.from_predictions or ConfusionMatrixDisplay.from_estimator.\n",
            "  warnings.warn(msg, category=FutureWarning)\n"
          ]
        },
        {
          "output_type": "execute_result",
          "data": {
            "text/plain": [
              "<sklearn.metrics._plot.confusion_matrix.ConfusionMatrixDisplay at 0x7fc8dcab9750>"
            ]
          },
          "metadata": {},
          "execution_count": 33
        },
        {
          "output_type": "display_data",
          "data": {
            "text/plain": [
              "<Figure size 432x288 with 2 Axes>"
            ],
            "image/png": "[encoded data removed]"
          },
          "metadata": {
            "needs_background": "light"
          }
        },
        {
          "output_type": "display_data",
          "data": {
            "text/plain": [
              "<Figure size 432x288 with 2 Axes>"
            ],
            "image/png": "[encoded data removed]"
          },
          "metadata": {
            "needs_background": "light"
          }
        }
      ]
    },
    {
      "cell_type": "markdown",
      "source": [
        "## 3. Predicting new instances"
      ],
      "metadata": {
        "id": "Ly8WOos1C1if"
      }
    },
    {
      "cell_type": "code",
      "source": [
        "# positive review\n",
        "sentence = \"Was foolishly overthought about watching it at cinemas, due to criticism, but the movie was actually a welcomed change to the previous marvel phase setup, it was not boring at any point for the duration of the movie and it was interesting to see how easily things can go really bad that even Thanos Crusade that was the big deal can seem so simple and trivial.Some comments that i noticed complained about 'not enough multiverse etc etc' the movie was not called Doctor Strange visits any other universe :) the movie played with multiverse and showed some different ways that interacting with one another can have a number of unpredictable results .If someone wants a more deep dive into the theme i suggest to watch Loki series, there its explained and shown in a slower pace with more detailOverall a Solid entry for the Genre, and honestly most of the negative comments and chatter can be applied for the most marvel movies out there if taken serious!\""
      ],
      "metadata": {
        "id": "h-Vf_Wgk8aPd"
      },
      "execution_count": 34,
      "outputs": []
    },
    {
      "cell_type": "code",
      "source": [
        "review = pd.Series(sentence)\n",
        "stop_words = set(stopwords.words(\"english\"))\n",
        "review_clean = review.map(lambda x: Preprocessor.clean_text(x, word_tokenize, stop_words))"
      ],
      "metadata": {
        "id": "HjltcD7UMSh0"
      },
      "execution_count": 35,
      "outputs": []
    },
    {
      "cell_type": "code",
      "source": [
        "review_tf = tfidf.transform(review_clean)"
      ],
      "metadata": {
        "id": "CDrX8X0GBZX_"
      },
      "execution_count": 36,
      "outputs": []
    },
    {
      "cell_type": "code",
      "source": [
        "print(review_clean)"
      ],
      "metadata": {
        "colab": {
          "base_uri": "https://localhost:8080/"
        },
        "id": "gcB0-ZlABpha",
        "outputId": "8aa00f5b-cbd8-43d2-9c27-a698b316ccef"
      },
      "execution_count": 37,
      "outputs": [
        {
          "output_type": "stream",
          "name": "stdout",
          "text": [
            "0    [foolishly, overthought, watching, cinemas, du...\n",
            "dtype: object\n"
          ]
        }
      ]
    },
    {
      "cell_type": "code",
      "source": [
        "clf.predict(review_tf)"
      ],
      "metadata": {
        "colab": {
          "base_uri": "https://localhost:8080/"
        },
        "id": "24qvjZ9jBqme",
        "outputId": "5558a544-ad91-4053-c3f3-3378576c089e"
      },
      "execution_count": 38,
      "outputs": [
        {
          "output_type": "execute_result",
          "data": {
            "text/plain": [
              "array([0])"
            ]
          },
          "metadata": {},
          "execution_count": 38
        }
      ]
    },
    {
      "cell_type": "code",
      "source": [
        "# negative review\n",
        "sentence2 = \"After months of hype, we are left with a mess of a story that is mostly just CGI blobs, some light shows and some boring dialogue. I loved the first Strange movie, its my second favorite after Captain America Winter Soldier. So this was extra disappointing.Firstly, youre not going to have any idea whats going on with the main antagonist unless you watched the Disney+ show Wandavision. Even though I did watch it, it had been months, and I didnt remember all the details, so her whole backstory fell flat. This movie was less about Strange and more about her.Theres also a subplot involving Stranges old flame, but since we only saw them as exes in the previous film, it Didnt really feel that impactful.Theres also an obligatory teen sidekick, which I guess is now standard in the Phase IV fully Disneyized MCU. She might have been interesting, but shes just there as a macguffiin and has no real personality.Theres also random cameos from other Marvel properties, Im beginning to see these bits of crossover fan service are the sole purpose of having a multiverse.Seriously, I dont know why I keep giving my money to this franchise. Black Widow, Eternals, Shang Chi and now Dr Strange 2, have all been dull, uninspired CGI crap fests, that rely entirely on cameos and fan service to keep people coming back. Lets just face it, Hollywood milked all they could from Marvel. Its time to give the franchise ( and maybe all superhero movies)a good 10-15 year rest and reboot it after audiences grow nostalgic.\"\n",
        "review_clean2 = pd.Series(sentence2).map(lambda x: Preprocessor.clean_text(x, word_tokenize, stop_words))"
      ],
      "metadata": {
        "id": "igA6eOhUCWBa"
      },
      "execution_count": 39,
      "outputs": []
    },
    {
      "cell_type": "code",
      "source": [
        "clf.predict(tfidf.transform(review_clean2))"
      ],
      "metadata": {
        "colab": {
          "base_uri": "https://localhost:8080/"
        },
        "id": "iszLNsRoCgyf",
        "outputId": "9ef38a3c-c182-4da3-a0ce-096c08c67389"
      },
      "execution_count": 40,
      "outputs": [
        {
          "output_type": "execute_result",
          "data": {
            "text/plain": [
              "array([0])"
            ]
          },
          "metadata": {},
          "execution_count": 40
        }
      ]
    }
  ]
}