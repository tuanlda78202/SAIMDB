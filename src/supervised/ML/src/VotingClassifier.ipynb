{
  "nbformat": 4,
  "nbformat_minor": 0,
  "metadata": {
    "colab": {
      "name": "VotingClassifier",
      "provenance": [],
      "collapsed_sections": []
    },
    "kernelspec": {
      "name": "python3",
      "display_name": "Python 3"
    },
    "language_info": {
      "name": "python"
    }
  },
  "cells": [
    {
      "cell_type": "code",
      "execution_count": 1,
      "metadata": {
        "id": "tsYeNUiGM0pH"
      },
      "outputs": [],
      "source": [
        "import pandas as pd\n",
        "import numpy as np\n",
        "import seaborn as sns\n",
        "import matplotlib.pyplot as plt\n",
        "\n",
        "import re\n",
        "import nltk\n",
        "from nltk.corpus import stopwords \n",
        "from nltk.tokenize import word_tokenize \n",
        "from sklearn.feature_extraction.text import TfidfTransformer\n",
        "from keras.preprocessing.text import text_to_word_sequence\n",
        "from nltk.stem import WordNetLemmatizer\n",
        "from sklearn.model_selection import train_test_split\n",
        "from sklearn.feature_extraction.text import CountVectorizer\n",
        "from sklearn.metrics import confusion_matrix, accuracy_score"
      ]
    },
    {
      "cell_type": "markdown",
      "source": [
        "## 1. Prepare data"
      ],
      "metadata": {
        "id": "CMaQFrWeM5CS"
      }
    },
    {
      "cell_type": "code",
      "source": [
        "import sys\n",
        "sys.path.insert(0, '/content/drive/MyDrive/ML/preprocessing')\n",
        "import Preprocessor"
      ],
      "metadata": {
        "id": "VzTMFOHlM6DI"
      },
      "execution_count": 2,
      "outputs": []
    },
    {
      "cell_type": "code",
      "source": [
        "X_train, y_train, X_test, y_test = Preprocessor.file_read_vectorizer('/content/drive/MyDrive/ML/data/TrainingSet.csv', '/content/drive/MyDrive/ML/data/TestSet.csv')"
      ],
      "metadata": {
        "id": "dJWbSjBWNCWM"
      },
      "execution_count": 3,
      "outputs": []
    },
    {
      "cell_type": "markdown",
      "source": [
        "## 2. Model training"
      ],
      "metadata": {
        "id": "bCs6E9I7NLxd"
      }
    },
    {
      "cell_type": "markdown",
      "source": [
        "### 2.1. Individual model performances"
      ],
      "metadata": {
        "id": "O1mrpt4GNN_z"
      }
    },
    {
      "cell_type": "code",
      "source": [
        "# import model libraries\n",
        "from sklearn.ensemble import RandomForestClassifier, VotingClassifier\n",
        "from sklearn.linear_model import LogisticRegression\n",
        "from sklearn.svm import LinearSVC\n",
        "from sklearn.naive_bayes import MultinomialNB"
      ],
      "metadata": {
        "id": "BL2nhJPoNS9h"
      },
      "execution_count": 4,
      "outputs": []
    },
    {
      "cell_type": "code",
      "source": [
        "rf = RandomForestClassifier(n_estimators=100, criterion='entropy')\n",
        "lr = LogisticRegression()\n",
        "svm = LinearSVC(C=5.0)\n",
        "nb = MultinomialNB()\n",
        "\n",
        "for clf in (rf, lr, svm, nb):\n",
        "    clf.fit(X_train, y_train)\n",
        "    y_pred = clf.predict(X_test)\n",
        "    print(clf.__class__.__name__, accuracy_score(y_test, y_pred))"
      ],
      "metadata": {
        "colab": {
          "base_uri": "https://localhost:8080/"
        },
        "id": "uNGjrSEZNUXW",
        "outputId": "71000d3c-cd65-47fe-d6b7-3fde5322f910"
      },
      "execution_count": 5,
      "outputs": [
        {
          "output_type": "stream",
          "name": "stdout",
          "text": [
            "RandomForestClassifier 0.8615\n",
            "LogisticRegression 0.88845\n",
            "LinearSVC 0.90585\n",
            "MultinomialNB 0.8848\n"
          ]
        }
      ]
    },
    {
      "cell_type": "markdown",
      "source": [
        "### 2.2. Voting classifier"
      ],
      "metadata": {
        "id": "FZdc08gaNaTZ"
      }
    },
    {
      "cell_type": "code",
      "source": [
        "rf = RandomForestClassifier(n_estimators=300, criterion='entropy')\n",
        "lr = LogisticRegression(C=5)\n",
        "svm = LinearSVC(C=150, max_iter=10000)\n",
        "nb = MultinomialNB()\n",
        "\n",
        "voting_clf = VotingClassifier(\n",
        "    estimators=[('lr', lr), ('rf', rf), ('nb', nb)],\n",
        "    voting='hard')\n",
        "voting_clf.fit(X_train, y_train)\n",
        "print(voting_clf.__class__.__name__, accuracy_score(y_test, voting_clf.predict(X_test)))"
      ],
      "metadata": {
        "colab": {
          "base_uri": "https://localhost:8080/"
        },
        "id": "aU5GgpJWNZCI",
        "outputId": "28fb2c68-7627-4dd9-81e9-692ed3b22c77"
      },
      "execution_count": 6,
      "outputs": [
        {
          "output_type": "stream",
          "name": "stderr",
          "text": [
            "/usr/local/lib/python3.7/dist-packages/sklearn/linear_model/_logistic.py:818: ConvergenceWarning: lbfgs failed to converge (status=1):\n",
            "STOP: TOTAL NO. of ITERATIONS REACHED LIMIT.\n",
            "\n",
            "Increase the number of iterations (max_iter) or scale the data as shown in:\n",
            "    https://scikit-learn.org/stable/modules/preprocessing.html\n",
            "Please also refer to the documentation for alternative solver options:\n",
            "    https://scikit-learn.org/stable/modules/linear_model.html#logistic-regression\n",
            "  extra_warning_msg=_LOGISTIC_SOLVER_CONVERGENCE_MSG,\n"
          ]
        },
        {
          "output_type": "stream",
          "name": "stdout",
          "text": [
            "VotingClassifier 0.89495\n"
          ]
        }
      ]
    },
    {
      "cell_type": "code",
      "source": [
        ""
      ],
      "metadata": {
        "id": "QubxLKh1NdMo"
      },
      "execution_count": 6,
      "outputs": []
    }
  ]
}