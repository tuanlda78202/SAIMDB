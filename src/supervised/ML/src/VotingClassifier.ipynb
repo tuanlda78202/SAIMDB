{
  "nbformat": 4,
  "nbformat_minor": 0,
  "metadata": {
    "colab": {
      "name": "VotingClassifier",
      "provenance": [],
      "collapsed_sections": []
    },
    "kernelspec": {
      "name": "python3",
      "display_name": "Python 3"
    },
    "language_info": {
      "name": "python"
    }
  },
  "cells": [
    {
      "cell_type": "markdown",
      "source": [
        "## 0. Importing necessary libraries"
      ],
      "metadata": {
        "id": "HL-chqWmkDk5"
      }
    },
    {
      "cell_type": "code",
      "execution_count": 1,
      "metadata": {
        "id": "tsYeNUiGM0pH"
      },
      "outputs": [],
      "source": [
        "import pandas as pd\n",
        "import numpy as np\n",
        "import seaborn as sns\n",
        "import matplotlib.pyplot as plt\n",
        "\n",
        "import re\n",
        "import nltk\n",
        "from nltk.corpus import stopwords \n",
        "from nltk.tokenize import word_tokenize \n",
        "from sklearn.feature_extraction.text import TfidfTransformer\n",
        "from keras.preprocessing.text import text_to_word_sequence\n",
        "from nltk.stem import WordNetLemmatizer\n",
        "from sklearn.model_selection import train_test_split\n",
        "from sklearn.feature_extraction.text import CountVectorizer\n",
        "from sklearn.metrics import confusion_matrix, accuracy_score"
      ]
    },
    {
      "cell_type": "markdown",
      "source": [
        "## 1. Prepare data"
      ],
      "metadata": {
        "id": "CMaQFrWeM5CS"
      }
    },
    {
      "cell_type": "code",
      "source": [
        "import sys\n",
        "sys.path.insert(0, '/content/drive/MyDrive/ML/preprocessing')\n",
        "import Preprocessor"
      ],
      "metadata": {
        "id": "VzTMFOHlM6DI"
      },
      "execution_count": 2,
      "outputs": []
    },
    {
      "cell_type": "code",
      "source": [
        "X_train, y_train, X_test, y_test = Preprocessor.file_read_vectorizer('/content/drive/MyDrive/ML/data/TrainingSet.csv', '/content/drive/MyDrive/ML/data/TestSet.csv')"
      ],
      "metadata": {
        "id": "dJWbSjBWNCWM"
      },
      "execution_count": 3,
      "outputs": []
    },
    {
      "cell_type": "markdown",
      "source": [
        "## 2. Model training"
      ],
      "metadata": {
        "id": "bCs6E9I7NLxd"
      }
    },
    {
      "cell_type": "markdown",
      "source": [
        "### 2.1. Individual model performances"
      ],
      "metadata": {
        "id": "O1mrpt4GNN_z"
      }
    },
    {
      "cell_type": "code",
      "source": [
        "# import model libraries\n",
        "from sklearn.ensemble import RandomForestClassifier, VotingClassifier\n",
        "from sklearn.linear_model import LogisticRegression\n",
        "from sklearn.naive_bayes import MultinomialNB"
      ],
      "metadata": {
        "id": "BL2nhJPoNS9h"
      },
      "execution_count": 4,
      "outputs": []
    },
    {
      "cell_type": "code",
      "source": [
        "rf = RandomForestClassifier(n_estimators=100, criterion='entropy')\n",
        "lr = LogisticRegression(C=100, max_iter=10000)\n",
        "nb = MultinomialNB()\n",
        "\n",
        "# SVM is time-intensive if we want to extract the output as probabilities, \n",
        "# thus not included in the base classifiers of Voting Classifier\n",
        "\n",
        "for clf in (rf, lr, nb):\n",
        "    clf.fit(X_train, y_train)\n",
        "    y_pred = clf.predict(X_test)\n",
        "    print(clf.__class__.__name__, accuracy_score(y_test, y_pred))"
      ],
      "metadata": {
        "colab": {
          "base_uri": "https://localhost:8080/"
        },
        "id": "uNGjrSEZNUXW",
        "outputId": "c4d1a22e-4381-4010-bdb8-67c15581f8ea"
      },
      "execution_count": 6,
      "outputs": [
        {
          "output_type": "stream",
          "name": "stdout",
          "text": [
            "RandomForestClassifier 0.8644\n",
            "LogisticRegression 0.9017\n",
            "MultinomialNB 0.8871\n"
          ]
        }
      ]
    },
    {
      "cell_type": "markdown",
      "source": [
        "### 2.2. Voting classifier"
      ],
      "metadata": {
        "id": "FZdc08gaNaTZ"
      }
    },
    {
      "cell_type": "code",
      "source": [
        "rf = RandomForestClassifier(n_estimators=250, criterion='entropy')\n",
        "lr = LogisticRegression(C=100, max_iter=10000)\n",
        "nb = MultinomialNB()\n",
        "\n",
        "voting_clf = VotingClassifier(\n",
        "    estimators=[('lr', lr), ('rf', rf), ('nb', nb)],\n",
        "    voting='soft')\n",
        "voting_clf.fit(X_train, y_train)\n",
        "print(voting_clf.__class__.__name__, accuracy_score(y_test, voting_clf.predict(X_test)))"
      ],
      "metadata": {
        "colab": {
          "base_uri": "https://localhost:8080/"
        },
        "id": "aU5GgpJWNZCI",
        "outputId": "d0795065-aa3d-4080-edac-6184768bb526"
      },
      "execution_count": 8,
      "outputs": [
        {
          "output_type": "stream",
          "name": "stdout",
          "text": [
            "VotingClassifier 0.9045\n"
          ]
        }
      ]
    },
    {
      "cell_type": "markdown",
      "source": [
        "### 2.3. Model evaluation"
      ],
      "metadata": {
        "id": "TkyqzMoNkmja"
      }
    },
    {
      "cell_type": "code",
      "source": [
        "from sklearn.datasets import make_classification\n",
        "from sklearn.metrics import plot_confusion_matrix\n",
        "\n",
        "plot_confusion_matrix(voting_clf, X_test, y_test)  \n",
        "plt.show()"
      ],
      "metadata": {
        "id": "QubxLKh1NdMo",
        "colab": {
          "base_uri": "https://localhost:8080/",
          "height": 333
        },
        "outputId": "18e5eaaa-635e-47fc-b237-ab9672c2a7e0"
      },
      "execution_count": 9,
      "outputs": [
        {
          "output_type": "stream",
          "name": "stderr",
          "text": [
            "/usr/local/lib/python3.7/dist-packages/sklearn/utils/deprecation.py:87: FutureWarning: Function plot_confusion_matrix is deprecated; Function `plot_confusion_matrix` is deprecated in 1.0 and will be removed in 1.2. Use one of the class methods: ConfusionMatrixDisplay.from_predictions or ConfusionMatrixDisplay.from_estimator.\n",
            "  warnings.warn(msg, category=FutureWarning)\n"
          ]
        },
        {
          "output_type": "display_data",
          "data": {
            "text/plain": [
              "<Figure size 432x288 with 2 Axes>"
            ],
            "image/png": "[encoded data removed]"
          },
          "metadata": {
            "needs_background": "light"
          }
        }
      ]
    },
    {
      "cell_type": "code",
      "source": [
        ""
      ],
      "metadata": {
        "id": "vtWtdXNskxYc"
      },
      "execution_count": null,
      "outputs": []
    }
  ]
}