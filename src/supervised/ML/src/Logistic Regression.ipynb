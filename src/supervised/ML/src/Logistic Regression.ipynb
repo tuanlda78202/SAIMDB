{
 "cells": [
  {
   "cell_type": "code",
   "execution_count": 1,
   "id": "167f1440",
   "metadata": {},
   "outputs": [],
   "source": [
    "import pandas as pd\n",
    "import numpy as np\n",
    "import seaborn as sns\n",
    "\n",
    "\n",
    "import re\n",
    "import nltk\n",
    "from nltk.corpus import stopwords \n",
    "from nltk.tokenize import word_tokenize \n",
    "from sklearn.feature_extraction.text import TfidfTransformer\n",
    "from keras.preprocessing.text import text_to_word_sequence\n",
    "from nltk.stem import WordNetLemmatizer\n",
    "from sklearn.model_selection import train_test_split\n",
    "from sklearn.feature_extraction.text import CountVectorizer\n",
    "\n",
    "from sklearn.cluster import KMeans\n",
    "from sklearn.svm import LinearSVC \n",
    "from sklearn import neighbors\n",
    "from sklearn.naive_bayes import GaussianNB   \n",
    "from sklearn.tree import DecisionTreeClassifier\n",
    "from sklearn.ensemble import RandomForestClassifier\n",
    "from sklearn.linear_model import LogisticRegression\n",
    "from sklearn.naive_bayes import GaussianNB\n",
    "from sklearn.neighbors import KNeighborsClassifier\n",
    "\n",
    "\n",
    "from sklearn.metrics import confusion_matrix, accuracy_score"
   ]
  },
  {
   "cell_type": "markdown",
   "id": "ca04363a",
   "metadata": {},
   "source": [
    "# 1. Prepare data"
   ]
  },
  {
   "cell_type": "code",
   "execution_count": 2,
   "id": "bf8ac9ec",
   "metadata": {},
   "outputs": [],
   "source": [
    "import sys\n",
    "sys.path.insert(0, '../preprocessing')\n",
    "import Preprocessor"
   ]
  },
  {
   "cell_type": "code",
   "execution_count": 3,
   "id": "5904fa20",
   "metadata": {},
   "outputs": [],
   "source": [
    "X_train, y_train, X_test, y_test = Preprocessor.file_read_vectorizer('../data/TrainingSet.csv', '../data/TestSet.csv')"
   ]
  },
  {
   "cell_type": "markdown",
   "id": "3e261fdc",
   "metadata": {},
   "source": [
    "# 2. Model training"
   ]
  },
  {
   "cell_type": "markdown",
   "id": "1a02d882",
   "metadata": {},
   "source": [
    "## 2.1. Default hyperparameter values"
   ]
  },
  {
   "cell_type": "code",
   "execution_count": 4,
   "id": "7fcafbd7",
   "metadata": {},
   "outputs": [
    {
     "name": "stdout",
     "output_type": "stream",
     "text": [
      "0.88845\n"
     ]
    }
   ],
   "source": [
    "classifier = LogisticRegression() #default C = 1.0\n",
    "classifier.fit(X_train, y_train)\n",
    "\n",
    "y_pred = classifier.predict(X_test)\n",
    "print(accuracy_score(y_test, y_pred))"
   ]
  },
  {
   "cell_type": "markdown",
   "id": "f6b6d735",
   "metadata": {},
   "source": [
    "## Hyperparameter tuning\n",
    "Logistic Regression has one hyperparameter to tune: C i.e. the penalty term. We will choose this hyperparameter based on the Grid Search with Cross-validation schema."
   ]
  },
  {
   "cell_type": "code",
   "execution_count": 7,
   "id": "a2dab334",
   "metadata": {},
   "outputs": [
    {
     "name": "stdout",
     "output_type": "stream",
     "text": [
      "{'C': 100}\n"
     ]
    }
   ],
   "source": [
    "from sklearn.model_selection import GridSearchCV\n",
    "\n",
    "param_grid = {'C': [0.1,1, 5, 50, 100, 150]}\n",
    "\n",
    "grid_search = GridSearchCV(LogisticRegression(max_iter=10000), param_grid, cv=5, return_train_score=True)\n",
    "\n",
    "grid_search.fit(X_train, y_train)\n",
    "print(grid_search.best_params_)"
   ]
  },
  {
   "cell_type": "code",
   "execution_count": 8,
   "id": "0cbcf9ef",
   "metadata": {},
   "outputs": [
    {
     "name": "stdout",
     "output_type": "stream",
     "text": [
      "0.90395\n"
     ]
    }
   ],
   "source": [
    "classifier = LogisticRegression(C = 100, max_iter = 10000)\n",
    "classifier.fit(X_train, y_train)\n",
    "\n",
    "y_pred = classifier.predict(X_test)\n",
    "print(accuracy_score(y_test, y_pred))"
   ]
  },
  {
   "cell_type": "markdown",
   "id": "7b59dc95",
   "metadata": {},
   "source": [
    "## 2.3. Model evaluation"
   ]
  },
  {
   "cell_type": "code",
   "execution_count": 10,
   "id": "877cbe7a",
   "metadata": {},
   "outputs": [],
   "source": [
    "from sklearn.datasets import make_classification\n",
    "from sklearn.metrics import plot_confusion_matrix"
   ]
  },
  {
   "cell_type": "code",
   "execution_count": 14,
   "id": "5b5f9f6e",
   "metadata": {},
   "outputs": [
    {
     "name": "stderr",
     "output_type": "stream",
     "text": [
      "D:\\anaconda3\\lib\\site-packages\\sklearn\\utils\\deprecation.py:87: FutureWarning: Function plot_confusion_matrix is deprecated; Function `plot_confusion_matrix` is deprecated in 1.0 and will be removed in 1.2. Use one of the class methods: ConfusionMatrixDisplay.from_predictions or ConfusionMatrixDisplay.from_estimator.\n",
      "  warnings.warn(msg, category=FutureWarning)\n"
     ]
    },
    {
     "data": {
      "text/plain": [
       "<sklearn.metrics._plot.confusion_matrix.ConfusionMatrixDisplay at 0x1d7c3dbb310>"
      ]
     },
     "execution_count": 14,
     "metadata": {},
     "output_type": "execute_result"
    },
    {
     "data": {
      "image/png": "[encoded data removed]",
      "text/plain": [
       "<Figure size 432x288 with 2 Axes>"
      ]
     },
     "metadata": {
      "needs_background": "light"
     },
     "output_type": "display_data"
    }
   ],
   "source": [
    "plot_confusion_matrix(classifier, X_test, y_test)  "
   ]
  },
  {
   "cell_type": "markdown",
   "id": "2d4eb0a3",
   "metadata": {},
   "source": [
    "# 3. Predicting new instances"
   ]
  },
  {
   "cell_type": "code",
   "execution_count": 23,
   "id": "89a2d4b3",
   "metadata": {},
   "outputs": [],
   "source": [
    "#positive\n",
    "sentence = \"Was foolishly overthought about watching it at cinemas, due to criticism, but the movie was actually a welcomed change to the previous marvel phase setup, it was not boring at any point for the duration of the movie and it was interesting to see how easily things can go really bad that even Thanos Crusade that was the big deal can seem so simple and trivial.Some comments that i noticed complained about 'not enough multiverse etc etc' the movie was not called Doctor Strange visits any other universe :) the movie played with multiverse and showed some different ways that interacting with one another can have a number of unpredictable results .If someone wants a more deep dive into the theme i suggest to watch Loki series, there its explained and shown in a slower pace with more detailOverall a Solid entry for the Genre, and honestly most of the negative comments and chatter can be applied for the most marvel movies out there if taken serious!\"\n",
    "vec,review_tf = Preprocessor.vectorize_new(sentence)"
   ]
  },
  {
   "cell_type": "code",
   "execution_count": 24,
   "id": "7ee3f3c9",
   "metadata": {},
   "outputs": [
    {
     "name": "stdout",
     "output_type": "stream",
     "text": [
      "  (0, 2076228)\t0.13445214347323473\n",
      "  (0, 2076225)\t0.09894691220652085\n",
      "  (0, 2070306)\t0.13445214347323473\n",
      "  (0, 2070027)\t0.05769710845773085\n",
      "  (0, 2062473)\t0.036420280996354665\n",
      "  (0, 2058394)\t0.032053367439103\n",
      "  (0, 2052524)\t0.13445214347323473\n",
      "  (0, 2052356)\t0.05224557390393417\n",
      "  (0, 2039859)\t0.08582455951199523\n",
      "  (0, 2001301)\t0.08757426666728792\n",
      "  (0, 1997998)\t0.13445214347323473\n",
      "  (0, 1997883)\t0.07550861995628141\n",
      "  (0, 1901052)\t0.08789091415321881\n",
      "  (0, 1900481)\t0.039657263245114815\n",
      "  (0, 1895362)\t0.058632293709226284\n",
      "  (0, 1865430)\t0.12567326826501293\n",
      "  (0, 1864887)\t0.05434127739243571\n",
      "  (0, 1838152)\t0.10593899314736344\n",
      "  (0, 1837898)\t0.06637295383794296\n",
      "  (0, 1814719)\t0.056634559486866305\n",
      "  (0, 1751042)\t0.12053795546969258\n",
      "  (0, 1749935)\t0.044883596967115094\n",
      "  (0, 1748153)\t0.12567326826501293\n",
      "  (0, 1748055)\t0.06417176459198497\n",
      "  (0, 1737531)\t0.11858560015552562\n",
      "  :\t:\n",
      "  (0, 454309)\t0.05936932876894218\n",
      "  (0, 445877)\t0.05734729824308704\n",
      "  (0, 420917)\t0.10351923277257238\n",
      "  (0, 417181)\t0.11406822648575445\n",
      "  (0, 417106)\t0.07651233224653363\n",
      "  (0, 360786)\t0.13445214347323473\n",
      "  (0, 360769)\t0.09095987230731559\n",
      "  (0, 354917)\t0.13445214347323473\n",
      "  (0, 354620)\t0.11645043517885528\n",
      "  (0, 319636)\t0.09247718322258272\n",
      "  (0, 302400)\t0.10528935127753267\n",
      "  (0, 289784)\t0.13445214347323473\n",
      "  (0, 289372)\t0.05554160232200783\n",
      "  (0, 252066)\t0.13445214347323473\n",
      "  (0, 251771)\t0.05028224113319485\n",
      "  (0, 212938)\t0.12931683067791436\n",
      "  (0, 212317)\t0.047964868055924655\n",
      "  (0, 185407)\t0.08789091415321881\n",
      "  (0, 185072)\t0.04027680296544602\n",
      "  (0, 140997)\t0.08465462926811224\n",
      "  (0, 140299)\t0.031080950148014066\n",
      "  (0, 95295)\t0.09095987230731559\n",
      "  (0, 81473)\t0.13445214347323473\n",
      "  (0, 80336)\t0.037464837189902664\n",
      "  (0, 23212)\t0.03774001497526851\n"
     ]
    }
   ],
   "source": [
    "print(review_tf)"
   ]
  },
  {
   "cell_type": "code",
   "execution_count": 25,
   "id": "5838e314",
   "metadata": {},
   "outputs": [
    {
     "data": {
      "text/plain": [
       "array([1], dtype=int64)"
      ]
     },
     "execution_count": 25,
     "metadata": {},
     "output_type": "execute_result"
    }
   ],
   "source": [
    "classifier.predict(review_tf)"
   ]
  },
  {
   "cell_type": "code",
   "execution_count": 26,
   "id": "735f5514",
   "metadata": {},
   "outputs": [],
   "source": [
    "#negative\n",
    "sentence2 = \"After months of hype, we are left with a mess of a story that is mostly just CGI blobs, some light shows and some boring dialogue. I loved the first Strange movie, its my second favorite after Captain America Winter Soldier. So this was extra disappointing.Firstly, youre not going to have any idea whats going on with the main antagonist unless you watched the Disney+ show Wandavision. Even though I did watch it, it had been months, and I didnt remember all the details, so her whole backstory fell flat. This movie was less about Strange and more about her.Theres also a subplot involving Stranges old flame, but since we only saw them as exes in the previous film, it Didnt really feel that impactful.Theres also an obligatory teen sidekick, which I guess is now standard in the Phase IV fully Disneyized MCU. She might have been interesting, but shes just there as a macguffiin and has no real personality.Theres also random cameos from other Marvel properties, Im beginning to see these bits of crossover fan service are the sole purpose of having a multiverse.Seriously, I dont know why I keep giving my money to this franchise. Black Widow, Eternals, Shang Chi and now Dr Strange 2, have all been dull, uninspired CGI crap fests, that rely entirely on cameos and fan service to keep people coming back. Lets just face it, Hollywood milked all they could from Marvel. Its time to give the franchise ( and maybe all superhero movies)a good 10-15 year rest and reboot it after audiences grow nostalgic.\"\n",
    "vec,review_tf = Preprocessor.vectorize_new(sentence2)"
   ]
  },
  {
   "cell_type": "code",
   "execution_count": 27,
   "id": "1b20ec00",
   "metadata": {},
   "outputs": [
    {
     "name": "stdout",
     "output_type": "stream",
     "text": [
      "  (0, 2145971)\t0.10171391152869726\n",
      "  (0, 2137043)\t0.03576592961212814\n",
      "  (0, 2097998)\t0.06440116719406086\n",
      "  (0, 2090850)\t0.06639150097695587\n",
      "  (0, 2088171)\t0.03251896597652718\n",
      "  (0, 2083847)\t0.08332611710279487\n",
      "  (0, 2083829)\t0.06718887207445377\n",
      "  (0, 2061225)\t0.03518128921183287\n",
      "  (0, 2058394)\t0.02521151626440657\n",
      "  (0, 1999123)\t0.10575308221202742\n",
      "  (0, 1998710)\t0.0466044114850197\n",
      "  (0, 1996088)\t0.06143775995443715\n",
      "  (0, 1922179)\t0.07946326643195804\n",
      "  (0, 1920606)\t0.02055016460678742\n",
      "  (0, 1909908)\t0.0907697329545184\n",
      "  (0, 1907871)\t0.029605304286174715\n",
      "  (0, 1880090)\t0.052897760033467085\n",
      "  (0, 1843200)\t0.07019403771597225\n",
      "  (0, 1831213)\t0.08099888785615117\n",
      "  (0, 1831150)\t0.06254576978213397\n",
      "  (0, 1815088)\t0.08790389574699986\n",
      "  (0, 1814719)\t0.1336374208117138\n",
      "  (0, 1811023)\t0.0887706874783341\n",
      "  (0, 1808761)\t0.022087388150773865\n",
      "  (0, 1784577)\t0.050789206059926456\n",
      "  :\t:\n",
      "  (0, 352323)\t0.04183074610958787\n",
      "  (0, 307485)\t0.08186567958748542\n",
      "  (0, 286447)\t0.10171391152869726\n",
      "  (0, 286428)\t0.10575308221202742\n",
      "  (0, 286388)\t0.1100201126387197\n",
      "  (0, 261459)\t0.09327328221365544\n",
      "  (0, 261450)\t0.0547387645589927\n",
      "  (0, 255309)\t0.12671886335488594\n",
      "  (0, 212504)\t0.0907697329545184\n",
      "  (0, 212317)\t0.03772667734238847\n",
      "  (0, 198481)\t0.09884807432117873\n",
      "  (0, 194466)\t0.09194306643033003\n",
      "  (0, 193606)\t0.037999920491043664\n",
      "  (0, 192276)\t0.05402177746479178\n",
      "  (0, 167373)\t0.08443412693049168\n",
      "  (0, 166774)\t0.039465608285265574\n",
      "  (0, 139907)\t0.08020151675865327\n",
      "  (0, 136436)\t0.028827770873243903\n",
      "  (0, 124096)\t0.050532494791619864\n",
      "  (0, 82918)\t0.07496067169663671\n",
      "  (0, 67038)\t0.04718619020777942\n",
      "  (0, 59776)\t0.09662515828569561\n",
      "  (0, 59242)\t0.09884807432117873\n",
      "  (0, 58906)\t0.10171391152869726\n",
      "  (0, 56819)\t0.07102702679383044\n"
     ]
    }
   ],
   "source": [
    "print(review_tf)"
   ]
  },
  {
   "cell_type": "code",
   "execution_count": 28,
   "id": "94201d5d",
   "metadata": {},
   "outputs": [
    {
     "data": {
      "text/plain": [
       "array([0], dtype=int64)"
      ]
     },
     "execution_count": 28,
     "metadata": {},
     "output_type": "execute_result"
    }
   ],
   "source": [
    "classifier.predict(review_tf)"
   ]
  }
 ],
 "metadata": {
  "kernelspec": {
   "display_name": "Python 3 (ipykernel)",
   "language": "python",
   "name": "python3"
  },
  "language_info": {
   "codemirror_mode": {
    "name": "ipython",
    "version": 3
   },
   "file_extension": ".py",
   "mimetype": "text/x-python",
   "name": "python",
   "nbconvert_exporter": "python",
   "pygments_lexer": "ipython3",
   "version": "3.9.12"
  }
 },
 "nbformat": 4,
 "nbformat_minor": 5
}
