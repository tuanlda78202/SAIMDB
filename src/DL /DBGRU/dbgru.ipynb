{
  "cells": [
    {
      "cell_type": "markdown",
      "metadata": {
        "id": "9TnJztDZGw-n"
      },
      "source": [
        "# SA-DBGRU"
      ]
    },
    {
      "cell_type": "markdown",
      "metadata": {
        "id": "_2VQo4bajwUU"
      },
      "source": [
        "## Setup"
      ]
    },
    {
      "cell_type": "code",
      "execution_count": 1,
      "metadata": {
        "colab": {
          "base_uri": "https://localhost:8080/"
        },
        "id": "phKb7GXsF2FQ",
        "outputId": "277b2daa-cf2a-475e-f640-3f299854bb81"
      },
      "outputs": [
        {
          "output_type": "stream",
          "name": "stdout",
          "text": [
            "Tue Jun 21 08:32:39 2022       \n",
            "+-----------------------------------------------------------------------------+\n",
            "| NVIDIA-SMI 460.32.03    Driver Version: 460.32.03    CUDA Version: 11.2     |\n",
            "|-------------------------------+----------------------+----------------------+\n",
            "| GPU  Name        Persistence-M| Bus-Id        Disp.A | Volatile Uncorr. ECC |\n",
            "| Fan  Temp  Perf  Pwr:Usage/Cap|         Memory-Usage | GPU-Util  Compute M. |\n",
            "|                               |                      |               MIG M. |\n",
            "|===============================+======================+======================|\n",
            "|   0  Tesla P100-PCIE...  Off  | 00000000:00:04.0 Off |                    0 |\n",
            "| N/A   41C    P0    30W / 250W |      0MiB / 16280MiB |      0%      Default |\n",
            "|                               |                      |                  N/A |\n",
            "+-------------------------------+----------------------+----------------------+\n",
            "                                                                               \n",
            "+-----------------------------------------------------------------------------+\n",
            "| Processes:                                                                  |\n",
            "|  GPU   GI   CI        PID   Type   Process name                  GPU Memory |\n",
            "|        ID   ID                                                   Usage      |\n",
            "|=============================================================================|\n",
            "|  No running processes found                                                 |\n",
            "+-----------------------------------------------------------------------------+\n"
          ]
        }
      ],
      "source": [
        "!nvidia-smi"
      ]
    },
    {
      "cell_type": "code",
      "execution_count": 2,
      "metadata": {
        "id": "z682XYsrjkY9"
      },
      "outputs": [],
      "source": [
        "import numpy as np\n",
        "import pandas as pd\n",
        "import matplotlib.pyplot as plt\n",
        "import tensorflow_datasets as tfds\n",
        "import tensorflow as tf\n",
        "from tensorflow import keras\n",
        "from keras import Sequential\n",
        "from keras.layers import TextVectorization, Embedding, Bidirectional, GRU, Dropout, Dense\n",
        "from tensorflow.keras.callbacks import EarlyStopping\n",
        "tfds.disable_progress_bar()"
      ]
    },
    {
      "cell_type": "code",
      "execution_count": 3,
      "metadata": {
        "id": "SHRwRoP2nVHX",
        "colab": {
          "base_uri": "https://localhost:8080/"
        },
        "outputId": "a4234888-4833-44c4-ada6-70a864ec67ce"
      },
      "outputs": [
        {
          "output_type": "execute_result",
          "data": {
            "text/plain": [
              "(TensorSpec(shape=(), dtype=tf.string, name=None),\n",
              " TensorSpec(shape=(), dtype=tf.int64, name=None))"
            ]
          },
          "metadata": {},
          "execution_count": 3
        }
      ],
      "source": [
        "# Load data \n",
        "dataset, info = tfds.load('imdb_reviews', with_info=True, as_supervised=True)\n",
        "train_dataset, test_dataset = dataset['train'], dataset['test']\n",
        "\n",
        "# Dataset = Text (string) + Label (int)\n",
        "train_dataset.element_spec"
      ]
    },
    {
      "cell_type": "markdown",
      "metadata": {
        "id": "z2qVJzcEluH_"
      },
      "source": [
        "Performing efficient batching for the potentially large number of training examples, use the `tf.data.Dataset API`. After this step, you would have a `tf.data.Dataset` object of `(target_word, context_word), (label)` elements to train. \n",
        "\n",
        "Next shuffle the data for training and create batches of these `(text, label)` pairs:"
      ]
    },
    {
      "cell_type": "code",
      "execution_count": 4,
      "metadata": {
        "id": "VznrltNOnUc5",
        "colab": {
          "base_uri": "https://localhost:8080/"
        },
        "outputId": "d28b82a0-a30b-4f1c-9f82-7ac51d53cd6d"
      },
      "outputs": [
        {
          "output_type": "stream",
          "name": "stdout",
          "text": [
            "Texts:  [b'So, American Pie: Beta House is the 6th American Pie movie in the series. Although, it really has nothing to do with the original three American Pie movies except some of the characters are supposed to be related to the characters in the original trilogy and Eugene Levy is in it (can\\'t that guy get better gigs?).<br /><br />There is very little to compliment this movie on. There aren\\'t any funny jokes. The acting is painful to watch, especially the girl with the \"southern\" accent which sounds more like a Canadian\\'s impersonation of a British woman pretending to be a hillbilly by using the word \"ya\\'ll.\" This movie makes me feel like such an idiot. Why didn\\'t I apply to a college where nobody goes to class (but everybody gets good grades), girls consistently take their clothes off in public, everybody has promiscuous unprotected sex without the burden of babies and STIs, and you can ejaculate all over a girl\\'s family photos without her minding? Really, this series has lowered itself to the standards of softcore porn. Maybe for the next one, they\\'ll finally break down and hire Ron Jeremy as the lead. I\\'m sure they can just tie it in to the series by making his character Stifler\\'s 3rd uncle once removed or something like that.'\n",
            " b'Whale-hunters pick on the wrong freaking whale.<br /><br />A group of yahoo whale exploitists capture a female and string her up by her tail-fin. The whale\\'s mate sees the whole thing including the moment the female\\'s unborn baby slips out and slops onto the deck. \\'Captain Nolan\\' (Richard Harris) could tell that the big male is really mad by the way it stared him down as if to say, \"Get out of town before high-tide.\" <br /><br />This story of revenge has Harris\\' presence and Bo\\'s beauty, but not much else. This was Bo\\'s first \\'released\\' film, though her first acting job was four years previous in \\'And Once Upon a Love\\' released in 1981 as \\'Fantasies\\' (directed by John Derek).<br /><br />P.S. Today, the date of this review (November 20), is Bo Derek\\'s birthday. I hope Bo has a \\'whale\\' of a good time..... get it?..... whale?..... hee-hee.'\n",
            " b\"Evidently, not many people have seen this movie, because no one is posting any more comments. This is not a movie to be missed. After all, it has won the George Peabody award as well as the Humanitas award. Paul Winfield should have won an award for his awesome performance in this movie. Eugene Logan who was a co-writer on this made for TV movie also was part of another movie on humanity, or loss of it, by being a technical adviser to Truman Capote's movie the Glass House. This movie is now available on DVD. If anyone is interested, I will post another letter telling how it was that Eugene Logan came to be the technical adviser to a movie of such an amazing person as Truman Capote. Thanks for reading this and I hope you will find a way to view these two movies.\"]\n",
            "Labels:  [0 0 1]\n"
          ]
        }
      ],
      "source": [
        "BUFFER_SIZE = 10000\n",
        "BATCH_SIZE = 128\n",
        "\n",
        "train_dataset = train_dataset.shuffle(BUFFER_SIZE).batch(BATCH_SIZE).prefetch(tf.data.AUTOTUNE)\n",
        "test_dataset = test_dataset.batch(BATCH_SIZE).prefetch(tf.data.AUTOTUNE)\n",
        "\n",
        "# Each batch pair (text, label) mix by 64 pairs\n",
        "for example, label in train_dataset.take(1):\n",
        "  print('Texts: ', example.numpy()[:3])\n",
        "  print('Labels: ', label.numpy()[:3])"
      ]
    },
    {
      "cell_type": "markdown",
      "metadata": {
        "id": "s5eWCo88voPY"
      },
      "source": [
        "## Encoder"
      ]
    },
    {
      "cell_type": "code",
      "execution_count": 5,
      "metadata": {
        "id": "Nvo5oeyLj8va"
      },
      "outputs": [],
      "source": [
        "# Size Vocab (dim each word before pass Embedding Layer)\n",
        "VOCAB_SIZE = 10000\n",
        "\n",
        "# Embedding Layer Dim: Aim covert large dim to small dim\n",
        "embedding_dim = 128"
      ]
    },
    {
      "cell_type": "code",
      "execution_count": 6,
      "metadata": {
        "id": "uC25Lu1Yvuqy"
      },
      "outputs": [],
      "source": [
        "encoder = tf.keras.layers.TextVectorization(VOCAB_SIZE)\n",
        "\n",
        "# Adapt TextVectorization for Train text to sets the layer's vocabulary\n",
        "encoder.adapt(train_dataset.map(lambda text, label: text))"
      ]
    },
    {
      "cell_type": "code",
      "execution_count": 7,
      "metadata": {
        "colab": {
          "base_uri": "https://localhost:8080/"
        },
        "id": "tBoyjjWg0Ac9",
        "outputId": "bfc89e6d-8e11-427e-98e2-eb82e825f05d"
      },
      "outputs": [
        {
          "output_type": "execute_result",
          "data": {
            "text/plain": [
              "array(['', '[UNK]', 'the', 'and', 'a', 'of', 'to', 'is', 'in', 'it'],\n",
              "      dtype='<U17')"
            ]
          },
          "metadata": {},
          "execution_count": 7
        }
      ],
      "source": [
        "# After the padding and unknown tokens they're sorted by frequency\n",
        "vocab = np.array(encoder.get_vocabulary())\n",
        "vocab[:10]"
      ]
    },
    {
      "cell_type": "markdown",
      "metadata": {
        "id": "mjId5pua3jHQ"
      },
      "source": [
        "Once the vocabulary is set, the layer can encode text into indices. The tensors of **indices are 0-padded to the longest sequence in the batch** (unless you set a fixed `output_sequence_length`):"
      ]
    },
    {
      "cell_type": "code",
      "execution_count": 8,
      "metadata": {
        "colab": {
          "base_uri": "https://localhost:8080/"
        },
        "id": "RGc7C9WiwRWs",
        "outputId": "4ca68615-e294-4b86-c379-d0691dc97cc5"
      },
      "outputs": [
        {
          "output_type": "execute_result",
          "data": {
            "text/plain": [
              "(3, 921)"
            ]
          },
          "metadata": {},
          "execution_count": 8
        }
      ],
      "source": [
        "# Width of list = size of longest sequence choose from batch\n",
        "encoded_example = encoder(example)[:3].numpy()\n",
        "encoded_example.shape"
      ]
    },
    {
      "cell_type": "markdown",
      "metadata": {
        "id": "bjUqGVBxGw-t"
      },
      "source": [
        "## DBGRU"
      ]
    },
    {
      "cell_type": "markdown",
      "source": [
        "### Architecture"
      ],
      "metadata": {
        "id": "V7W09KqBJMVY"
      }
    },
    {
      "cell_type": "markdown",
      "metadata": {
        "id": "W7zsmInBOCPO"
      },
      "source": [
        "\n",
        "![A drawing of the information flow in the model](https://github.com/tensorflow/text/blob/master/docs/tutorials/images/bidirectional.png?raw=1)"
      ]
    },
    {
      "cell_type": "markdown",
      "metadata": {
        "id": "bgs6nnSTGw-t"
      },
      "source": [
        "**Architecture of Bidirectional Model:**\n",
        "1. This model can be build as a `Sequential`.\n",
        "\n",
        "2. The first layer is the `encoder`, which converts the text to a sequence of token indices.\n",
        "\n",
        "3. After the encoder is an embedding layer. An embedding layer stores one vector per word. When called, it converts the sequences of word indices to sequences of vectors. These vectors are trainable. After training (on enough data), words with similar meanings often have similar vectors.\n",
        "\n",
        " This index-lookup is much more efficient than the equivalent operation of passing a one-hot encoded vector through a `Dense` layer.\n",
        "\n",
        "4. A recurrent neural network (RNN) processes sequence input by iterating through the elements. RNNs pass the outputs from one timestep to their input on the next timestep.\n",
        "\n",
        "  The `Bidirectional` wrapper can also be used with an RNN layer. This propagates the input forward and backwards through the RNN layer and then concatenates the final output. \n",
        "\n",
        "  * The main advantage of a bidirectional RNN is that the signal from the beginning of the input doesn't need to be processed all the way through every timestep to affect the output.  \n",
        "\n",
        "  * The main disadvantage of a bidirectional RNN is that you can't efficiently stream predictions as words are being added to the end.\n",
        "\n",
        "5. After the RNN has converted the sequence to a single vector the two `Dense` do some final processing, and convert from this vector representation to a single logit as the classification output. \n"
      ]
    },
    {
      "cell_type": "markdown",
      "source": [
        "**Architecture of Deep Bidirectional Model:**\n",
        "\n",
        "Keras recurrent layers have two available modes that are controlled by the `return_sequences` constructor argument:\n",
        "\n",
        "* If `False` it returns only the last output for each input sequence (a 2D tensor of shape `(batch_size, output_features)`). This is the default, used in the previous model.\n",
        "\n",
        "* If `True` the full sequences of successive outputs for each timestep is returned (a 3D tensor of shape `(batch_size, timesteps, output_features)`).\n",
        "\n",
        "Here is what the flow of information looks like with `return_sequences=True`:\n",
        "\n",
        "![layered_bidirectional](https://www.tensorflow.org/text/tutorials/images/layered_bidirectional.png)\n",
        "\n",
        "The interesting thing about using an `RNN` with `return_sequences=True` is that the output still has 3-axes, like the input, so it can be passed to another RNN layer"
      ],
      "metadata": {
        "id": "iRW85VkpB1OS"
      }
    },
    {
      "cell_type": "markdown",
      "source": [
        "### Model "
      ],
      "metadata": {
        "id": "QeiueEVwBvi_"
      }
    },
    {
      "cell_type": "code",
      "execution_count": 9,
      "metadata": {
        "id": "LwfoBkmRYcP3",
        "colab": {
          "base_uri": "https://localhost:8080/"
        },
        "outputId": "e72c8ebb-2dc5-4f6a-f3e9-1263a52dccc1"
      },
      "outputs": [
        {
          "output_type": "stream",
          "name": "stdout",
          "text": [
            "Model: \"sequential\"\n",
            "_________________________________________________________________\n",
            " Layer (type)                Output Shape              Param #   \n",
            "=================================================================\n",
            " text_vectorization (TextVec  (None, None)             0         \n",
            " torization)                                                     \n",
            "                                                                 \n",
            " embedding (Embedding)       (None, None, 128)         1280000   \n",
            "                                                                 \n",
            " bidirectional (Bidirectiona  (None, None, 128)        74496     \n",
            " l)                                                              \n",
            "                                                                 \n",
            " dropout (Dropout)           (None, None, 128)         0         \n",
            "                                                                 \n",
            " bidirectional_1 (Bidirectio  (None, 64)               31104     \n",
            " nal)                                                            \n",
            "                                                                 \n",
            " dropout_1 (Dropout)         (None, 64)                0         \n",
            "                                                                 \n",
            " dense (Dense)               (None, 32)                2080      \n",
            "                                                                 \n",
            " dense_1 (Dense)             (None, 1)                 33        \n",
            "                                                                 \n",
            "=================================================================\n",
            "Total params: 1,387,713\n",
            "Trainable params: 1,387,713\n",
            "Non-trainable params: 0\n",
            "_________________________________________________________________\n"
          ]
        }
      ],
      "source": [
        "model_dbgru = Sequential([\n",
        "    encoder,\n",
        "    Embedding(input_dim=len(encoder.get_vocabulary()),\n",
        "        output_dim = 128,\n",
        "        # Use masking to handle the variable sequence lengths\n",
        "        mask_zero=True),\n",
        "    # Deep Bidirectional GRU \n",
        "    Bidirectional(GRU(64, return_sequences = True)),\n",
        "    Dropout(0.3),\n",
        "    Bidirectional(GRU(32)),\n",
        "    Dropout(0.3),\n",
        "    Dense(32, activation = 'relu'),\n",
        "    Dense(1, activation = \"sigmoid\")])\n",
        "\n",
        "model_dbgru.summary()"
      ]
    },
    {
      "cell_type": "code",
      "execution_count": 10,
      "metadata": {
        "id": "kj2xei41YZjC",
        "colab": {
          "base_uri": "https://localhost:8080/"
        },
        "outputId": "7b5cc90b-c0b1-4656-a7b3-3a7623defe0b"
      },
      "outputs": [
        {
          "output_type": "stream",
          "name": "stdout",
          "text": [
            "Epoch 1/10\n",
            "196/196 [==============================] - 72s 291ms/step - loss: 0.4324 - acc: 0.7958 - val_loss: 0.2868 - val_acc: 0.8824\n",
            "Epoch 2/10\n",
            "196/196 [==============================] - 53s 268ms/step - loss: 0.1979 - acc: 0.9254 - val_loss: 0.2958 - val_acc: 0.8794\n"
          ]
        }
      ],
      "source": [
        "# Compile\n",
        "model_dbgru.compile(loss = tf.keras.losses.BinaryCrossentropy(),\n",
        "              optimizer = tf.keras.optimizers.Adam(5 * 1e-3),\n",
        "              metrics= 'acc' )\n",
        "\n",
        "# Early Stopping\n",
        "callback = EarlyStopping(patience=1)\n",
        "\n",
        "# Train \n",
        "history_dbgru = model_dbgru.fit(train_dataset, \n",
        "                                epochs= 10,\n",
        "                                validation_data = test_dataset,\n",
        "                                callbacks=[callback])"
      ]
    },
    {
      "cell_type": "code",
      "execution_count": 11,
      "metadata": {
        "id": "BaNbXi43YgUT",
        "colab": {
          "base_uri": "https://localhost:8080/"
        },
        "outputId": "ed9e5fe0-e5de-4f26-8455-6ec59b7630e4"
      },
      "outputs": [
        {
          "output_type": "stream",
          "name": "stdout",
          "text": [
            "196/196 [==============================] - 17s 88ms/step - loss: 0.2958 - acc: 0.8794\n"
          ]
        }
      ],
      "source": [
        "# Evaluation\n",
        "test_loss, test_acc = model_dbgru.evaluate(test_dataset)"
      ]
    },
    {
      "cell_type": "code",
      "execution_count": 12,
      "metadata": {
        "id": "OZmwt_mzaQJk",
        "colab": {
          "base_uri": "https://localhost:8080/",
          "height": 324
        },
        "outputId": "13f69e3c-0644-44d3-b075-a67d466db389"
      },
      "outputs": [
        {
          "output_type": "display_data",
          "data": {
            "text/plain": [
              "<Figure size 1080x360 with 1 Axes>"
            ],
            "image/png": "[encoded data removed]"
          },
          "metadata": {
            "needs_background": "light"
          }
        }
      ],
      "source": [
        "# Visualization\n",
        "pd.DataFrame(history_dbgru.history).plot(figsize = (15,5))\n",
        "plt.grid(True)\n",
        "plt.gca().set_ylim(0,1);"
      ]
    },
    {
      "cell_type": "code",
      "execution_count": 13,
      "metadata": {
        "id": "fD1es6Djpt2K",
        "colab": {
          "base_uri": "https://localhost:8080/"
        },
        "outputId": "24bd14ad-c21b-4d8e-96a9-556c89bff2a9"
      },
      "outputs": [
        {
          "output_type": "execute_result",
          "data": {
            "text/plain": [
              "array([[0.8952196]], dtype=float32)"
            ]
          },
          "metadata": {},
          "execution_count": 13
        }
      ],
      "source": [
        "# Predict\n",
        "sample_text = ('The movie was cool. The animation and the graphics '\n",
        "               'were out of this world. I would recommend this movie.')\n",
        "\n",
        "model_dbgru.predict(np.array([sample_text]))"
      ]
    }
  ],
  "metadata": {
    "accelerator": "GPU",
    "colab": {
      "collapsed_sections": [],
      "name": "dbgru.ipynb",
      "provenance": []
    },
    "kernelspec": {
      "display_name": "Python 3",
      "name": "python3"
    }
  },
  "nbformat": 4,
  "nbformat_minor": 0
}