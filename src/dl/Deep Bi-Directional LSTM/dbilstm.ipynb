{
  "cells": [
    {
      "cell_type": "markdown",
      "metadata": {
        "id": "9TnJztDZGw-n"
      },
      "source": [
        "# Sentiment Analysis with Glove x Deep Bi-LSTM "
      ]
    },
    {
      "cell_type": "markdown",
      "metadata": {
        "id": "_2VQo4bajwUU"
      },
      "source": [
        "## Setup"
      ]
    },
    {
      "cell_type": "code",
      "execution_count": 15,
      "metadata": {
        "colab": {
          "base_uri": "https://localhost:8080/"
        },
        "id": "phKb7GXsF2FQ",
        "outputId": "b9d4dfdf-dd35-42cd-f7a3-b9bf382cca9d"
      },
      "outputs": [
        {
          "output_type": "stream",
          "name": "stdout",
          "text": [
            "Sun May 22 05:40:27 2022       \n",
            "+-----------------------------------------------------------------------------+\n",
            "| NVIDIA-SMI 460.32.03    Driver Version: 460.32.03    CUDA Version: 11.2     |\n",
            "|-------------------------------+----------------------+----------------------+\n",
            "| GPU  Name        Persistence-M| Bus-Id        Disp.A | Volatile Uncorr. ECC |\n",
            "| Fan  Temp  Perf  Pwr:Usage/Cap|         Memory-Usage | GPU-Util  Compute M. |\n",
            "|                               |                      |               MIG M. |\n",
            "|===============================+======================+======================|\n",
            "|   0  Tesla T4            Off  | 00000000:00:04.0 Off |                    0 |\n",
            "| N/A   73C    P0    31W /  70W |    266MiB / 15109MiB |      0%      Default |\n",
            "|                               |                      |                  N/A |\n",
            "+-------------------------------+----------------------+----------------------+\n",
            "                                                                               \n",
            "+-----------------------------------------------------------------------------+\n",
            "| Processes:                                                                  |\n",
            "|  GPU   GI   CI        PID   Type   Process name                  GPU Memory |\n",
            "|        ID   ID                                                   Usage      |\n",
            "|=============================================================================|\n",
            "+-----------------------------------------------------------------------------+\n"
          ]
        }
      ],
      "source": [
        "# Check GPU\n",
        "!nvidia-smi"
      ]
    },
    {
      "cell_type": "code",
      "execution_count": 16,
      "metadata": {
        "id": "z682XYsrjkY9"
      },
      "outputs": [],
      "source": [
        "import numpy as np\n",
        "import pandas as pd\n",
        "import matplotlib.pyplot as plt\n",
        "\n",
        "import tensorflow_datasets as tfds\n",
        "import tensorflow_hub as hub\n",
        "import tensorflow as tf\n",
        "\n",
        "tfds.disable_progress_bar()"
      ]
    },
    {
      "cell_type": "markdown",
      "metadata": {
        "id": "pRmMubr0jrE2"
      },
      "source": [
        "The IMDB large movie review dataset is a *binary classification* dataset — all the reviews have either a *positive* or *negative* sentiment.\n",
        "\n",
        "Download the dataset using [TFDS](https://www.tensorflow.org/datasets). See the [loading text tutorial](https://www.tensorflow.org/tutorials/load_data/text) for details on how to load this sort of data manually.\n"
      ]
    },
    {
      "cell_type": "code",
      "execution_count": 17,
      "metadata": {
        "id": "SHRwRoP2nVHX"
      },
      "outputs": [],
      "source": [
        "# Load data \n",
        "dataset, info = tfds.load('imdb_reviews', with_info=True, as_supervised=True)\n",
        "train_dataset, test_dataset = dataset['train'], dataset['test']"
      ]
    },
    {
      "cell_type": "code",
      "execution_count": 18,
      "metadata": {
        "colab": {
          "base_uri": "https://localhost:8080/"
        },
        "id": "QQySKNen7qQS",
        "outputId": "a65448c6-2f9d-4091-ea10-281182ed2031"
      },
      "outputs": [
        {
          "output_type": "execute_result",
          "data": {
            "text/plain": [
              "(TensorSpec(shape=(), dtype=tf.string, name=None),\n",
              " TensorSpec(shape=(), dtype=tf.int64, name=None))"
            ]
          },
          "metadata": {},
          "execution_count": 18
        }
      ],
      "source": [
        "# Dataset = Text (string) + Label (int)\n",
        "train_dataset.element_spec"
      ]
    },
    {
      "cell_type": "markdown",
      "metadata": {
        "id": "nWA4c2ir7g6p"
      },
      "source": [
        "[The print of string constant is always attached with 'b' inTensorFlow?](https://stackoverflow.com/questions/40904979/the-print-of-string-constant-is-always-attached-with-b-intensorflow)\n",
        "\n",
        "\n",
        "Initially this returns a dataset of (text, label pairs):"
      ]
    },
    {
      "cell_type": "markdown",
      "metadata": {
        "id": "z2qVJzcEluH_"
      },
      "source": [
        "To perform efficient batching for the potentially large number of training examples, use the `tf.data.Dataset API`. After this step, you would have a `tf.data.Dataset` object of (target_word, context_word), (label) elements to train. Next shuffle the data for training and create batches of these `(text, label)` pairs:"
      ]
    },
    {
      "cell_type": "code",
      "execution_count": 19,
      "metadata": {
        "id": "dDsCaZCDYZgm"
      },
      "outputs": [],
      "source": [
        "BUFFER_SIZE = 10000\n",
        "BATCH_SIZE = 64"
      ]
    },
    {
      "cell_type": "code",
      "execution_count": 20,
      "metadata": {
        "id": "VznrltNOnUc5"
      },
      "outputs": [],
      "source": [
        "train_dataset = train_dataset.shuffle(BUFFER_SIZE).batch(BATCH_SIZE).prefetch(tf.data.AUTOTUNE)\n",
        "test_dataset = test_dataset.batch(BATCH_SIZE).prefetch(tf.data.AUTOTUNE)"
      ]
    },
    {
      "cell_type": "code",
      "execution_count": 21,
      "metadata": {
        "colab": {
          "base_uri": "https://localhost:8080/"
        },
        "id": "jqkvdcFv41wC",
        "outputId": "a5a1327c-779f-4767-e72b-dd0cacdd0e67"
      },
      "outputs": [
        {
          "output_type": "stream",
          "name": "stdout",
          "text": [
            "Texts:  [b'Time for a rant, eh: I thought Spirit was a great movie to watch. However, there were a few things that stop me from rating it higher than a 6 or 7 (I\\'m being a little bit generous with the 7).<br /><br />Point #1: Matt Damon aggravates me. I was thinking, \\'what a dicky voice they got for the main character,\\' when I first heard him narrate - and then I realized it is Matt Damon. The man bugs me so very bad - his performance in \"The Departed\" was terrible and ruined the movie for me (before the movie got a chance to ruin itself, but that\\'s another story for some other time), as it almost did \"Spirit\". I was able to get past this fact because of how little narration there actually was... thankfully.<br /><br />Point #2: Brian Adams sucks... The whole score was terrible... The songs were unoriginal, generic, and poorly executed; not once did I find the music to fit; and the lyrics were terrible. Every time one of the lame songs came on, I was turned off. I almost thought I\\'d start hearing some patriotic propaganda slipped into the super-American freedom style lyrics (I couldn\\'t help but be reminded of those terrible patriotic songs that played on the radio constantly after 9/11). In light of the native American aspects of the film, they should have gone with fitting music using right instruments, not petty radio-hit, teen-bop, 14-year-old-girl crap. I thought I was back in junior high school. I can\\'t believe no better could have been done--I refuse to. Had it not have been for this, I\\'d rank the film up more with Disney, which knows a thing or two about originality (ok, don\\'t bother saying what I know some of you are probably thinking ;). Too bad, it\\'s a shame they couldn\\'t have hired better musicians.<br /><br />I liked the art and animation, except for some things here and there... like sometimes the angles appear too sharp on the face and the lines too thick or dark on the body (thick/dark lines mainly near the end). There were often times when I thought they _tried too hard_ on the emotion and facial expressions and failed at drawing any real emotion. But there were also times when the emotion ran thick. Anyhow, many scenes were lazy and the layers were apparent.<br /><br />OK, I\\'m falling asleep here so I\\'ll sum it up before I start making less sense...<br /><br />Nice try on an epic film... it turned out mediocre though. Matt Damon, you suck!'\n",
            " b'When I go out to the video store to rent a flick I usually trust IMDb\\'s views on a film and, until this one, had never seen a flick rated 7.0 or above on the site I did not enjoy.<br /><br />Sidney Lumet, a legendary director of some of the best films of the 20th century, really misstepped here by making one of the biggest mistakes a filmmaker can: filling a film\\'s cast with thoroughly unlikeable characters with no real redeeming qualities whatsoever.<br /><br />I like films with flawed characters, but no matter how dark someone\\'s personality is we all have a bit of light in there too, we\\'re all shades of gray with some darker or brighter than others. Mr. Lumet crossed this line by filling this movie with totally unsympathetic and almost masochistic pitch-black characters.<br /><br />Ethan Hawke\\'s Hank is a 30-something whining, immature, irresponsible man-child divorced from a marriage with a wife that hates him and a daughter who thinks he\\'s a loser, which he very much is. His indecisiveness and willingness to let others do the dirty work for him because he\\'s too cowardly to do it himself leads directly to their bank robbery plan falling apart and mother getting killed. By the time he stands up to his older brother at the end of the film, it\\'s more pathetic than uplifting. Ethan Hawke plays his character well, but isn\\'t given much to work with as he is portrayed as someone with a boot perpetually stamped on their face and he doesn\\'t\\' particularly care that it\\'s there.<br /><br />Speaking of which his character\\'s wife is equally as bad. Just about every single shot of the film she\\'s in is her verbally berating him for rent and child support money and further grinding in his already non-existent self-esteem with insults. Seriously, that\\'s just about all the character does. Her harpy-like behavior borders on malevolent.<br /><br />Albert Finney plays their father Charles, and while Mr. Finney has been a great actor for many decades, he spends about 90% of this film with the same mouth open half-grimace on his face like he\\'s suffering from the world\\'s worst bout of constipation. For someone who\\'s been an actor as long as Mr. Finney, you think he\\'d be more apt at emoting. Even though he doesn\\'t show it much, his character is supposedly grief stricken and anger-filled. And when he smothers Andy at the film\\'s conclusion it\\'s akin to Dr. Frankenstein putting the monster he helped create out of it\\'s own misery.<br /><br />Marisa Tomei isn\\'t given much to do with her character. Stuck in an unhappy marriage with Andy and having an affair with his brother for some unfathomable reason. When Andy\\'s world begins to spiral out of control she logically jumps ship, but it really doesn\\'t make her any less selfish or self-serving than any other character in the film, but probably the one with the most common sense at least.<br /><br />And finally we come to Andy, played by the always good Philip Seymour Hoffman, is the only reason I rated this film a 3 instead of a 1. His performance of the heroin-addicted, embezzling financial executive who\\'s \"perfect crime\" of robbing his parent\\'s insured jewelry store goes awry is mesmerizing. His descent from calm master planner of a flawed scheme to unstable, deranged homicidal maniac is believable and tragic. Hoffman\\'s character ends up being the film\\'s chief villain, but it\\'s hard to root against him given the alternatives are an emotionally castrated little brother and a father who\\'s self-admitted poor early parenting led to his son\\'s eventual psychosis and indirect, unintentional murder of his mother.<br /><br />Ultimately this film is really only worth watching for PSH\\'s great performance and it\\'s family train wreck nature. Just don\\'t expect there to be any characters worth cheering for, because there really aren\\'t.'\n",
            " b\"In the ten years since Wildside aired, nothing has really come close to its quality in local production. This includes the two series of the enjoyable but overrated Underbelly, which have brought to life events in the recent criminal history of both Sydney and Melbourne. The miniseries Blue Murder (which also starred Tony Martin, but as someone on the other side of the law) may be the exception.<br /><br />Wildside is currently being repeated late at night on the ABC. Having not watched the show in quite a while, I'm still impressed by its uncompromising story lines and very human characters. The cast is excellent: Tony Martin as a detective haunted by the disappearance of his son, Rachael Blake (who later hooked up with Martin in real life) as a community worker struggling with alcoholism, and Alex Dimitriades as a young cop whose vice is gambling. Equally good support roles are provided by Aaron Pederson, Jessica Napier, Mary Coustas (yes, Effie herself), and a young Abbie Cornish.<br /><br />The ABC inexplicably released only the first three episodes on DVD a couple of years ago. The logic of this sort of marketing is beyond me, but I'm guessing it may have something to do with licensing disagreements with the original producers.<br /><br />A great series which has aged remarkably well. Here's hoping the ABC's DVD department gets its act together.<br /><br />(According to a moderator on an ABC message board, some sort of further DVD release is due in December 2009)\"]\n",
            "Labels:  [1 0 1]\n"
          ]
        }
      ],
      "source": [
        "# Each batch pair (text, label) mix by 64 pairs\n",
        "for example, label in train_dataset.take(1):\n",
        "  print('Texts: ', example.numpy()[:3])\n",
        "  print('Labels: ', label.numpy()[:3])"
      ]
    },
    {
      "cell_type": "markdown",
      "metadata": {
        "id": "s5eWCo88voPY"
      },
      "source": [
        "## Text Encoder"
      ]
    },
    {
      "cell_type": "markdown",
      "metadata": {
        "id": "TFevcItw15P_"
      },
      "source": [
        "The raw text loaded by `tfds` needs to be processed before it can be used in a model. The simplest way to process text for training is using the `TextVectorization` layer. This layer has many capabilities, but this tutorial sticks to the default behavior.\n",
        "\n",
        "Create the layer, and pass the dataset's text to the layer's `.adapt` method:"
      ]
    },
    {
      "cell_type": "code",
      "execution_count": 22,
      "metadata": {
        "id": "Nvo5oeyLj8va"
      },
      "outputs": [],
      "source": [
        "# Size of vocab (dim each word before pass Embedding Layer)\n",
        "VOCAB_SIZE = 10000\n",
        "# Max length of sentences \n",
        "max_length = 250\n",
        "# Embedding Layer Dim: Aim covert large dim to small dim\n",
        "embedding_dim = 100"
      ]
    },
    {
      "cell_type": "code",
      "execution_count": 23,
      "metadata": {
        "id": "uC25Lu1Yvuqy"
      },
      "outputs": [],
      "source": [
        "encoder = tf.keras.layers.TextVectorization(VOCAB_SIZE)\n",
        "\n",
        "# Adapt TextVectorization for train text to build vocab\n",
        "encoder.adapt(train_dataset.map(lambda text, label: text))"
      ]
    },
    {
      "cell_type": "markdown",
      "metadata": {
        "id": "IuQzVBbe3Ldu"
      },
      "source": [
        "The `.adapt` method sets the layer's vocabulary. Here are the first 10 tokens. After the padding and unknown tokens they're sorted by frequency: "
      ]
    },
    {
      "cell_type": "code",
      "execution_count": 24,
      "metadata": {
        "colab": {
          "base_uri": "https://localhost:8080/"
        },
        "id": "tBoyjjWg0Ac9",
        "outputId": "7c5e23f7-23e5-4054-dfd2-b1b4ee32ff5f"
      },
      "outputs": [
        {
          "output_type": "execute_result",
          "data": {
            "text/plain": [
              "array(['', '[UNK]', 'the', 'and', 'a', 'of', 'to', 'is', 'in', 'it'],\n",
              "      dtype='<U17')"
            ]
          },
          "metadata": {},
          "execution_count": 24
        }
      ],
      "source": [
        "vocab = np.array(encoder.get_vocabulary())\n",
        "vocab[:10]"
      ]
    },
    {
      "cell_type": "markdown",
      "metadata": {
        "id": "mjId5pua3jHQ"
      },
      "source": [
        "Once the vocabulary is set, the layer can encode text into indices. The tensors of **indices are 0-padded to the longest sequence in the batch** (unless you set a fixed `output_sequence_length`):"
      ]
    },
    {
      "cell_type": "code",
      "execution_count": 25,
      "metadata": {
        "colab": {
          "base_uri": "https://localhost:8080/"
        },
        "id": "RGc7C9WiwRWs",
        "outputId": "1a5f422a-a387-466e-9d6e-24563d51611b"
      },
      "outputs": [
        {
          "output_type": "execute_result",
          "data": {
            "text/plain": [
              "(3, 857)"
            ]
          },
          "metadata": {},
          "execution_count": 25
        }
      ],
      "source": [
        "# Width of list = size of longest sequence choose from batch\n",
        "encoded_example = encoder(example)[:3].numpy()\n",
        "encoded_example.shape"
      ]
    },
    {
      "cell_type": "markdown",
      "metadata": {
        "id": "F5cjz0bS39IN"
      },
      "source": [
        "With the default settings, the process is not completely reversible. There are three main reasons for that:\n",
        "\n",
        "1. The default value for `preprocessing.TextVectorization`'s `standardize` argument is `\"lower_and_strip_punctuation\"`.\n",
        "2. The limited vocabulary size and lack of character-based fallback results in some unknown tokens."
      ]
    },
    {
      "cell_type": "code",
      "execution_count": 26,
      "metadata": {
        "colab": {
          "base_uri": "https://localhost:8080/"
        },
        "id": "N_tD0QY5wXaK",
        "outputId": "4a989d7d-e399-4a65-fcc3-886a4d9ae65f"
      },
      "outputs": [
        {
          "output_type": "stream",
          "name": "stdout",
          "text": [
            "Original:  b'When I go out to the video store to rent a flick I usually trust IMDb\\'s views on a film and, until this one, had never seen a flick rated 7.0 or above on the site I did not enjoy.<br /><br />Sidney Lumet, a legendary director of some of the best films of the 20th century, really misstepped here by making one of the biggest mistakes a filmmaker can: filling a film\\'s cast with thoroughly unlikeable characters with no real redeeming qualities whatsoever.<br /><br />I like films with flawed characters, but no matter how dark someone\\'s personality is we all have a bit of light in there too, we\\'re all shades of gray with some darker or brighter than others. Mr. Lumet crossed this line by filling this movie with totally unsympathetic and almost masochistic pitch-black characters.<br /><br />Ethan Hawke\\'s Hank is a 30-something whining, immature, irresponsible man-child divorced from a marriage with a wife that hates him and a daughter who thinks he\\'s a loser, which he very much is. His indecisiveness and willingness to let others do the dirty work for him because he\\'s too cowardly to do it himself leads directly to their bank robbery plan falling apart and mother getting killed. By the time he stands up to his older brother at the end of the film, it\\'s more pathetic than uplifting. Ethan Hawke plays his character well, but isn\\'t given much to work with as he is portrayed as someone with a boot perpetually stamped on their face and he doesn\\'t\\' particularly care that it\\'s there.<br /><br />Speaking of which his character\\'s wife is equally as bad. Just about every single shot of the film she\\'s in is her verbally berating him for rent and child support money and further grinding in his already non-existent self-esteem with insults. Seriously, that\\'s just about all the character does. Her harpy-like behavior borders on malevolent.<br /><br />Albert Finney plays their father Charles, and while Mr. Finney has been a great actor for many decades, he spends about 90% of this film with the same mouth open half-grimace on his face like he\\'s suffering from the world\\'s worst bout of constipation. For someone who\\'s been an actor as long as Mr. Finney, you think he\\'d be more apt at emoting. Even though he doesn\\'t show it much, his character is supposedly grief stricken and anger-filled. And when he smothers Andy at the film\\'s conclusion it\\'s akin to Dr. Frankenstein putting the monster he helped create out of it\\'s own misery.<br /><br />Marisa Tomei isn\\'t given much to do with her character. Stuck in an unhappy marriage with Andy and having an affair with his brother for some unfathomable reason. When Andy\\'s world begins to spiral out of control she logically jumps ship, but it really doesn\\'t make her any less selfish or self-serving than any other character in the film, but probably the one with the most common sense at least.<br /><br />And finally we come to Andy, played by the always good Philip Seymour Hoffman, is the only reason I rated this film a 3 instead of a 1. His performance of the heroin-addicted, embezzling financial executive who\\'s \"perfect crime\" of robbing his parent\\'s insured jewelry store goes awry is mesmerizing. His descent from calm master planner of a flawed scheme to unstable, deranged homicidal maniac is believable and tragic. Hoffman\\'s character ends up being the film\\'s chief villain, but it\\'s hard to root against him given the alternatives are an emotionally castrated little brother and a father who\\'s self-admitted poor early parenting led to his son\\'s eventual psychosis and indirect, unintentional murder of his mother.<br /><br />Ultimately this film is really only worth watching for PSH\\'s great performance and it\\'s family train wreck nature. Just don\\'t expect there to be any characters worth cheering for, because there really aren\\'t.'\n",
            "Round-trip:  when i go out to the video store to rent a flick i usually trust imdbs views on a film and until this one had never seen a flick rated 70 or above on the site i did not [UNK] br sidney lumet a legendary director of some of the best films of the 20th century really [UNK] here by making one of the biggest mistakes a filmmaker can filling a films cast with thoroughly unlikeable characters with no real redeeming qualities [UNK] br i like films with flawed characters but no matter how dark someones personality is we all have a bit of light in there too were all shades of gray with some darker or [UNK] than others mr lumet crossed this line by filling this movie with totally unsympathetic and almost [UNK] [UNK] charactersbr br ethan [UNK] hank is a [UNK] whining immature irresponsible [UNK] divorced from a marriage with a wife that hates him and a daughter who thinks hes a loser which he very much is his [UNK] and [UNK] to let others do the dirty work for him because hes too cowardly to do it himself leads directly to their bank robbery plan falling apart and mother getting killed by the time he stands up to his older brother at the end of the film its more pathetic than uplifting ethan hawke plays his character well but isnt given much to work with as he is portrayed as someone with a boot [UNK] [UNK] on their face and he doesnt particularly care that its therebr br speaking of which his characters wife is equally as bad just about every single shot of the film shes in is her [UNK] [UNK] him for rent and child support money and further [UNK] in his already nonexistent [UNK] with insults seriously thats just about all the character does her [UNK] behavior borders on [UNK] br albert finney plays their father charles and while mr finney has been a great actor for many decades he spends about 90 of this film with the same mouth open [UNK] on his face like hes suffering from the worlds worst bout of [UNK] for someone whos been an actor as long as mr finney you think hed be more apt at [UNK] even though he doesnt show it much his character is supposedly grief [UNK] and [UNK] and when he [UNK] andy at the films conclusion its akin to dr frankenstein putting the monster he helped create out of its own [UNK] br marisa tomei isnt given much to do with her character stuck in an unhappy marriage with andy and having an affair with his brother for some [UNK] reason when [UNK] world begins to spiral out of control she [UNK] jumps ship but it really doesnt make her any less selfish or [UNK] than any other character in the film but probably the one with the most common sense at [UNK] br and finally we come to andy played by the always good philip seymour hoffman is the only reason i rated this film a 3 instead of a 1 his performance of the [UNK] [UNK] financial executive whos perfect crime of robbing his parents [UNK] jewelry store goes awry is mesmerizing his descent from calm master [UNK] of a flawed scheme to unstable deranged homicidal maniac is believable and tragic [UNK] character ends up being the films chief villain but its hard to root against him given the [UNK] are an emotionally [UNK] little brother and a father whos [UNK] poor early [UNK] led to his sons eventual [UNK] and [UNK] unintentional murder of his [UNK] br ultimately this film is really only worth watching for [UNK] great performance and its family train wreck nature just dont expect there to be any characters worth cheering for because there really arent                                                                                                                                                                                                                       \n"
          ]
        }
      ],
      "source": [
        "print(\"Original: \", example[1].numpy())\n",
        "print(\"Round-trip: \", \" \".join(vocab[encoded_example[1]]))"
      ]
    },
    {
      "cell_type": "markdown",
      "metadata": {
        "id": "nW8CPH3JCeoe"
      },
      "source": [
        "## GloVec "
      ]
    },
    {
      "cell_type": "code",
      "execution_count": 27,
      "metadata": {
        "colab": {
          "base_uri": "https://localhost:8080/"
        },
        "id": "EC9TNH-FrEiG",
        "outputId": "5c747a33-ddd6-4130-ca67-7098a5025a48"
      },
      "outputs": [
        {
          "output_type": "stream",
          "name": "stdout",
          "text": [
            "--2022-05-22 05:40:34--  http://nlp.stanford.edu/data/glove.6B.zip\n",
            "Resolving nlp.stanford.edu (nlp.stanford.edu)... 171.64.67.140\n",
            "Connecting to nlp.stanford.edu (nlp.stanford.edu)|171.64.67.140|:80... connected.\n",
            "HTTP request sent, awaiting response... 302 Found\n",
            "Location: https://nlp.stanford.edu/data/glove.6B.zip [following]\n",
            "--2022-05-22 05:40:34--  https://nlp.stanford.edu/data/glove.6B.zip\n",
            "Connecting to nlp.stanford.edu (nlp.stanford.edu)|171.64.67.140|:443... connected.\n",
            "HTTP request sent, awaiting response... 301 Moved Permanently\n",
            "Location: http://downloads.cs.stanford.edu/nlp/data/glove.6B.zip [following]\n",
            "--2022-05-22 05:40:34--  http://downloads.cs.stanford.edu/nlp/data/glove.6B.zip\n",
            "Resolving downloads.cs.stanford.edu (downloads.cs.stanford.edu)... 171.64.64.22\n",
            "Connecting to downloads.cs.stanford.edu (downloads.cs.stanford.edu)|171.64.64.22|:80... connected.\n",
            "HTTP request sent, awaiting response... 200 OK\n",
            "Length: 862182613 (822M) [application/zip]\n",
            "Saving to: ‘glove.6B.zip’\n",
            "\n",
            "glove.6B.zip        100%[===================>] 822.24M  5.13MB/s    in 2m 39s  \n",
            "\n",
            "2022-05-22 05:43:13 (5.16 MB/s) - ‘glove.6B.zip’ saved [862182613/862182613]\n",
            "\n"
          ]
        }
      ],
      "source": [
        "# Download Pretrain GloVec\n",
        "!wget http://nlp.stanford.edu/data/glove.6B.zip\n",
        "!unzip -q glove.6B.zip"
      ]
    },
    {
      "cell_type": "markdown",
      "metadata": {
        "id": "Y3qtR-EArMko"
      },
      "source": [
        "The archive contains text-encoded vectors of various sizes: 50-dimensional, 100-dimensional, 200-dimensional, 300-dimensional. We'll use the 100D ones.\n",
        "\n",
        "[split with max split = 1](https://www.w3schools.com/python/ref_string_split.asp)\n",
        "\n",
        "Let's make a dict mapping words (strings) to their NumPy vector representation:"
      ]
    },
    {
      "cell_type": "code",
      "execution_count": 28,
      "metadata": {
        "colab": {
          "base_uri": "https://localhost:8080/"
        },
        "id": "Lq6kUsZirON1",
        "outputId": "1dfe45b9-d085-4101-a2ff-0a4c897c1d2f"
      },
      "outputs": [
        {
          "output_type": "stream",
          "name": "stdout",
          "text": [
            "Found 400000 word vectors.\n"
          ]
        }
      ],
      "source": [
        "# Load file with path \n",
        "embeddings_index = {}\n",
        "with open(\"/content/glove.6B.100d.txt\") as f:\n",
        "    for line in f:\n",
        "        word, coefs = line.split(maxsplit=1)\n",
        "        coefs = np.fromstring(coefs, sep=\" \")\n",
        "        embeddings_index[word] = coefs\n",
        "\n",
        "print(\"Found %s word vectors.\" % len(embeddings_index))"
      ]
    },
    {
      "cell_type": "code",
      "execution_count": 29,
      "metadata": {
        "colab": {
          "base_uri": "https://localhost:8080/"
        },
        "id": "-4MnBa32CFZJ",
        "outputId": "cdc5572d-63a0-409a-f661-b2654cf01c7a"
      },
      "outputs": [
        {
          "output_type": "execute_result",
          "data": {
            "text/plain": [
              "array([ 0.20988  , -0.47655  ,  0.28336  , -0.81891  ,  0.69712  ,\n",
              "        0.60576  ,  0.70267  , -0.37126  , -1.2579   , -0.15087  ,\n",
              "        0.8627   , -1.0148   , -1.1333   , -0.35162  ,  0.59548  ,\n",
              "        0.18641  , -0.42956  ,  0.87956  , -0.79354  , -0.11465  ,\n",
              "        0.93346  ,  0.25379  ,  0.37372  ,  0.58551  ,  0.64899  ,\n",
              "       -0.41579  , -0.68475  ,  0.33655  ,  0.0084698, -0.52282  ,\n",
              "       -0.88602  ,  1.1002   ,  0.21214  ,  0.6451   ,  0.72751  ,\n",
              "       -0.92499  , -0.16333  ,  1.3088   , -1.5823   ,  0.51023  ,\n",
              "        0.25315  , -0.33866  ,  0.33079  ,  0.0080323,  0.34725  ,\n",
              "        0.13952  ,  0.38958  , -0.98305  ,  0.46568  , -0.089045 ,\n",
              "       -0.37794  , -0.049653 , -1.1755   ,  0.73942  , -0.36438  ,\n",
              "       -2.4471   , -0.75071  ,  0.0901   , -0.32032  ,  1.4176   ,\n",
              "       -0.69838  ,  0.069092 , -0.779    ,  0.55792  , -0.374    ,\n",
              "        0.097131 ,  0.098289 ,  0.50688  , -0.8024   ,  0.45312  ,\n",
              "       -0.43216  ,  0.19852  ,  0.66294  , -0.16279  ,  0.75247  ,\n",
              "        0.055137 , -1.4578   , -0.32155  , -0.40475  ,  0.22335  ,\n",
              "        0.28337  ,  0.75549  , -0.53379  , -0.52686  , -0.48718  ,\n",
              "       -0.5884   ,  0.14542  ,  0.29295  , -0.1745   ,  0.082937 ,\n",
              "       -0.90597  , -0.27768  , -0.81742  , -0.031541 , -1.8709   ,\n",
              "       -0.4819   ,  0.042397 ,  0.050949 , -0.41251  , -0.4467   ])"
            ]
          },
          "metadata": {},
          "execution_count": 29
        }
      ],
      "source": [
        "# Check embedding of words \n",
        "embeddings_index[\"scored\"]"
      ]
    },
    {
      "cell_type": "markdown",
      "metadata": {
        "id": "m2eeNuS1rVDX"
      },
      "source": [
        "Now, let's prepare a corresponding embedding matrix that we can use in a Keras `Embedding` layer. It's a simple NumPy matrix where entry at index `i` is the pre-trained vector for the word of index `i` in our `vectorizer`'s vocabulary."
      ]
    },
    {
      "cell_type": "code",
      "execution_count": 30,
      "metadata": {
        "id": "uRVvAYWVJP1W"
      },
      "outputs": [],
      "source": [
        "voc = encoder.get_vocabulary()\n",
        "# Assign index with word to dict \n",
        "word_index = dict(zip(voc, range(VOCAB_SIZE)))"
      ]
    },
    {
      "cell_type": "code",
      "execution_count": 31,
      "metadata": {
        "colab": {
          "base_uri": "https://localhost:8080/"
        },
        "id": "3SDnHqM9rSKu",
        "outputId": "65201701-9ab7-4ee6-8405-3f0b6f2a9b7d"
      },
      "outputs": [
        {
          "output_type": "stream",
          "name": "stdout",
          "text": [
            "Converted 9691 words (309 misses)\n"
          ]
        }
      ],
      "source": [
        "hits = 0        # Word can converted\n",
        "misses = 0      # Word can't converted (OOV)\n",
        "\n",
        "# Prepare embedding matrix\n",
        "embedding_matrix = np.zeros((VOCAB_SIZE, embedding_dim))\n",
        "\n",
        "for word, index in word_index.items():\n",
        "    embedding_vector = embeddings_index.get(word)\n",
        "    if embedding_vector is not None:\n",
        "        # Words not found in embedding index will be all-zeros.\n",
        "        # This includes the representation for \"padding\" and \"OOV\"\n",
        "        embedding_matrix[index] = embedding_vector\n",
        "        hits += 1\n",
        "    else:\n",
        "        misses += 1\n",
        "\n",
        "# Check acc\n",
        "print(\"Converted %d words (%d misses)\" % (hits, misses))"
      ]
    },
    {
      "cell_type": "markdown",
      "metadata": {
        "id": "-cqsBBrNrcXP"
      },
      "source": [
        "Next, we load the pre-trained word embeddings matrix into an `Embedding` layer.\n",
        "\n",
        "Note that we set `trainable=False` so as to keep the embeddings fixed (we don't want to update them during training)."
      ]
    },
    {
      "cell_type": "code",
      "execution_count": 32,
      "metadata": {
        "colab": {
          "base_uri": "https://localhost:8080/"
        },
        "id": "Kb5PUYkPer4q",
        "outputId": "3a139e4b-f3de-4604-f369-d933515b2d4e"
      },
      "outputs": [
        {
          "output_type": "execute_result",
          "data": {
            "text/plain": [
              "<PrefetchDataset element_spec=(TensorSpec(shape=(None,), dtype=tf.string, name=None), TensorSpec(shape=(None,), dtype=tf.int64, name=None))>"
            ]
          },
          "metadata": {},
          "execution_count": 32
        }
      ],
      "source": [
        "# Check train dataset\n",
        "train_dataset"
      ]
    },
    {
      "cell_type": "code",
      "execution_count": 33,
      "metadata": {
        "colab": {
          "base_uri": "https://localhost:8080/"
        },
        "id": "s6uQMGnPLvg-",
        "outputId": "661a68c2-8005-491c-fbf4-2c0070bf41c1"
      },
      "outputs": [
        {
          "output_type": "stream",
          "name": "stdout",
          "text": [
            "Model: \"sequential\"\n",
            "_________________________________________________________________\n",
            " Layer (type)                Output Shape              Param #   \n",
            "=================================================================\n",
            " text_vectorization_1 (TextV  (None, None)             0         \n",
            " ectorization)                                                   \n",
            "                                                                 \n",
            " embedding (Embedding)       (None, None, 100)         1000000   \n",
            "                                                                 \n",
            " bidirectional (Bidirectiona  (None, None, 100)        60400     \n",
            " l)                                                              \n",
            "                                                                 \n",
            " bidirectional_1 (Bidirectio  (None, 50)               25200     \n",
            " nal)                                                            \n",
            "                                                                 \n",
            " dense (Dense)               (None, 25)                1275      \n",
            "                                                                 \n",
            " dense_1 (Dense)             (None, 1)                 26        \n",
            "                                                                 \n",
            "=================================================================\n",
            "Total params: 1,086,901\n",
            "Trainable params: 86,901\n",
            "Non-trainable params: 1,000,000\n",
            "_________________________________________________________________\n"
          ]
        }
      ],
      "source": [
        "model_glovec = tf.keras.Sequential([\n",
        "    # Must have add \"encoder\" layers to convert data from string (None,) to sequence\n",
        "    encoder,\n",
        "    # Embedding\n",
        "    tf.keras.layers.Embedding(VOCAB_SIZE,\n",
        "                    embedding_dim,\n",
        "                    input_length= max_length,\n",
        "                    embeddings_initializer = tf.keras.initializers.Constant(embedding_matrix),\n",
        "                    trainable= False),\n",
        "    # Bidirectional LSTM \n",
        "    tf.keras.layers.Bidirectional(tf.keras.layers.LSTM(50, return_sequences = True)),\n",
        "    tf.keras.layers.Bidirectional(tf.keras.layers.LSTM(25)),\n",
        "    tf.keras.layers.Dense(25, activation='relu'),\n",
        "    tf.keras.layers.Dense(1, activation = \"sigmoid\")])\n",
        "\n",
        "model_glovec.summary()"
      ]
    },
    {
      "cell_type": "markdown",
      "metadata": {
        "id": "UDIdTqTzPgRb"
      },
      "source": [
        "`text_vectorization_1` has Output shape (None, None)\n",
        "* `None` 1 meaning batch size in feed & backward \n",
        "* `None` 2 meaning size of length text (after this layer will convert to sequences)"
      ]
    },
    {
      "cell_type": "code",
      "source": [
        "# Resets all state generated by Keras\n",
        "tf.keras.backend.clear_session()\n",
        "np.random.seed(42)\n",
        "tf.random.set_seed(42)"
      ],
      "metadata": {
        "id": "H51V1RlRMhaJ"
      },
      "execution_count": 34,
      "outputs": []
    },
    {
      "cell_type": "code",
      "execution_count": 35,
      "metadata": {
        "colab": {
          "base_uri": "https://localhost:8080/"
        },
        "id": "ps69-W3RL0u_",
        "outputId": "00299577-a471-4956-f0ce-0d762f94ab44"
      },
      "outputs": [
        {
          "output_type": "stream",
          "name": "stdout",
          "text": [
            "Epoch 1/30\n",
            "391/391 [==============================] - 58s 121ms/step - loss: 0.6506 - acc: 0.6230 - val_loss: 0.5836 - val_acc: 0.7115\n",
            "Epoch 2/30\n",
            "391/391 [==============================] - 46s 117ms/step - loss: 0.6635 - acc: 0.6125 - val_loss: 0.5998 - val_acc: 0.6885\n",
            "Epoch 3/30\n",
            "391/391 [==============================] - 47s 118ms/step - loss: 0.6058 - acc: 0.6814 - val_loss: 0.7645 - val_acc: 0.4984\n",
            "Epoch 4/30\n",
            "391/391 [==============================] - 46s 117ms/step - loss: 0.6026 - acc: 0.6756 - val_loss: 0.5481 - val_acc: 0.7323\n",
            "Epoch 5/30\n",
            "391/391 [==============================] - 47s 119ms/step - loss: 0.5559 - acc: 0.7222 - val_loss: 0.5337 - val_acc: 0.7469\n",
            "Epoch 6/30\n",
            "391/391 [==============================] - 47s 119ms/step - loss: 0.6583 - acc: 0.6228 - val_loss: 0.6835 - val_acc: 0.6016\n",
            "Epoch 7/30\n",
            "391/391 [==============================] - 46s 117ms/step - loss: 0.6759 - acc: 0.6112 - val_loss: 0.6655 - val_acc: 0.6203\n",
            "Epoch 8/30\n",
            "391/391 [==============================] - 46s 116ms/step - loss: 0.6386 - acc: 0.6504 - val_loss: 0.6623 - val_acc: 0.6193\n",
            "Epoch 9/30\n",
            "391/391 [==============================] - 47s 119ms/step - loss: 0.5946 - acc: 0.7008 - val_loss: 0.6200 - val_acc: 0.6297\n",
            "Epoch 10/30\n",
            "391/391 [==============================] - 47s 120ms/step - loss: 0.5575 - acc: 0.7336 - val_loss: 0.6190 - val_acc: 0.6594\n",
            "Epoch 11/30\n",
            "391/391 [==============================] - 46s 116ms/step - loss: 0.5311 - acc: 0.7525 - val_loss: 0.5223 - val_acc: 0.7552\n",
            "Epoch 12/30\n",
            "391/391 [==============================] - 47s 118ms/step - loss: 0.5053 - acc: 0.7701 - val_loss: 0.5032 - val_acc: 0.7646\n",
            "Epoch 13/30\n",
            "391/391 [==============================] - 47s 119ms/step - loss: 0.4790 - acc: 0.7850 - val_loss: 0.4806 - val_acc: 0.7880\n",
            "Epoch 14/30\n",
            "391/391 [==============================] - 47s 118ms/step - loss: 0.4606 - acc: 0.7936 - val_loss: 0.4609 - val_acc: 0.7958\n",
            "Epoch 15/30\n",
            "391/391 [==============================] - 46s 117ms/step - loss: 0.4456 - acc: 0.8022 - val_loss: 0.4470 - val_acc: 0.8052\n",
            "Epoch 16/30\n",
            "391/391 [==============================] - 47s 119ms/step - loss: 0.4341 - acc: 0.8098 - val_loss: 0.4357 - val_acc: 0.8094\n",
            "Epoch 17/30\n",
            "391/391 [==============================] - 47s 119ms/step - loss: 0.4229 - acc: 0.8139 - val_loss: 0.4390 - val_acc: 0.7979\n",
            "Epoch 18/30\n",
            "391/391 [==============================] - 46s 117ms/step - loss: 0.4138 - acc: 0.8192 - val_loss: 0.4235 - val_acc: 0.8161\n",
            "Epoch 19/30\n",
            "391/391 [==============================] - 47s 120ms/step - loss: 0.4057 - acc: 0.8242 - val_loss: 0.4170 - val_acc: 0.8172\n",
            "Epoch 20/30\n",
            "391/391 [==============================] - 46s 118ms/step - loss: 0.3972 - acc: 0.8273 - val_loss: 0.4053 - val_acc: 0.8250\n",
            "Epoch 21/30\n",
            "391/391 [==============================] - 46s 117ms/step - loss: 0.3908 - acc: 0.8300 - val_loss: 0.4105 - val_acc: 0.8167\n",
            "Epoch 22/30\n",
            "391/391 [==============================] - 46s 118ms/step - loss: 0.3867 - acc: 0.8342 - val_loss: 0.4143 - val_acc: 0.8182\n",
            "Epoch 23/30\n",
            "391/391 [==============================] - 47s 118ms/step - loss: 0.3780 - acc: 0.8397 - val_loss: 0.4205 - val_acc: 0.8125\n",
            "Epoch 24/30\n",
            "391/391 [==============================] - 48s 120ms/step - loss: 0.3730 - acc: 0.8400 - val_loss: 0.3876 - val_acc: 0.8318\n",
            "Epoch 25/30\n",
            "391/391 [==============================] - 47s 120ms/step - loss: 0.3621 - acc: 0.8462 - val_loss: 0.4015 - val_acc: 0.8281\n",
            "Epoch 26/30\n",
            "391/391 [==============================] - 46s 117ms/step - loss: 0.3617 - acc: 0.8453 - val_loss: 0.3876 - val_acc: 0.8281\n",
            "Epoch 27/30\n",
            "391/391 [==============================] - 47s 118ms/step - loss: 0.3524 - acc: 0.8506 - val_loss: 0.3753 - val_acc: 0.8375\n",
            "Epoch 28/30\n",
            "391/391 [==============================] - 46s 117ms/step - loss: 0.3489 - acc: 0.8519 - val_loss: 0.3665 - val_acc: 0.8484\n",
            "Epoch 29/30\n",
            "391/391 [==============================] - 48s 120ms/step - loss: 0.3450 - acc: 0.8556 - val_loss: 0.4051 - val_acc: 0.8177\n",
            "Epoch 30/30\n",
            "391/391 [==============================] - 47s 118ms/step - loss: 0.3434 - acc: 0.8553 - val_loss: 0.3927 - val_acc: 0.8276\n"
          ]
        }
      ],
      "source": [
        "# Compile & Fit model \n",
        "model_glovec.compile(loss=tf.keras.losses.BinaryCrossentropy(),\n",
        "              optimizer=tf.keras.optimizers.Adam(1e-4),\n",
        "              metrics='acc')\n",
        "\n",
        "# Callbacks \n",
        "tensorboard_callback_glove = tf.keras.callbacks.TensorBoard(log_dir=\"logs\")\n",
        "\n",
        "history = model_glovec.fit(train_dataset, epochs= 30,\n",
        "                    validation_data = test_dataset,\n",
        "                    validation_steps = 30,\n",
        "                    callbacks=[tensorboard_callback_glove])"
      ]
    },
    {
      "cell_type": "code",
      "execution_count": 44,
      "metadata": {
        "id": "IE5gRmwgyIPS",
        "colab": {
          "base_uri": "https://localhost:8080/"
        },
        "outputId": "965f57f8-ffb0-45fe-b561-b1516d84fce7"
      },
      "outputs": [
        {
          "output_type": "stream",
          "name": "stdout",
          "text": [
            "391/391 [==============================] - 27s 66ms/step - loss: 0.3728 - acc: 0.8407\n"
          ]
        },
        {
          "output_type": "execute_result",
          "data": {
            "text/plain": [
              "[0.37279191613197327, 0.8406800031661987]"
            ]
          },
          "metadata": {},
          "execution_count": 44
        }
      ],
      "source": [
        "# Evaluation \n",
        "model_glovec.evaluate(test_dataset)"
      ]
    },
    {
      "cell_type": "code",
      "source": [
        "# Visualization\n",
        "import matplotlib.pyplot as plt\n",
        "\n",
        "pd.DataFrame(history.history).plot(figsize = (15,5))\n",
        "plt.grid(True)\n",
        "plt.gca().set_ylim(0,1);"
      ],
      "metadata": {
        "colab": {
          "base_uri": "https://localhost:8080/",
          "height": 324
        },
        "id": "ry9NE2sEb6Zt",
        "outputId": "0e0d6f35-1870-46dd-87ff-675fc36d12be"
      },
      "execution_count": 45,
      "outputs": [
        {
          "output_type": "display_data",
          "data": {
            "text/plain": [
              "<Figure size 1080x360 with 1 Axes>"
            ],
            "image/png": "[encoded data removed]"
          },
          "metadata": {
            "needs_background": "light"
          }
        }
      ]
    },
    {
      "cell_type": "markdown",
      "metadata": {
        "id": "bjUqGVBxGw-t"
      },
      "source": [
        "## Deep Bi-LSTM"
      ]
    },
    {
      "cell_type": "markdown",
      "source": [
        "### Bi-LSTM"
      ],
      "metadata": {
        "id": "V7W09KqBJMVY"
      }
    },
    {
      "cell_type": "markdown",
      "metadata": {
        "id": "W7zsmInBOCPO"
      },
      "source": [
        "\n",
        "![A drawing of the information flow in the model](https://github.com/tensorflow/text/blob/master/docs/tutorials/images/bidirectional.png?raw=1)"
      ]
    },
    {
      "cell_type": "markdown",
      "metadata": {
        "id": "bgs6nnSTGw-t"
      },
      "source": [
        "Above is a diagram of the model. \n",
        "\n",
        "1. This model can be build as a `tf.keras.Sequential`.\n",
        "\n",
        "2. The first layer is the `encoder`, which converts the text to a sequence of token indices.\n",
        "\n",
        "3. After the encoder is an embedding layer. An embedding layer stores one vector per word. When called, it converts the sequences of word indices to sequences of vectors. These vectors are trainable. After training (on enough data), words with similar meanings often have similar vectors.\n",
        "\n",
        "  This index-lookup is much more efficient than the equivalent operation of passing a one-hot encoded vector through a `tf.keras.layers.Dense` layer.\n",
        "\n",
        "4. A recurrent neural network (RNN) processes sequence input by iterating through the elements. RNNs pass the outputs from one timestep to their input on the next timestep.\n",
        "\n",
        "  The `tf.keras.layers.Bidirectional` wrapper can also be used with an RNN layer. This propagates the input forward and backwards through the RNN layer and then concatenates the final output. \n",
        "\n",
        "  * The main advantage of a bidirectional RNN is that the signal from the beginning of the input doesn't need to be processed all the way through every timestep to affect the output.  \n",
        "\n",
        "  * The main disadvantage of a bidirectional RNN is that you can't efficiently stream predictions as words are being added to the end.\n",
        "\n",
        "5. After the RNN has converted the sequence to a single vector the two `layers.Dense` do some final processing, and convert from this vector representation to a single logit as the classification output. \n"
      ]
    },
    {
      "cell_type": "markdown",
      "source": [
        "### Deep Bi-LSTM\n",
        "\n",
        "Keras recurrent layers have two available modes that are controlled by the `return_sequences` constructor argument:\n",
        "\n",
        "* If `False` it returns only the last output for each input sequence (a 2D tensor of shape (batch_size, output_features)). This is the default, used in the previous model.\n",
        "\n",
        "* If `True` the full sequences of successive outputs for each timestep is returned (a 3D tensor of shape `(batch_size, timesteps, output_features)`).\n",
        "\n",
        "Here is what the flow of information looks like with `return_sequences=True`:\n",
        "\n",
        "![layered_bidirectional](https://www.tensorflow.org/text/tutorials/images/layered_bidirectional.png)\n",
        "\n",
        "The interesting thing about using an `RNN` with `return_sequences=True` is that the output still has 3-axes, like the input, so it can be passed to another RNN layer, like this:"
      ],
      "metadata": {
        "id": "sVP-zXwXI1Nd"
      }
    },
    {
      "cell_type": "code",
      "execution_count": 46,
      "metadata": {
        "id": "LwfoBkmRYcP3",
        "colab": {
          "base_uri": "https://localhost:8080/"
        },
        "outputId": "c5d0c646-e58f-4bc2-e4c4-3aff2373fe05"
      },
      "outputs": [
        {
          "output_type": "stream",
          "name": "stdout",
          "text": [
            "Model: \"sequential\"\n",
            "_________________________________________________________________\n",
            " Layer (type)                Output Shape              Param #   \n",
            "=================================================================\n",
            " text_vectorization_1 (TextV  (None, None)             0         \n",
            " ectorization)                                                   \n",
            "                                                                 \n",
            " embedding (Embedding)       (None, None, 100)         1000000   \n",
            "                                                                 \n",
            " bidirectional (Bidirectiona  (None, None, 100)        60400     \n",
            " l)                                                              \n",
            "                                                                 \n",
            " bidirectional_1 (Bidirectio  (None, 50)               25200     \n",
            " nal)                                                            \n",
            "                                                                 \n",
            " dense (Dense)               (None, 25)                1275      \n",
            "                                                                 \n",
            " dense_1 (Dense)             (None, 1)                 26        \n",
            "                                                                 \n",
            "=================================================================\n",
            "Total params: 1,086,901\n",
            "Trainable params: 1,086,901\n",
            "Non-trainable params: 0\n",
            "_________________________________________________________________\n"
          ]
        }
      ],
      "source": [
        "model_dbilstm = tf.keras.Sequential([\n",
        "    encoder,\n",
        "    tf.keras.layers.Embedding(\n",
        "        input_dim=len(encoder.get_vocabulary()),\n",
        "        output_dim = 100,\n",
        "        # Use masking to handle the variable sequence lengths\n",
        "        mask_zero=True),\n",
        "    # Bidirectional LSTM \n",
        "    tf.keras.layers.Bidirectional(tf.keras.layers.LSTM(50, return_sequences = True)),\n",
        "    tf.keras.layers.Bidirectional(tf.keras.layers.LSTM(25)),\n",
        "    tf.keras.layers.Dense(25, activation='relu'),\n",
        "    tf.keras.layers.Dense(1, activation = \"sigmoid\")])\n",
        "\n",
        "model_dbilstm.summary()"
      ]
    },
    {
      "cell_type": "markdown",
      "metadata": {
        "id": "QIGmIGkkouUb"
      },
      "source": [
        "Please note that Keras sequential model is used here since all the layers in the model only have single input and produce single output. In case you want to use stateful RNN layer, you might want to build your model with Keras functional API or model subclassing so that you can retrieve and reuse the RNN layer states. Please check [Keras RNN guide](https://www.tensorflow.org/guide/keras/rnn#rnn_state_reuse) for more details."
      ]
    },
    {
      "cell_type": "markdown",
      "metadata": {
        "id": "kF-PsCk1LwjY"
      },
      "source": [
        "The embedding layer [uses masking](https://www.tensorflow.org/guide/keras/masking_and_padding) to handle the varying sequence-lengths. All the layers after the `Embedding` support masking:"
      ]
    },
    {
      "cell_type": "code",
      "execution_count": 47,
      "metadata": {
        "id": "87a8-CwfKebw",
        "colab": {
          "base_uri": "https://localhost:8080/"
        },
        "outputId": "460385fc-4222-45b3-970c-18cbf6ea5f87"
      },
      "outputs": [
        {
          "output_type": "execute_result",
          "data": {
            "text/plain": [
              "[False, True, True, True, True, True]"
            ]
          },
          "metadata": {},
          "execution_count": 47
        }
      ],
      "source": [
        "# Check masking layers\n",
        "[layer.supports_masking for layer in model_dbilstm.layers]"
      ]
    },
    {
      "cell_type": "markdown",
      "metadata": {
        "id": "ZlS0iaUIWLpI"
      },
      "source": [
        "To confirm that this works as expected, evaluate a sentence twice. First, alone so there's no padding to mask:"
      ]
    },
    {
      "cell_type": "code",
      "execution_count": 48,
      "metadata": {
        "id": "O41gw3KfWHus",
        "colab": {
          "base_uri": "https://localhost:8080/"
        },
        "outputId": "ce21b891-f5f8-4e45-db0a-f890c4ae4f0a"
      },
      "outputs": [
        {
          "output_type": "execute_result",
          "data": {
            "text/plain": [
              "array([[0.50011927]], dtype=float32)"
            ]
          },
          "metadata": {},
          "execution_count": 48
        }
      ],
      "source": [
        "# Predict on a sample text without padding.\n",
        "sample_text = ('The movie was cool. The animation and the graphics '\n",
        "               'were out of this world. I would recommend this movie.')\n",
        "\n",
        "# Prediction\n",
        "model_dbilstm.predict(np.array([sample_text]))"
      ]
    },
    {
      "cell_type": "markdown",
      "metadata": {
        "id": "K0VQmGnEWcuz"
      },
      "source": [
        "Now, evaluate it again in a batch with a longer sentence. The result should be identical:"
      ]
    },
    {
      "cell_type": "code",
      "execution_count": 49,
      "metadata": {
        "id": "UIgpuTeFNDzq",
        "colab": {
          "base_uri": "https://localhost:8080/"
        },
        "outputId": "052022a8-3377-4b3b-8e75-e5ffb26b52c9"
      },
      "outputs": [
        {
          "output_type": "execute_result",
          "data": {
            "text/plain": [
              "array([[0.50011927],\n",
              "       [0.5011725 ]], dtype=float32)"
            ]
          },
          "metadata": {},
          "execution_count": 49
        }
      ],
      "source": [
        "# Predict on a sample text with padding\n",
        "padding = \"the \" * 2000\n",
        "model_dbilstm.predict(np.array([sample_text, padding]))"
      ]
    },
    {
      "cell_type": "markdown",
      "metadata": {
        "id": "sRI776ZcH3Tf"
      },
      "source": [
        "Compile the Keras model to configure the training process:"
      ]
    },
    {
      "cell_type": "code",
      "source": [
        "# Resets all state generated by Keras\n",
        "tf.keras.backend.clear_session()\n",
        "np.random.seed(42)\n",
        "tf.random.set_seed(42)"
      ],
      "metadata": {
        "id": "D32IvKHAJ7eO"
      },
      "execution_count": 50,
      "outputs": []
    },
    {
      "cell_type": "code",
      "execution_count": 52,
      "metadata": {
        "id": "kj2xei41YZjC",
        "colab": {
          "base_uri": "https://localhost:8080/"
        },
        "outputId": "50d5b6de-cbd1-4ebb-eb63-9bb3d4d5f0cc"
      },
      "outputs": [
        {
          "output_type": "stream",
          "name": "stdout",
          "text": [
            "Epoch 1/30\n",
            "391/391 [==============================] - 122s 276ms/step - loss: 0.5661 - acc: 0.7025 - val_loss: 0.3699 - val_acc: 0.8495\n",
            "Epoch 2/30\n",
            "391/391 [==============================] - 53s 134ms/step - loss: 0.2705 - acc: 0.8962 - val_loss: 0.2991 - val_acc: 0.8776\n",
            "Epoch 3/30\n",
            "391/391 [==============================] - 53s 134ms/step - loss: 0.1975 - acc: 0.9302 - val_loss: 0.3051 - val_acc: 0.8797\n",
            "Epoch 4/30\n",
            "391/391 [==============================] - 54s 135ms/step - loss: 0.1482 - acc: 0.9513 - val_loss: 0.3384 - val_acc: 0.8724\n",
            "Epoch 5/30\n",
            "391/391 [==============================] - 53s 135ms/step - loss: 0.1156 - acc: 0.9644 - val_loss: 0.3906 - val_acc: 0.8687\n",
            "Epoch 6/30\n",
            "391/391 [==============================] - 54s 136ms/step - loss: 0.0977 - acc: 0.9718 - val_loss: 0.4703 - val_acc: 0.8443\n",
            "Epoch 7/30\n",
            "391/391 [==============================] - 53s 135ms/step - loss: 0.0784 - acc: 0.9789 - val_loss: 0.4797 - val_acc: 0.8589\n",
            "Epoch 8/30\n",
            "391/391 [==============================] - 54s 136ms/step - loss: 0.0709 - acc: 0.9824 - val_loss: 0.4757 - val_acc: 0.8641\n",
            "Epoch 9/30\n",
            "391/391 [==============================] - 54s 136ms/step - loss: 0.0595 - acc: 0.9862 - val_loss: 0.4963 - val_acc: 0.8573\n",
            "Epoch 10/30\n",
            "391/391 [==============================] - 53s 135ms/step - loss: 0.0548 - acc: 0.9881 - val_loss: 0.5694 - val_acc: 0.8552\n",
            "Epoch 11/30\n",
            "391/391 [==============================] - 53s 135ms/step - loss: 0.0548 - acc: 0.9870 - val_loss: 0.5361 - val_acc: 0.8615\n",
            "Epoch 12/30\n",
            "391/391 [==============================] - 53s 135ms/step - loss: 0.0495 - acc: 0.9886 - val_loss: 0.5578 - val_acc: 0.8615\n",
            "Epoch 13/30\n",
            "391/391 [==============================] - 54s 136ms/step - loss: 0.0432 - acc: 0.9914 - val_loss: 0.5964 - val_acc: 0.8583\n",
            "Epoch 14/30\n",
            "391/391 [==============================] - 53s 135ms/step - loss: 0.0443 - acc: 0.9901 - val_loss: 0.5835 - val_acc: 0.8552\n",
            "Epoch 15/30\n",
            "391/391 [==============================] - 53s 134ms/step - loss: 0.0424 - acc: 0.9909 - val_loss: 0.6124 - val_acc: 0.8484\n",
            "Epoch 16/30\n",
            "391/391 [==============================] - 53s 134ms/step - loss: 0.0399 - acc: 0.9919 - val_loss: 0.6075 - val_acc: 0.8562\n",
            "Epoch 17/30\n",
            "391/391 [==============================] - 52s 132ms/step - loss: 0.0367 - acc: 0.9923 - val_loss: 0.6367 - val_acc: 0.8500\n",
            "Epoch 18/30\n",
            "391/391 [==============================] - 53s 133ms/step - loss: 0.0363 - acc: 0.9928 - val_loss: 0.6320 - val_acc: 0.8531\n",
            "Epoch 19/30\n",
            "391/391 [==============================] - 53s 134ms/step - loss: 0.0364 - acc: 0.9920 - val_loss: 0.6332 - val_acc: 0.8510\n",
            "Epoch 20/30\n",
            "391/391 [==============================] - 53s 135ms/step - loss: 0.0316 - acc: 0.9940 - val_loss: 0.6640 - val_acc: 0.8531\n",
            "Epoch 21/30\n",
            "391/391 [==============================] - 53s 135ms/step - loss: 0.0338 - acc: 0.9932 - val_loss: 0.6336 - val_acc: 0.8568\n",
            "Epoch 22/30\n",
            "391/391 [==============================] - 53s 136ms/step - loss: 0.0376 - acc: 0.9918 - val_loss: 0.6334 - val_acc: 0.8578\n",
            "Epoch 23/30\n",
            "391/391 [==============================] - 53s 135ms/step - loss: 0.0294 - acc: 0.9946 - val_loss: 0.6531 - val_acc: 0.8536\n",
            "Epoch 24/30\n",
            "391/391 [==============================] - 53s 135ms/step - loss: 0.0318 - acc: 0.9932 - val_loss: 0.6636 - val_acc: 0.8510\n",
            "Epoch 25/30\n",
            "391/391 [==============================] - 53s 134ms/step - loss: 0.0316 - acc: 0.9928 - val_loss: 0.6225 - val_acc: 0.8604\n",
            "Epoch 26/30\n",
            "391/391 [==============================] - 53s 136ms/step - loss: 0.0281 - acc: 0.9946 - val_loss: 0.6738 - val_acc: 0.8521\n",
            "Epoch 27/30\n",
            "391/391 [==============================] - 54s 136ms/step - loss: 0.0274 - acc: 0.9948 - val_loss: 0.7209 - val_acc: 0.8484\n",
            "Epoch 28/30\n",
            "391/391 [==============================] - 54s 136ms/step - loss: 0.0264 - acc: 0.9948 - val_loss: 0.6883 - val_acc: 0.8557\n",
            "Epoch 29/30\n",
            "391/391 [==============================] - 53s 135ms/step - loss: 0.0261 - acc: 0.9948 - val_loss: 0.7076 - val_acc: 0.8490\n",
            "Epoch 30/30\n",
            "391/391 [==============================] - 54s 136ms/step - loss: 0.0316 - acc: 0.9929 - val_loss: 0.6771 - val_acc: 0.8562\n"
          ]
        }
      ],
      "source": [
        "# Compile the model \n",
        "model_dbilstm.compile(loss=tf.keras.losses.BinaryCrossentropy(),\n",
        "              optimizer=tf.keras.optimizers.Adam(1e-4),\n",
        "              metrics='acc')\n",
        "\n",
        "# Train the model \n",
        "history_dbilstm = model_dbilstm.fit(train_dataset, epochs= 30,\n",
        "                    validation_data=test_dataset,\n",
        "                    validation_steps=30)"
      ]
    },
    {
      "cell_type": "code",
      "execution_count": 54,
      "metadata": {
        "id": "BaNbXi43YgUT",
        "colab": {
          "base_uri": "https://localhost:8080/"
        },
        "outputId": "61754029-e0a0-48d8-e0ff-b553895b1881"
      },
      "outputs": [
        {
          "output_type": "stream",
          "name": "stdout",
          "text": [
            "391/391 [==============================] - 33s 83ms/step - loss: 0.6734 - acc: 0.8551\n",
            "Test Loss: 0.6733571290969849\n",
            "Test Accuracy: 0.8551200032234192\n"
          ]
        }
      ],
      "source": [
        "# Evaluation\n",
        "test_loss, test_acc = model_dbilstm.evaluate(test_dataset)\n",
        "\n",
        "print('Test Loss:', test_loss)\n",
        "print('Test Accuracy:', test_acc)"
      ]
    },
    {
      "cell_type": "code",
      "execution_count": 55,
      "metadata": {
        "id": "OZmwt_mzaQJk",
        "colab": {
          "base_uri": "https://localhost:8080/",
          "height": 324
        },
        "outputId": "78266056-75c2-4ffc-fbf7-4e7f4b46db4f"
      },
      "outputs": [
        {
          "output_type": "display_data",
          "data": {
            "text/plain": [
              "<Figure size 1080x360 with 1 Axes>"
            ],
            "image/png": "[encoded data removed]"
          },
          "metadata": {
            "needs_background": "light"
          }
        }
      ],
      "source": [
        "# Visualization\n",
        "import matplotlib.pyplot as plt\n",
        "\n",
        "pd.DataFrame(history_dbilstm.history).plot(figsize = (15,5))\n",
        "plt.grid(True)\n",
        "plt.gca().set_ylim(0,1);"
      ]
    },
    {
      "cell_type": "markdown",
      "metadata": {
        "id": "DwSE_386uhxD"
      },
      "source": [
        "Run a prediction on a new sentence\n",
        "\n",
        "If the prediction is >= 0.0, it is positive else it is negative."
      ]
    },
    {
      "cell_type": "code",
      "execution_count": 53,
      "metadata": {
        "id": "fD1es6Djpt2K",
        "colab": {
          "base_uri": "https://localhost:8080/"
        },
        "outputId": "80f8d94d-22aa-4d38-9aa3-bb9491fa907d"
      },
      "outputs": [
        {
          "output_type": "execute_result",
          "data": {
            "text/plain": [
              "array([[0.9825287]], dtype=float32)"
            ]
          },
          "metadata": {},
          "execution_count": 53
        }
      ],
      "source": [
        "sample_text = ('The movie was cool. The animation and the graphics '\n",
        "               'were out of this world. I would recommend this movie.')\n",
        "\n",
        "model_dbilstm.predict(np.array([sample_text]))"
      ]
    }
  ],
  "metadata": {
    "accelerator": "GPU",
    "colab": {
      "collapsed_sections": [],
      "name": "dbilstm.ipynb",
      "provenance": []
    },
    "kernelspec": {
      "display_name": "Python 3",
      "name": "python3"
    }
  },
  "nbformat": 4,
  "nbformat_minor": 0
}