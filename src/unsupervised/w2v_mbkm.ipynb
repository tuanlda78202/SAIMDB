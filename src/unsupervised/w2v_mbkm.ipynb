{
  "cells": [
    {
      "cell_type": "markdown",
      "metadata": {
        "id": "gDAkSM1Uyrw7"
      },
      "source": [
        "# Word2Vec x MBKm"
      ]
    },
    {
      "cell_type": "markdown",
      "metadata": {
        "id": "h5nD_IIaumKO"
      },
      "source": [
        "## Data"
      ]
    },
    {
      "cell_type": "code",
      "execution_count": null,
      "metadata": {
        "id": "4IkU-xUPumKQ"
      },
      "outputs": [],
      "source": [
        "# Import libraries \n",
        "import re\n",
        "import string\n",
        "import nltk\n",
        "import numpy as np\n",
        "import pandas as pd\n",
        "import matplotlib.cm as cm\n",
        "import matplotlib.pyplot as plt\n",
        "\n",
        "import tensorflow_datasets as tfds\n",
        "tfds.disable_progress_bar()\n",
        "\n",
        "import gensim.downloader as api\n",
        "from gensim.models import Word2Vec\n",
        "\n",
        "from collections import Counter \n",
        "from nltk import word_tokenize\n",
        "from nltk.corpus import stopwords\n",
        "nltk.download(\"stopwords\")\n",
        "nltk.download(\"punkt\")\n",
        "\n",
        "from sklearn.cluster import MiniBatchKMeans\n",
        "from sklearn.mixture import GaussianMixture\n",
        "from sklearn.metrics import silhouette_samples, silhouette_score"
      ]
    },
    {
      "cell_type": "code",
      "execution_count": 2,
      "metadata": {
        "id": "CwhqbprTw-WC"
      },
      "outputs": [],
      "source": [
        "# Load data \n",
        "dataset = tfds.load(\"imdb_reviews\", as_supervised = True)\n",
        "unsup_data = dataset[\"unsupervised\"]\n",
        "\n",
        "# Unsupervised Data\n",
        "unsup_sens = [str(s[0].numpy()) for s in unsup_data] \n",
        "\n",
        "# DataFrame Unsup\n",
        "df = pd.DataFrame(unsup_sens, columns = [\"text\"])"
      ]
    },
    {
      "cell_type": "code",
      "execution_count": 3,
      "metadata": {
        "id": "3uX74ZfXumKT"
      },
      "outputs": [],
      "source": [
        "# Function to clean and tokenize\n",
        "def clean_text(text, tokenizer, stopwords):\n",
        "    \"\"\"Pre-process text and generate tokens\n",
        "    \n",
        "    Args:\n",
        "        text: Text to tokenize.\n",
        "\n",
        "    Returns:\n",
        "        Tokenized text.\n",
        "    \"\"\"\n",
        "    text = str(text).lower()                            # Lowercase words\n",
        "    text = re.sub(r\"\\[(.*?)\\]\", \"\", text)               # Remove [+XYZ chars] in content\n",
        "    text = re.sub(r\"\\s+\", \" \", text)                    # Remove multiple spaces in content\n",
        "    text = re.sub(r\"\\w+…|…\", \"\", text)                  # Remove ellipsis (and last word)\n",
        "    text = re.sub(r\"(?<=\\w)-(?=\\w)\", \" \", text)         # Replace dash between words\n",
        "    text = re.sub(f\"[{re.escape(string.punctuation)}]\", \"\", text)  # Remove punctuation\n",
        "\n",
        "    tokens = tokenizer(text)                                            # Get tokens from text\n",
        "    tokens = [t for t in tokens if not t in stopwords]                  # Remove stopwords\n",
        "    tokens = [\"\" if t.isdigit() else t for t in tokens]                 # Remove digits\n",
        "    tokens = [t for t in tokens if len(t) > 1]                          # Remove short tokens\n",
        "    return tokens"
      ]
    },
    {
      "cell_type": "code",
      "execution_count": 4,
      "metadata": {
        "id": "rTj4fCrmumKT"
      },
      "outputs": [],
      "source": [
        "# Apply function and remove duplicates\n",
        "stop_words = set(stopwords.words(\"english\"))\n",
        "\n",
        "df[\"tokens\"] = df[\"text\"].map(lambda x: clean_text(x, word_tokenize, stop_words))\n",
        "\n",
        "# Remove duplicated after preprocessing\n",
        "_, idx = np.unique(df[\"tokens\"], return_index=True)\n",
        "df = df.iloc[idx, :]"
      ]
    },
    {
      "cell_type": "code",
      "execution_count": 5,
      "metadata": {
        "id": "Bz0vQYvlumKU"
      },
      "outputs": [],
      "source": [
        "# Convert vocab by token\n",
        "docs = df[\"text\"].values\n",
        "tokenized_docs = df[\"tokens\"].values\n",
        "vocab = Counter()\n",
        "for token in tokenized_docs:\n",
        "    vocab.update(token)"
      ]
    },
    {
      "cell_type": "code",
      "execution_count": 6,
      "metadata": {
        "colab": {
          "base_uri": "https://localhost:8080/"
        },
        "id": "I2EHXDOnumKU",
        "outputId": "3fb75468-b98d-45db-860d-0ce207acea27"
      },
      "outputs": [
        {
          "output_type": "execute_result",
          "data": {
            "text/plain": [
              "[('br', 114467),\n",
              " ('movie', 83804),\n",
              " ('film', 76140),\n",
              " ('one', 52238),\n",
              " ('like', 39851),\n",
              " ('good', 28801),\n",
              " ('even', 24223),\n",
              " ('time', 24029),\n",
              " ('would', 24025),\n",
              " ('really', 22801)]"
            ]
          },
          "metadata": {},
          "execution_count": 6
        }
      ],
      "source": [
        "# Check vocab\n",
        "vocab.most_common(10)"
      ]
    },
    {
      "cell_type": "markdown",
      "metadata": {
        "id": "hQl6qZlI1BFZ"
      },
      "source": [
        "### Load pretrained FastText"
      ]
    },
    {
      "cell_type": "code",
      "execution_count": 8,
      "metadata": {
        "id": "1MP91xsT1AmS",
        "colab": {
          "base_uri": "https://localhost:8080/"
        },
        "outputId": "d9c1455e-56a1-45ab-8eb5-385fd1561e00"
      },
      "outputs": [
        {
          "output_type": "stream",
          "name": "stdout",
          "text": [
            "[==================================================] 100.0% 958.5/958.4MB downloaded\n"
          ]
        }
      ],
      "source": [
        "model = api.load(\"fasttext-wiki-news-subwords-300\")\n",
        "# model = Word2Vec(sentences=tokenized_docs, seed=42)"
      ]
    },
    {
      "cell_type": "code",
      "execution_count": 9,
      "metadata": {
        "colab": {
          "base_uri": "https://localhost:8080/"
        },
        "id": "uw_DBFTp38lI",
        "outputId": "0385ada8-3773-40eb-b903-c7dcc9d26524"
      },
      "outputs": [
        {
          "output_type": "execute_result",
          "data": {
            "text/plain": [
              "[('film', 0.8769422769546509),\n",
              " ('movie-', 0.8271825313568115),\n",
              " ('movies', 0.7997194528579712),\n",
              " ('film--', 0.7811052799224854),\n",
              " ('movie.', 0.7665870189666748),\n",
              " ('film.', 0.7414735555648804),\n",
              " ('filmdom', 0.7352851629257202),\n",
              " ('mini-movie', 0.729194164276123),\n",
              " ('films', 0.7288245558738708),\n",
              " ('moviehouse', 0.728100061416626)]"
            ]
          },
          "metadata": {},
          "execution_count": 9
        }
      ],
      "source": [
        "model.most_similar(\"movie\")"
      ]
    },
    {
      "cell_type": "markdown",
      "metadata": {
        "id": "elmevGx_umKV"
      },
      "source": [
        "### Generate vectors from document"
      ]
    },
    {
      "cell_type": "code",
      "execution_count": 12,
      "metadata": {
        "id": "qA6qq_AaumKV"
      },
      "outputs": [],
      "source": [
        "# Function for creating a single vectors from word embeddings\n",
        "def vectorize(list_of_docs, model):\n",
        "    \"\"\"Generate vectors for list of documents using a Word Embedding\n",
        "\n",
        "    Args:\n",
        "        list_of_docs: List of documents\n",
        "        model: Gensim's Word Embedding\n",
        "\n",
        "    Returns:\n",
        "        List of document vectors\n",
        "    \"\"\"\n",
        "    features = []\n",
        "\n",
        "    for tokens in list_of_docs:\n",
        "        zero_vector = np.zeros(model.vector_size)\n",
        "        vectors = []\n",
        "        for token in tokens:\n",
        "            if token in model.wv:\n",
        "                try:\n",
        "                    vectors.append(model.wv[token])\n",
        "                except KeyError:\n",
        "                    continue\n",
        "        if vectors:\n",
        "            vectors = np.asarray(vectors)\n",
        "            avg_vec = vectors.mean(axis=0)\n",
        "            features.append(avg_vec)\n",
        "        else:\n",
        "            features.append(zero_vector)\n",
        "    return features"
      ]
    },
    {
      "cell_type": "code",
      "execution_count": 11,
      "metadata": {
        "id": "opV4uIgAumKW"
      },
      "outputs": [],
      "source": [
        "# Apply function to previously pre-processed text\n",
        "vectorized_docs = vectorize(tokenized_docs, model=model)"
      ]
    },
    {
      "cell_type": "code",
      "execution_count": 13,
      "metadata": {
        "colab": {
          "base_uri": "https://localhost:8080/"
        },
        "id": "94aXXYb1umKW",
        "outputId": "cfcf429e-6685-4a20-e0f1-43a4672c0b0f"
      },
      "outputs": [
        {
          "output_type": "stream",
          "name": "stderr",
          "text": [
            "/usr/local/lib/python3.7/dist-packages/ipykernel_launcher.py:1: DeprecationWarning: Call to deprecated `wv` (Attribute will be removed in 4.0.0, use self instead).\n",
            "  \"\"\"Entry point for launching an IPython kernel.\n"
          ]
        },
        {
          "output_type": "execute_result",
          "data": {
            "text/plain": [
              "[('film', 0.8769422769546509),\n",
              " ('movie-', 0.8271825313568115),\n",
              " ('movies', 0.7997194528579712),\n",
              " ('film--', 0.7811052799224854),\n",
              " ('movie.', 0.7665870189666748),\n",
              " ('film.', 0.7414735555648804),\n",
              " ('filmdom', 0.7352851629257202),\n",
              " ('mini-movie', 0.729194164276123),\n",
              " ('films', 0.7288245558738708),\n",
              " ('moviehouse', 0.728100061416626)]"
            ]
          },
          "metadata": {},
          "execution_count": 13
        }
      ],
      "source": [
        "model.wv.most_similar(\"movie\")"
      ]
    },
    {
      "cell_type": "markdown",
      "metadata": {
        "id": "U-50EA11umKX"
      },
      "source": [
        "## Generate and analyze clusters"
      ]
    },
    {
      "cell_type": "code",
      "execution_count": 14,
      "metadata": {
        "id": "33CfTSJoumKY"
      },
      "outputs": [],
      "source": [
        "# Mini-batch KMeans \n",
        "def mbkmeans_clusters(X, k, mb=512, print_silhouette_values=False):\n",
        "    \"\"\" Generate clusters\n",
        "\n",
        "    Args:\n",
        "        X: Matrix of features.\n",
        "        k: Number of clusters.\n",
        "        # mb: Size of mini-batches. Defaults to 512.\n",
        "        print_silhouette_values: Print silhouette values per cluster.\n",
        "\n",
        "    Returns:\n",
        "        Trained clustering model and labels based on X.\n",
        "    \"\"\"\n",
        "    km = MiniBatchKMeans(n_clusters=k, batch_size=mb).fit(X)\n",
        "    print(f\"For n_clusters = {k}\")\n",
        "    print(f\"Silhouette coefficient: {silhouette_score(X, km.labels_):0.2f}\")\n",
        "    print(f\"Inertia:{km.inertia_}\")\n",
        "\n",
        "    if print_silhouette_values:\n",
        "        sample_silhouette_values = silhouette_samples(X, km.labels_)\n",
        "        print(f\"Silhouette values:\")\n",
        "        silhouette_values = []\n",
        "        for i in range(k):\n",
        "            cluster_silhouette_values = sample_silhouette_values[km.labels_ == i]\n",
        "            silhouette_values.append(\n",
        "                (\n",
        "                    i,\n",
        "                    cluster_silhouette_values.shape[0],\n",
        "                    cluster_silhouette_values.mean(),\n",
        "                    cluster_silhouette_values.min(),\n",
        "                    cluster_silhouette_values.max(),\n",
        "                )\n",
        "            )\n",
        "        silhouette_values = sorted(\n",
        "            silhouette_values, key=lambda tup: tup[2], reverse=True\n",
        "        )\n",
        "        for s in silhouette_values:\n",
        "            print(\n",
        "                f\"    Cluster {s[0]}: Size:{s[1]} | Avg:{s[2]:.2f} | Min:{s[3]:.2f} | Max: {s[4]:.2f}\"\n",
        "            )\n",
        "    return km, km.labels_"
      ]
    },
    {
      "cell_type": "markdown",
      "metadata": {
        "id": "a1Tb89Zxa-LI"
      },
      "source": [
        "\n",
        "`Inertia` measures how well a dataset was clustered by K-Means. It is calculated by measuring the distance between each data point and its centroid, squaring this distance, and summing these squares across one cluster. A good model is one with low inertia AND a low number of clusters ( K )."
      ]
    },
    {
      "cell_type": "code",
      "execution_count": 15,
      "metadata": {
        "colab": {
          "base_uri": "https://localhost:8080/"
        },
        "id": "qn1M9VfCumKY",
        "outputId": "972108f8-e6d5-497a-d41a-1a6e27c9d561"
      },
      "outputs": [
        {
          "output_type": "stream",
          "name": "stdout",
          "text": [
            "For n_clusters = 2\n",
            "Silhouette coefficient: 0.08\n",
            "Inertia:901.5220866043011\n",
            "Silhouette values:\n",
            "    Cluster 1: Size:28540 | Avg:0.10 | Min:0.01 | Max: 0.25\n",
            "    Cluster 0: Size:20966 | Avg:0.05 | Min:-0.03 | Max: 0.20\n"
          ]
        }
      ],
      "source": [
        "clusterer, cluster_labels = mbkmeans_clusters(X=vectorized_docs, k=2, print_silhouette_values=True)\n",
        "df_clusters = pd.DataFrame({\n",
        "    \"text\": docs,\n",
        "    \"tokens\": [\" \".join(text) for text in tokenized_docs],\n",
        "    \"cluster\": cluster_labels\n",
        "})"
      ]
    },
    {
      "cell_type": "markdown",
      "metadata": {
        "id": "ulgc4UAeroGC"
      },
      "source": [
        "## Visualization"
      ]
    },
    {
      "cell_type": "code",
      "execution_count": 16,
      "metadata": {
        "colab": {
          "base_uri": "https://localhost:8080/",
          "height": 482
        },
        "id": "7YqhX9r3bkPo",
        "outputId": "a4a56f72-feb6-4d09-998f-3cd5fc1feb26"
      },
      "outputs": [
        {
          "output_type": "display_data",
          "data": {
            "text/plain": [
              "<Figure size 1296x504 with 1 Axes>"
            ],
            "image/png": "[encoded data removed]"
          },
          "metadata": {
            "needs_background": "light"
          }
        }
      ],
      "source": [
        "X = vectorized_docs\n",
        "n_clusters = 2 \n",
        "\n",
        "# Create a subplot with 1 row and 2 columns\n",
        "fig, ax = plt.subplots(1, 1)\n",
        "fig.set_size_inches(18, 7)\n",
        "\n",
        "# Silhouette plot\n",
        "# The silhouette coefficient can range from -1, 1\n",
        "ax.set_xlim([-0.1, 1])\n",
        "# The (n_clusters+1)*10 is for inserting blank space between silhouette\n",
        "# plots of individual clusters, to demarcate them clearly.\n",
        "ax.set_ylim([0, len(X) + (n_clusters + 1) * 10])\n",
        "\n",
        "# The silhouette_score gives the average value for all the samples.\n",
        "# This gives a perspective into the density and separation of the formed clusters\n",
        "silhouette_avg = silhouette_score(X, cluster_labels)\n",
        "\n",
        "# Compute the silhouette scores for each sample\n",
        "sample_silhouette_values = silhouette_samples(X, cluster_labels)\n",
        "\n",
        "y_lower = 10\n",
        "for i in range(n_clusters):\n",
        "    # Aggregate the silhouette scores for samples belonging to cluster i, and sort them\n",
        "    ith_cluster_silhouette_values = sample_silhouette_values[cluster_labels == i]\n",
        "\n",
        "    ith_cluster_silhouette_values.sort()\n",
        "\n",
        "    size_cluster_i = ith_cluster_silhouette_values.shape[0]\n",
        "    y_upper = y_lower + size_cluster_i\n",
        "\n",
        "    color = cm.nipy_spectral(float(i) / n_clusters)\n",
        "    ax.fill_betweenx(\n",
        "            np.arange(y_lower, y_upper),\n",
        "            0,\n",
        "            ith_cluster_silhouette_values,\n",
        "            facecolor=color,\n",
        "            edgecolor=color,\n",
        "            alpha=0.7,\n",
        "        )\n",
        "\n",
        "    # Label the silhouette plots with their cluster numbers at the middle\n",
        "    ax.text(-0.05, y_lower + 0.5 * size_cluster_i, str(i))\n",
        "\n",
        "    # Compute the new y_lower for next plot\n",
        "    y_lower = y_upper + 10  # 10 for the 0 samples\n",
        "\n",
        "ax.set_xlabel(\"The silhouette coefficient values\")\n",
        "ax.set_ylabel(\"Cluster label\")\n",
        "\n",
        "    # The vertical line for average silhouette score of all the values\n",
        "ax.axvline(x=silhouette_avg, color=\"red\", linestyle=\"--\")\n",
        "\n",
        "ax.set_yticks([])  # Clear the yaxis labels / ticks\n",
        "ax.set_xticks([-0.1, 0, 0.2, 0.4, 0.6, 0.8, 1])\n",
        "\n",
        "plt.suptitle(\"Silhouette analysis for KMeans clustering on sample data with n_clusters = %d\"\n",
        "        % n_clusters,\n",
        "        fontsize=15,\n",
        "        fontweight=\"bold\")\n",
        "\n",
        "plt.show()"
      ]
    },
    {
      "cell_type": "code",
      "execution_count": 17,
      "metadata": {
        "colab": {
          "base_uri": "https://localhost:8080/"
        },
        "id": "JxUSlkLWumKY",
        "outputId": "95d138cc-4456-4945-9d04-9a288cbc7f5a"
      },
      "outputs": [
        {
          "output_type": "stream",
          "name": "stdout",
          "text": [
            "Top terms per cluster (based on centroids):\n",
            "Cluster 0: toook meak bady just strory seeen balnce wory excute visble \n"
          ]
        },
        {
          "output_type": "stream",
          "name": "stderr",
          "text": [
            "/usr/local/lib/python3.7/dist-packages/ipykernel_launcher.py:4: DeprecationWarning: Call to deprecated `wv` (Attribute will be removed in 4.0.0, use self instead).\n",
            "  after removing the cwd from sys.path.\n"
          ]
        },
        {
          "output_type": "stream",
          "name": "stdout",
          "text": [
            "Cluster 1: toook meak strory bady balnce thru-out visble fild cooool deline \n"
          ]
        }
      ],
      "source": [
        "print(\"Top terms per cluster (based on centroids):\")\n",
        "for i in range(2):\n",
        "    tokens_per_cluster = \"\"\n",
        "    most_representative = model.wv.most_similar(positive=[clusterer.cluster_centers_[i]])\n",
        "    for t in most_representative:\n",
        "        tokens_per_cluster += f\"{t[0]} \"\n",
        "    print(f\"Cluster {i}: {tokens_per_cluster}\")"
      ]
    },
    {
      "cell_type": "code",
      "execution_count": 18,
      "metadata": {
        "colab": {
          "base_uri": "https://localhost:8080/"
        },
        "id": "Xeo3Uno7umKZ",
        "outputId": "c81a0f10-5a69-4e58-92e9-3234fe7c850d"
      },
      "outputs": [
        {
          "output_type": "stream",
          "name": "stdout",
          "text": [
            "b'Although I\\'m not a Star Wars fanatic (I certainly don\\'t read the books or anything), I love the old Star Wars movies. In fact, when I was littler, The Empire Strikes Back was my favorite film. Now that I\\'m older, I respect them for what they are: incredibly creative, exciting and touching films. I have yet to see Episode 1. My friend recommended Episode 2 to me, telling me that it was better than its predecessor, but warning me \"don\\'t see it if you expect anything more than a Star Wars movie.\" Maybe I just have a nostalgic love for the first trilogy, but I would never think that they were anywhere near as poor, in any way, as this new garbage. I can\\'t think of a high budget movie that I\\'ve seen that has such bad directing, bad acting, bad casting, bad special effects (or lack thereof), bad music, bad dialogue and bad plot, as ATTACK OF THE CLONES (bad title too). The reviewers on this site giving this movie positive reviews must all be brainwashed. Maybe they\\'re all just excited that it\\'s better than Episode One, which I can only assume must be the worst movie ever made, considering this one definitely belongs in the bottom 100.<br /><br />Let\\'s begin with the directing. WHAT THE HELL DID GEORGE LUKAS TELL HIS ACTORS? My only guess that the conversations went something like this... LUKAS: Hey Sam, sit in that chair and say your line. S.JACKSON: How do you want me to deliver it? LUKAS: Don\\'t worry about that. It doesn\\'t really matter. All the animated creatures don\\'t really show any emotion anyway. In general, you should just say your line like you\\'re reading it. Oh, but if you\\'re supposed to be angry or upset, just screw up your face a little bit.<br /><br />S.JACKSON: Okay. I guess...<br /><br />I can\\'t begin to describe how boring the non-action sequences are in this film. The actors aren\\'t interacting at all. It\\'s astounding.<br /><br />Furthermore, talk about a classic example of bad acting, Ewan McGregor spends the entire movie doing a really bad impression of the actor who played Obi Wan in the original series...uuuugh, yuck. Whoever cast this movie needs to get their head examined. I\\'ve always learned that one of the prime objectives in film, especially a drama, like this one, is to suspend the audience\\'s disbelief (perhaps George Lukas was striving to suspend belief with this one). How could anyone accept Samuel L. Jackson, one of the most prolific actors in Hollywood, as \"Mace Windu\" and Jimmy Smits, another instantly recognizable household name, as Senator \"Bail Organa\". My God, Lukas could have at least picked actors who haven\\'t reached idol status yet, but no, he had to make his budget LARGER. The majority of people who liked this casting probably just liked seeing Sam Jackson meditating next to a poorly animated Yoda (SHAFT AND YODA TOGETHER IN THE SAME ROOM, MEDITATING LIKE BUDDHISTS! AWESOME!).<br /><br />The digital special effects were disappointing and not convincing. I prefer people in elaborate costumes to the digitally animated, and amazingly generic looking, critters that Lukas used here. You\\'ve seen \\'em in the fifth element, in the trailer for men in black II (before the film started) and here they are again, a long time ago in a galaxy far far away. Go figure. Furthermore, juxtaposing digitally composed fantasy settings/landscapes(as ridiculous as they are on their own), with a real, easily recognizable, famous swiss tourist attraction was appalling.<br /><br />The music as a whole sounded like a parody of the original score (in other words, it was fitting). The dialogue was laughably atrocious. Probably my favorite line *POSSIBLE SPOILER* was when Anakin (or little Ann(ie?,y?,e??) as the Senator calls him) tells the senator, \"I didn\\'t just kill the men...but the WOMEN...and the CHILDREN TOO!\" \"Ooh am I a bad guy. I\\'m such an evil dude that I use cliches to describe my horrible deeds.\" *NO MORE SPOILERS* The plot is so delightfully convoluted that thousands of viewers at home will be able to watch this movie in less than half it\\'s running time when it comes out on VHS. They can all simply fast-forward to the action sequences and not miss anything important in the film. In fact they might as well fast-forward through the whole thing, given that the ending credits are by far the movie\\'s finest sequence.<br /><br />I\\'m getting tired of writing, so I\\'ll just say that there are so many problems with this movie that this review hasn\\'t even nearly given it justice. PLEASE, DON\\'T DISMISS THIS REVIEW JUST BECAUSE IT\\'S NEGATIVE. IF YOU HAVEN\\'T SEEN THE MOVIE YET, PLEASE, WAIT TILL COMES OUT ON VIDEO. AT LEAST THEN YOU CAN GET THE PLEASURE OF TAKING THE TAPE OUT OF THE MACHINE AND SMASHING IT TO BITS IN FRUSTRATION.'\n",
            "-------------\n",
            "b'You know those movies where if you\\'ve seen the trailer, you\\'ve seen all the good parts? I felt that way while watching this film. I don\\'t typically expect much from crappy spoof movies, but I at least expect them to try. This came off as too much of a bad Saturday Night Live or Mad TV sketch that runs on way too long. A number of SNL\\'s movies have felt that way, but really....<br /><br />Why can\\'t they ever pick _good_ \"two of the six writers from Scary Movie\"? I feel like I\\'ve seen this brand of dumb humor a million times before, albeit much better presented. I don\\'t mind abstract references that would seemingly change the storyline (the four protagonists becoming part of Wonka\\'s candy, but seconds later reverting to normal, for example), but these \"Family Guy\" style cutaways were so poorly done, it almost made me want to leave. I felt genuinely ripped off, longing for satires like Spy Hard, Last Action Hero, and Spaceballs. A friend and I debated whether this film or Scary Movie 4 was worse. We agreed it was a tie.<br /><br />The first two Scary Movies were funny because they didn\\'t let the flat parts slow them down. Scary Movie 2 contained a number of bad jokes, but it was okay because the filmmakers had a general idea of where they wanted to take the \"story\", and at least made a concentrated effort to tone down the absurdist humor in places where it wasn\\'t needed.<br /><br />Epic Movie temporarily halts the predictable, unfunny jokes close to the end of the film, when Kal Penn (who made two Harold and Kumar references, also falling quite flat, even amongst the largely tweenage audience) spells out the film\\'s moral--a sappy and poorly placed monologue on the importance of family. The repetitive use of the word \"Bitch\" to refer to the antagonist, played by Jennifer Coolidge (\"Stiffler\\'s mother\" in American Pie, a point also mentioned) got tiring. I will admit there were a few laugh-worthy moments, notably in the name of Jack Sparrow\\'s parody, Jack Swallows. The actors were all fairly devoid of talent (especially that kid from the MySpace movie, playing Ashton Kutcher), and the directing seemed nonexistent.<br /><br />Seeing the trailer is a bit of a spoiler as well, as you can tell when certain parts are coming up, effectively ruining the humor. Plus, the trailer has all the reasonably funny moments. It feels as if they directed the rest of the film as merely filler between the points showcased in the preview. I\\'m honestly not sure whether this review is in fact spoiling anything, because the trailer does a pretty good job of that on its own.<br /><br />My recommendation: don\\'t see it in theaters. Don\\'t rent it. Don\\'t even watch it on TV when nothing else is on. Forget it was even made. Trust me, you\\'re not missing anything.'\n",
            "-------------\n"
          ]
        }
      ],
      "source": [
        "test_cluster = 0\n",
        "most_representative_docs = np.argsort(\n",
        "    np.linalg.norm(vectorized_docs - clusterer.cluster_centers_[test_cluster], axis=1))\n",
        "\n",
        "for d in most_representative_docs[:2]:\n",
        "    print(docs[d])\n",
        "    print(\"-------------\")"
      ]
    },
    {
      "cell_type": "code",
      "source": [
        "test_cluster = 1\n",
        "most_representative_docs = np.argsort(\n",
        "    np.linalg.norm(vectorized_docs - clusterer.cluster_centers_[test_cluster], axis=1)\n",
        ")\n",
        "for d in most_representative_docs[:2]:\n",
        "    print(docs[d])\n",
        "    print(\"-------------\")"
      ],
      "metadata": {
        "colab": {
          "base_uri": "https://localhost:8080/"
        },
        "id": "Sy4Xy1TvbMuZ",
        "outputId": "ec598f5b-4db1-4ffd-b3f6-8859a9edee5a"
      },
      "execution_count": 19,
      "outputs": [
        {
          "output_type": "stream",
          "name": "stdout",
          "text": [
            "b\"Originally planned as the first of a series, Young Sherlock Holmes was a bit of a misfire at the box office. It cost $18 million and only grossed about 20 per cent of its budget back. In the years since its release it has become a cult film for those who can appreciate it for the blockbuster it never was. I personally discovered it on a Christmas Eve showing on BBC in the late 80s. Even then, I thought it was great despite it being a darker Christmas film than we're used to.<br /><br />In a snowy and sinister December at the height of the Victorian Era, Watson, as a teenager, is sent to Brompton, a private school in a fogbound London, when his old one is shut down due to lack of funding. Upon arrival, he meets a violin-playing smart-Alec who deducts his character from his mere appearance. It's the beginning of a life-long friendship.<br /><br />Holmes' life on campus is rather cosy. He has a pretty girlfriend Elizabeth (Sophie Ward) and her uncle, Professor Waxflatter, is a crackpot inventor of the Doc Brown variety who lives in the school attic with all of his crazy inventions. At first, Watson and Holmes have fun getting up to mischief on campus but a series of bizarre suicides soon distracts them.<br /><br />The local Inspector Lestrade is too lazy to do anything about it, leaving them free to investigate. Apparently the victims are all sane, happy men who seem to go suddenly mad with fear and hurl themselves to the nearest oncoming death. Things get personal when Waxflatter suffers the same fate and stabs himself in fit of madness.<br /><br />Why are ordinary men going crazy? Who is the mysterious black robed person hiding in the shadows? What dark secret was Waxflatter hiding? All questions to which Holmes demands answers and he drags along the nervous Watson and Elizabeth as he scours all the dodgy areas of Wapping talking to loads of cockneys and people who call you 'Govna'. What they discover is an ancient blood oath and a huge conspiracy brewing in the spooky alleyways.<br /><br />In the 80s, Chris Columbus penned a string of imaginative movies from Gremlins to The Goonies and later he directed the Home Alone films as well as Bicentennial Man (yes, I like it) and the first two Harry Potters. He's one of those writers who can hide a surprising amount of darkness in a kid's film and Young Sherlock is a fine example of his most sophisticated writing.<br /><br />With strong direction from Barry Levinson and enchanting production values from Steven Spielberg there's no denying that this movie looks absolutely great. But it's how it sounds that'll really impress you. Bruce Broughton - a tragically under-rated composer who has talent equal to John Williams - has been unfairly slumming most of his career in TV movies. Here, he delivers one of the most spellbinding and Gothic scores you have ever heard. There are dozens of themes, moments of real magic, evil menace and breathtaking action. If this film had been a hit it really would have become as famous as themes for Jaws, Indiana Jones and Harry Potter.<br /><br />And speaking of Harry Potter, one cannot deny that JK Rowling was inspired by this film in many ways when creating her Potter universe. I'm not crude enough to list all the similarities in this review but let me just say that while there may not be anywhere near enough to call it plagiarism there sure is more than enough to call it a coincidence. Watch the film and you'll know what I mean.<br /><br />Originally the critics dismissed Young Sherlock Holmes as another effects-filled Spielberg fantasy, but that's an unfair judgement. The visual effects (really quite something for its time) are essential to the story as well as being pioneering. You may not believe it but YSH was actually the first ever film to feature a fully CGI character (a stained-glass knight who comes alive), created by Pixar. Future Toy Story director John Lasseter was even one of the computer wizards who helped bring it to life. Unfortunately it lost its well-deserved Academy Award to the inferior effects of Cocoon.<br /><br />Even 20 years on a sequel definitely needed. Chris Columbus has stated he was upset that a sequel never got off the ground and that the series never took off. He shouldn't sell himself short. Of course it would need new actors but so many have put on the hat and coat of Sherlock Holmes that the role doesn't belong to just one man. There is still life in this spin-off franchise. All it needs is the right story and some of the magic that is missing from most kids' films these days.<br /><br />And when I say kids' films I should really play-down the negative connotations of such a label. As one of the first PG-13 rated films, YSH has a bit of a savage edge, a hardness unfamiliar the condescending kids' films of today.<br /><br />Sir Arthur would be proud. He may have felt indifferent towards his most famous creation, but if he were alive today he would have loved this film. And it well and truly deserves 10/10. <br /><br />This surely one DVD you must get. The 1.78:1 anamorphic picture looks great and the Dolby 5.1 soundtrack sounds good considering it has been remastered from plain old stereo. The only extra is a trailer.\"\n",
            "-------------\n",
            "b\"Well, the dark and eerie atmosphere of Stan Winston's monster/revenge horror blast is long gone. Director Jeff Burr (Leatherface: The Texas Chainsaw Massacre III) takes a once intimidating Alien-esquire looking demon and tosses him under some really bad lighting in outdoor nighttime settings, giving him away way too much; making him look so damn rubbery and corny that The Gil-less Man from The Creature Walks Among Us would laugh his a** off ... for days. The bleakness is gone. The feeling of Unstoppable carnage and revenge that emenates in the first film is made into a hokey crapfest (almost Unworthy of having a drinking game created for it, where every time you see the actor playing Pumpkinhead's f***ing Nikes, you take a swig).<br /><br />The acting is as plastic as it gets to begin with, and the story does no justice for character development either. The writers had previously done work strictly for television, I'm guessing Public Access. This comes off as a bad TV movie, which would explain why Sci-fi seemed to enjoy playing it frequently in the past. A new girl in town clinging to the local badboy (who is responsible for hospitalizing an elderly lady, and burning down her house. Oh, and stealing a page from her copy of The Book of Shadows, along with a vial of blood needed for a vengeful resurrection) and putting all of her trust in him within a day is highly unlikely; no matter what kind of connection she feels she has with the geek. I was also put off by the attempt at making said local badboy's (J. Trevor Edmund- Return of the Living Dead 3) persona distinctly familiar to the jerk character in the first film. It didn't work here to the same effect, due to the whole film being such a joke.<br /><br />Perhaps the worst addition here is trying to display Pumpkinhead as a sympathetic character, beneath the surface. This is right away experimented with flash back sequences from a deformed, backwoods kid's past. And the struggle to pull this off is butchered, due to a horrendous finale, in which Pumpkinhead is hinted to be doing friendly deeds; such as returning a toy fire truck that fell in a well to its rightful owner. f***ing ridiculous. Oh, to make things worse, this Pumpkinhead is actually the son of another Pumpkinhead. Yeah, that's right. Thankfully, not much detail is given to this part of the plot. Last thing I need is to see a back story of Pumpkinhead getting his f*** on, taking his girlfriend to Lamaze class, having a baby freak or whatever other s*** they could throw into that whole mess of a story. Though, it could make for a highly viewable sequel, for the worst reasons imaginable.<br /><br />The sad thing is, the film does contain some moments that could've been parts of a good (or at least passable) sequel. Actually, if you just take out all the sequences that involve the story, you'd be good to go. There are some really elaborate shots (the POV camera work of a shovel digging up Tommy's grave is honestly quite refreshing to uncover through the lot of this mess) and kill scenes here, to be truthful. They are aimed more for a horror romp effect than the deaths in the first film; but from that point-of-view, they are pretty entertaining. <br /><br />Although I am more than disappointed with Pumpkinhead's appearance here, I am pleased with K.N.B.'s bloodletting. The movie isn't cream filled with nastiness, but there are some fun moments. Seeing the demon rip one victim's head clean off and toss it through the woods is worthy of at least a few hits of the rewind button, I promise.<br /><br />Andrew Robinson (Hellraiser) could be noted as the film's only saving grace in the acting department; he could've been sleepwalking and gave a better performance than the rest of the cast. But even he's not in top form. His greatest moment would be when he rehearses the famously bad rhyme from the first film, and this is a pretty embarrassing moment, to say the least. <br /><br />Ami Dolenz is no stranger to the genre. Having previously played in Children of the Night, Witchboard II and Ticks (aka Infested, a Clint Howard guilty pleasure), she has all the right ingredients to be a B-Movie Scream Queen. However, her appearance as Jenny strongly conflicts with the vaguely talked about character's troublesome past. I mean c'mon, she looks goody two shoes as all hell.<br /><br />There's quite a few familiar faces to take note of, other than the few I've already mentioned. For one, Punky Brewster herself, Soleil Moon Frye. She plays Marcie, part of the town bad-a** crew, and she knows a great deal about witchcraft; because one of these dim wits really NEEDS to be smart enough in the field of witchery to resurrect a dead person; the movie calls for it. She was said to have been instructed to gain 20 pounds for her role in this film. Why this was a necessity or how it has any significance to the film, I'll never know. Kane Hodder plays an incestuous redneck that hosts chicken wars with his brother in their backyard for all the local rednecks. Linea Quigley also shows up for a cameo sex scene, of course. And we are blessed with Roger Clinton, as the town mayor; whom really has no significance what so ever.\"\n",
            "-------------\n"
          ]
        }
      ]
    }
  ],
  "metadata": {
    "accelerator": "GPU",
    "colab": {
      "collapsed_sections": [],
      "name": "w2v_mbkm.ipynb",
      "provenance": [],
      "toc_visible": true
    },
    "gpuClass": "standard",
    "kernelspec": {
      "display_name": "Python 3",
      "language": "python",
      "name": "python3"
    },
    "language_info": {
      "codemirror_mode": {
        "name": "ipython",
        "version": 3
      },
      "file_extension": ".py",
      "mimetype": "text/x-python",
      "name": "python",
      "nbconvert_exporter": "python",
      "pygments_lexer": "ipython3",
      "version": "3.8.3"
    }
  },
  "nbformat": 4,
  "nbformat_minor": 0
}