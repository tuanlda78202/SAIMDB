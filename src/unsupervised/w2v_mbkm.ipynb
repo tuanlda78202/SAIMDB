{
  "cells": [
    {
      "cell_type": "markdown",
      "metadata": {
        "id": "gDAkSM1Uyrw7"
      },
      "source": [
        "# Word2Vec x MBKM"
      ]
    },
    {
      "cell_type": "markdown",
      "metadata": {
        "id": "h5nD_IIaumKO"
      },
      "source": [
        "## Data"
      ]
    },
    {
      "cell_type": "markdown",
      "source": [
        "### Pre-processing Data"
      ],
      "metadata": {
        "id": "dklkrMjcnkBo"
      }
    },
    {
      "cell_type": "code",
      "execution_count": null,
      "metadata": {
        "id": "4IkU-xUPumKQ"
      },
      "outputs": [],
      "source": [
        "# Import libraries \n",
        "import re\n",
        "import string\n",
        "import nltk\n",
        "import numpy as np\n",
        "import pandas as pd\n",
        "import matplotlib.cm as cm\n",
        "import matplotlib.pyplot as plt\n",
        "\n",
        "import tensorflow_datasets as tfds\n",
        "tfds.disable_progress_bar()\n",
        "\n",
        "import gensim.downloader as api\n",
        "from gensim.models import Word2Vec\n",
        "\n",
        "from collections import Counter \n",
        "from nltk import word_tokenize\n",
        "from nltk.corpus import stopwords\n",
        "nltk.download(\"stopwords\")\n",
        "nltk.download(\"punkt\")\n",
        "\n",
        "from sklearn.cluster import MiniBatchKMeans\n",
        "from sklearn.mixture import GaussianMixture\n",
        "from sklearn.metrics import silhouette_samples, silhouette_score"
      ]
    },
    {
      "cell_type": "code",
      "execution_count": 2,
      "metadata": {
        "id": "CwhqbprTw-WC"
      },
      "outputs": [],
      "source": [
        "# Load data \n",
        "dataset = tfds.load(\"imdb_reviews\", as_supervised = True)\n",
        "unsup_data = dataset[\"unsupervised\"]\n",
        "\n",
        "# Unsupervised Data\n",
        "unsup_sens = [str(s[0].numpy()) for s in unsup_data] \n",
        "\n",
        "# DataFrame Unsup\n",
        "df = pd.DataFrame(unsup_sens, columns = [\"text\"])"
      ]
    },
    {
      "cell_type": "code",
      "execution_count": 3,
      "metadata": {
        "id": "3uX74ZfXumKT"
      },
      "outputs": [],
      "source": [
        "# Function to clean and tokenize\n",
        "def clean_text(text, tokenizer, stopwords):\n",
        "    \"\"\"Pre-process text and generate tokens\n",
        "    \n",
        "    Args:\n",
        "        text: Text to tokenize.\n",
        "\n",
        "    Returns:\n",
        "        Tokenized text.\n",
        "    \"\"\"\n",
        "    text = str(text).lower()                            # Lowercase words\n",
        "    text = re.sub(r\"\\[(.*?)\\]\", \"\", text)               # Remove [+XYZ chars] in content\n",
        "    text = re.sub(r\"\\s+\", \" \", text)                    # Remove multiple spaces in content\n",
        "    text = re.sub(r\"\\w+…|…\", \"\", text)                  # Remove ellipsis (and last word)\n",
        "    text = re.sub(r\"(?<=\\w)-(?=\\w)\", \" \", text)         # Replace dash between words\n",
        "    text = re.sub(f\"[{re.escape(string.punctuation)}]\", \"\", text)  # Remove punctuation\n",
        "\n",
        "    tokens = tokenizer(text)                                            # Get tokens from text\n",
        "    tokens = [t for t in tokens if not t in stopwords]                  # Remove stopwords\n",
        "    tokens = [\"\" if t.isdigit() else t for t in tokens]                 # Remove digits\n",
        "    tokens = [t for t in tokens if len(t) > 1]                          # Remove short tokens\n",
        "    return tokens"
      ]
    },
    {
      "cell_type": "code",
      "execution_count": 4,
      "metadata": {
        "id": "rTj4fCrmumKT"
      },
      "outputs": [],
      "source": [
        "# Apply function and remove duplicates\n",
        "stop_words = set(stopwords.words(\"english\"))\n",
        "\n",
        "df[\"tokens\"] = df[\"text\"].map(lambda x: clean_text(x, word_tokenize, stop_words))\n",
        "\n",
        "# Remove duplicated after preprocessing\n",
        "_, idx = np.unique(df[\"tokens\"], return_index=True)\n",
        "df = df.iloc[idx, :]"
      ]
    },
    {
      "cell_type": "code",
      "execution_count": 5,
      "metadata": {
        "id": "Bz0vQYvlumKU"
      },
      "outputs": [],
      "source": [
        "# Convert vocab by token\n",
        "docs = df[\"text\"].values\n",
        "tokenized_docs = df[\"tokens\"].values\n",
        "vocab = Counter()\n",
        "for token in tokenized_docs:\n",
        "    vocab.update(token)"
      ]
    },
    {
      "cell_type": "code",
      "execution_count": 6,
      "metadata": {
        "colab": {
          "base_uri": "https://localhost:8080/"
        },
        "id": "I2EHXDOnumKU",
        "outputId": "0d4211b9-2f7c-499a-d3e8-73f96f4898d5"
      },
      "outputs": [
        {
          "output_type": "execute_result",
          "data": {
            "text/plain": [
              "[('br', 114467),\n",
              " ('movie', 83804),\n",
              " ('film', 76140),\n",
              " ('one', 52238),\n",
              " ('like', 39851),\n",
              " ('good', 28801),\n",
              " ('even', 24223),\n",
              " ('time', 24029),\n",
              " ('would', 24025),\n",
              " ('really', 22801)]"
            ]
          },
          "metadata": {},
          "execution_count": 6
        }
      ],
      "source": [
        "# Check vocab\n",
        "vocab.most_common(10)"
      ]
    },
    {
      "cell_type": "markdown",
      "metadata": {
        "id": "hQl6qZlI1BFZ"
      },
      "source": [
        "### Pretrained FastText"
      ]
    },
    {
      "cell_type": "code",
      "execution_count": 7,
      "metadata": {
        "id": "1MP91xsT1AmS"
      },
      "outputs": [],
      "source": [
        "# model = Word2Vec(sentences=tokenized_docs, seed=42)\n",
        "model = api.load(\"fasttext-wiki-news-subwords-300\")"
      ]
    },
    {
      "cell_type": "code",
      "execution_count": 8,
      "metadata": {
        "colab": {
          "base_uri": "https://localhost:8080/"
        },
        "id": "uw_DBFTp38lI",
        "outputId": "60b0df03-a503-40cb-c977-827b14f98be4"
      },
      "outputs": [
        {
          "output_type": "execute_result",
          "data": {
            "text/plain": [
              "[('film', 0.8769422769546509),\n",
              " ('movie-', 0.8271825313568115),\n",
              " ('movies', 0.7997194528579712),\n",
              " ('film--', 0.7811052799224854),\n",
              " ('movie.', 0.7665870189666748),\n",
              " ('film.', 0.7414735555648804),\n",
              " ('filmdom', 0.7352851629257202),\n",
              " ('mini-movie', 0.729194164276123),\n",
              " ('films', 0.7288245558738708),\n",
              " ('moviehouse', 0.728100061416626)]"
            ]
          },
          "metadata": {},
          "execution_count": 8
        }
      ],
      "source": [
        "model.most_similar(\"movie\")"
      ]
    },
    {
      "cell_type": "markdown",
      "metadata": {
        "id": "elmevGx_umKV"
      },
      "source": [
        "### Generate Vectors"
      ]
    },
    {
      "cell_type": "code",
      "execution_count": 9,
      "metadata": {
        "id": "qA6qq_AaumKV"
      },
      "outputs": [],
      "source": [
        "# Function for creating a single vectors from word embeddings\n",
        "def vectorize(list_of_docs, model):\n",
        "    \"\"\"Generate vectors for list of documents using a Word Embedding\n",
        "\n",
        "    Args:\n",
        "        list_of_docs: List of documents\n",
        "        model: Gensim's Word Embedding\n",
        "\n",
        "    Returns:\n",
        "        List of document vectors\n",
        "    \"\"\"\n",
        "    features = []\n",
        "\n",
        "    for tokens in list_of_docs:\n",
        "        zero_vector = np.zeros(model.vector_size)\n",
        "        vectors = []\n",
        "        for token in tokens:\n",
        "            if token in model.wv:\n",
        "                try:\n",
        "                    vectors.append(model.wv[token])\n",
        "                except KeyError:\n",
        "                    continue\n",
        "        if vectors:\n",
        "            vectors = np.asarray(vectors)\n",
        "            avg_vec = vectors.mean(axis=0)\n",
        "            features.append(avg_vec)\n",
        "        else:\n",
        "            features.append(zero_vector)\n",
        "    return features"
      ]
    },
    {
      "cell_type": "code",
      "execution_count": 10,
      "metadata": {
        "id": "opV4uIgAumKW"
      },
      "outputs": [],
      "source": [
        "# Apply function to previously pre-processed text\n",
        "vectorized_docs = vectorize(tokenized_docs, model=model)"
      ]
    },
    {
      "cell_type": "code",
      "execution_count": 11,
      "metadata": {
        "colab": {
          "base_uri": "https://localhost:8080/"
        },
        "id": "94aXXYb1umKW",
        "outputId": "a7e197e9-f143-4433-8c72-1ed10309aaf7"
      },
      "outputs": [
        {
          "output_type": "stream",
          "name": "stderr",
          "text": [
            "/usr/local/lib/python3.7/dist-packages/ipykernel_launcher.py:1: DeprecationWarning: Call to deprecated `wv` (Attribute will be removed in 4.0.0, use self instead).\n",
            "  \"\"\"Entry point for launching an IPython kernel.\n"
          ]
        },
        {
          "output_type": "execute_result",
          "data": {
            "text/plain": [
              "[('film', 0.8769422769546509),\n",
              " ('movie-', 0.8271825313568115),\n",
              " ('movies', 0.7997194528579712),\n",
              " ('film--', 0.7811052799224854),\n",
              " ('movie.', 0.7665870189666748),\n",
              " ('film.', 0.7414735555648804),\n",
              " ('filmdom', 0.7352851629257202),\n",
              " ('mini-movie', 0.729194164276123),\n",
              " ('films', 0.7288245558738708),\n",
              " ('moviehouse', 0.728100061416626)]"
            ]
          },
          "metadata": {},
          "execution_count": 11
        }
      ],
      "source": [
        "model.wv.most_similar(\"movie\")"
      ]
    },
    {
      "cell_type": "markdown",
      "metadata": {
        "id": "U-50EA11umKX"
      },
      "source": [
        "## Generate and analyze clusters"
      ]
    },
    {
      "cell_type": "code",
      "execution_count": 20,
      "metadata": {
        "id": "33CfTSJoumKY"
      },
      "outputs": [],
      "source": [
        "# Mini-batch KMeans \n",
        "def mbkmeans_clusters(X, k, mb=512, print_silhouette_values=False):\n",
        "    \"\"\" Generate clusters\n",
        "\n",
        "    Args:\n",
        "        X: Matrix of features.\n",
        "        k: Number of clusters.\n",
        "        # mb: Size of mini-batches. Defaults to 512.\n",
        "        print_silhouette_values: Print silhouette values per cluster.\n",
        "\n",
        "    Returns:\n",
        "        Trained clustering model and labels based on X.\n",
        "    \"\"\"\n",
        "    km = MiniBatchKMeans(n_clusters=k, batch_size=mb, random_state = 10).fit(X)\n",
        "    print(f\"For n_clusters = {k}\")\n",
        "    print(f\"Silhouette coefficient: {silhouette_score(X, km.labels_):0.2f}\")\n",
        "    print(f\"Inertia:{km.inertia_}\")\n",
        "\n",
        "    if print_silhouette_values:\n",
        "        sample_silhouette_values = silhouette_samples(X, km.labels_)\n",
        "        print(f\"Silhouette values:\")\n",
        "        silhouette_values = []\n",
        "        for i in range(k):\n",
        "            cluster_silhouette_values = sample_silhouette_values[km.labels_ == i]\n",
        "            silhouette_values.append(\n",
        "                (\n",
        "                    i,\n",
        "                    cluster_silhouette_values.shape[0],\n",
        "                    cluster_silhouette_values.mean(),\n",
        "                    cluster_silhouette_values.min(),\n",
        "                    cluster_silhouette_values.max(),\n",
        "                )\n",
        "            )\n",
        "        silhouette_values = sorted(\n",
        "            silhouette_values, key=lambda tup: tup[2], reverse=True\n",
        "        )\n",
        "        for s in silhouette_values:\n",
        "            print(\n",
        "                f\"    Cluster {s[0]}: Size:{s[1]} | Avg:{s[2]:.2f} | Min:{s[3]:.2f} | Max: {s[4]:.2f}\"\n",
        "            )\n",
        "    return km, km.labels_"
      ]
    },
    {
      "cell_type": "markdown",
      "metadata": {
        "id": "a1Tb89Zxa-LI"
      },
      "source": [
        "\n",
        "`Inertia` measures how well a dataset was clustered by K-Means. It is calculated by measuring the distance between each data point and its centroid, squaring this distance, and summing these squares across one cluster. A good model is one with low inertia AND a low number of clusters ( K )."
      ]
    },
    {
      "cell_type": "code",
      "execution_count": 21,
      "metadata": {
        "colab": {
          "base_uri": "https://localhost:8080/"
        },
        "id": "qn1M9VfCumKY",
        "outputId": "f7b16d94-58b5-4ff7-b1fd-e1780f93338c"
      },
      "outputs": [
        {
          "output_type": "stream",
          "name": "stdout",
          "text": [
            "For n_clusters = 2\n",
            "Silhouette coefficient: 0.07\n",
            "Inertia:902.5535267712504\n",
            "Silhouette values:\n",
            "    Cluster 1: Size:24027 | Avg:0.09 | Min:0.00 | Max: 0.23\n",
            "    Cluster 0: Size:25479 | Avg:0.05 | Min:-0.04 | Max: 0.21\n"
          ]
        }
      ],
      "source": [
        "clusterer, cluster_labels = mbkmeans_clusters(X=vectorized_docs, k=2, print_silhouette_values=True)\n",
        "df_clusters = pd.DataFrame({\n",
        "    \"text\": docs,\n",
        "    \"tokens\": [\" \".join(text) for text in tokenized_docs],\n",
        "    \"cluster\": cluster_labels\n",
        "})"
      ]
    },
    {
      "cell_type": "markdown",
      "metadata": {
        "id": "ulgc4UAeroGC"
      },
      "source": [
        "## Visualization"
      ]
    },
    {
      "cell_type": "code",
      "execution_count": 22,
      "metadata": {
        "colab": {
          "base_uri": "https://localhost:8080/",
          "height": 482
        },
        "id": "7YqhX9r3bkPo",
        "outputId": "fc592eea-fb81-4640-d0ac-3496d0519068"
      },
      "outputs": [
        {
          "output_type": "display_data",
          "data": {
            "text/plain": [
              "<Figure size 1296x504 with 1 Axes>"
            ],
            "image/png": "[encoded data removed]"
          },
          "metadata": {
            "needs_background": "light"
          }
        }
      ],
      "source": [
        "X = vectorized_docs\n",
        "n_clusters = 2 \n",
        "\n",
        "# Create a subplot with 1 row and 2 columns\n",
        "fig, ax = plt.subplots(1, 1)\n",
        "fig.set_size_inches(18, 7)\n",
        "\n",
        "# Silhouette plot\n",
        "# The silhouette coefficient can range from -1, 1\n",
        "ax.set_xlim([-0.1, 1])\n",
        "# The (n_clusters+1)*10 is for inserting blank space between silhouette\n",
        "# plots of individual clusters, to demarcate them clearly.\n",
        "ax.set_ylim([0, len(X) + (n_clusters + 1) * 10])\n",
        "\n",
        "# The silhouette_score gives the average value for all the samples.\n",
        "# This gives a perspective into the density and separation of the formed clusters\n",
        "silhouette_avg = silhouette_score(X, cluster_labels)\n",
        "\n",
        "# Compute the silhouette scores for each sample\n",
        "sample_silhouette_values = silhouette_samples(X, cluster_labels)\n",
        "\n",
        "y_lower = 10\n",
        "for i in range(n_clusters):\n",
        "    # Aggregate the silhouette scores for samples belonging to cluster i, and sort them\n",
        "    ith_cluster_silhouette_values = sample_silhouette_values[cluster_labels == i]\n",
        "\n",
        "    ith_cluster_silhouette_values.sort()\n",
        "\n",
        "    size_cluster_i = ith_cluster_silhouette_values.shape[0]\n",
        "    y_upper = y_lower + size_cluster_i\n",
        "\n",
        "    color = cm.nipy_spectral(float(i) / n_clusters)\n",
        "    ax.fill_betweenx(\n",
        "            np.arange(y_lower, y_upper),\n",
        "            0,\n",
        "            ith_cluster_silhouette_values,\n",
        "            facecolor=color,\n",
        "            edgecolor=color,\n",
        "            alpha=0.7,\n",
        "        )\n",
        "\n",
        "    # Label the silhouette plots with their cluster numbers at the middle\n",
        "    ax.text(-0.05, y_lower + 0.5 * size_cluster_i, str(i))\n",
        "\n",
        "    # Compute the new y_lower for next plot\n",
        "    y_lower = y_upper + 10  # 10 for the 0 samples\n",
        "\n",
        "ax.set_xlabel(\"The silhouette coefficient values\")\n",
        "ax.set_ylabel(\"Cluster label\")\n",
        "\n",
        "    # The vertical line for average silhouette score of all the values\n",
        "ax.axvline(x=silhouette_avg, color=\"red\", linestyle=\"--\")\n",
        "\n",
        "ax.set_yticks([])  # Clear the yaxis labels / ticks\n",
        "ax.set_xticks([-0.1, 0, 0.2, 0.4, 0.6, 0.8, 1])\n",
        "\n",
        "plt.suptitle(\"Silhouette analysis for KMeans clustering on sample data with n_clusters = %d\"\n",
        "        % n_clusters,\n",
        "        fontsize=15,\n",
        "        fontweight=\"bold\")\n",
        "\n",
        "plt.show()"
      ]
    },
    {
      "cell_type": "code",
      "execution_count": 23,
      "metadata": {
        "colab": {
          "base_uri": "https://localhost:8080/"
        },
        "id": "JxUSlkLWumKY",
        "outputId": "716473a8-8e26-4e58-8b25-d6428e293206"
      },
      "outputs": [
        {
          "output_type": "stream",
          "name": "stdout",
          "text": [
            "Top terms per cluster (based on centroids):\n",
            "Cluster 0: toook meak bady strory just balnce seeen wory visble excute \n"
          ]
        },
        {
          "output_type": "stream",
          "name": "stderr",
          "text": [
            "/usr/local/lib/python3.7/dist-packages/ipykernel_launcher.py:4: DeprecationWarning: Call to deprecated `wv` (Attribute will be removed in 4.0.0, use self instead).\n",
            "  after removing the cwd from sys.path.\n"
          ]
        },
        {
          "output_type": "stream",
          "name": "stdout",
          "text": [
            "Cluster 1: toook meak strory bady balnce fild visble thru-out cooool deline \n"
          ]
        }
      ],
      "source": [
        "print(\"Top terms per cluster (based on centroids):\")\n",
        "for i in range(2):\n",
        "    tokens_per_cluster = \"\"\n",
        "    most_representative = model.wv.most_similar(positive=[clusterer.cluster_centers_[i]])\n",
        "    for t in most_representative:\n",
        "        tokens_per_cluster += f\"{t[0]} \"\n",
        "    print(f\"Cluster {i}: {tokens_per_cluster}\")"
      ]
    },
    {
      "cell_type": "code",
      "execution_count": 27,
      "metadata": {
        "colab": {
          "base_uri": "https://localhost:8080/"
        },
        "id": "Xeo3Uno7umKZ",
        "outputId": "5960b2e5-0fc2-421d-f3b5-8ad6973314a9"
      },
      "outputs": [
        {
          "output_type": "stream",
          "name": "stdout",
          "text": [
            "b'Before I write this interview, I wanted to just explain that I have been a Dennis Miller fan since I was 11 (1994), and he was the only reason I saw this movie. I also think he was one of the aspects of this movie that held redeeming value. In addition, purchased it new for less than $10 a few years ago, and it is in my Halloween movie collection. With that out of the way, I\\'ll start my review.<br /><br />Vampress Lilith (Angie Everhart) is brought to life again after a long rest in one of the far corners of the world by Reverend Jimmy Current (Chris Sarandon) and his partner Vincent. The two establish a bordello disguised as a funeral home to attract \"evil\" local young men. The men can \"get stiff among the stiffs,\" but men start disappearing. This disappearance of local young men hits close to home for Katherine Verdoux(Erika Eleniak) when her rebellious younger brother Caleb (Corey Feldman) goes missing. So, she hires a Rafe Guttman (Dennis Miller) a wisecracking, seedy private investigator with good intentions and a quite unusual case--all involving this mortuary with secrets. Rafe and Katherine put themselves into a mystery that crosses the boundary of the living and the dead--rather, the undead.<br /><br />This movie, thought quite funny, is a bad movie. That\\'s just how it is. Going into this movie, the title itself is an indication of how trashy or bad it really is. But man, is it a fun trip! I found myself laughing at pretty much all the right scenes and all the right lines. Its as though the lines are tailored for Miller himself, it is perfect shtick for him. Most of the movies he\\'s been in had parts written especially for him, but this was perfect. My first impression of Rafe is that he\\'s a jerk, but I discovered (rather quickly) that he is rather good-natured and good-intentioned, and that he truly wants to help Katherine out.<br /><br />There are two scenes I absolutely loathed about this movie--the scene where Lilith encounters Rafe in his office (I turn the channel off or fast-forward the tape), and the opening scene of the movie where Lilith is discovered by Rev. Current and Vincent (this is only watchable once). Otherwise, this movie is quite funny and interesting if you plan on getting into it. My biggest beef (spoiler) is that we don\\'t even meet our hero until roughly 20 minutes into the movie! When you\\'re first billed, doesn\\'t this mean you\\'ll show up earlier in the film? I guess someone missed one of the most important parts of film-making, or at least credit order. But, its OK, really, it\\'s not the worst thing about the film.<br /><br />This is essentially a bad movie. I read another review that says that it seems Dennis Miller is letting the viewers know this. He sure is! This is one of those so-bad-it\\'s-funny kind of movies (why it used to be in the horror section of the video store I have no idea). However, Dennis Miller is hysterical in it!! I loved his moments--he had a lot of good ones.<br /><br />I liked when he goes to the \"Cunningham wake,\" and watches as the men lift the coffin out of the room, but struggle with it. Guttman, observing the scene, says \"Wow, she really was a heavyweight.\" He does make some of the most classically bad facial expressions I have witnessed in a long time (honestly, after seeing this, I want to know what acting school I have to go to just to learn to \"Act the Dennis Miller Way\"). My favorite scenes are the Super Soaker scene (I won\\'t divulge on this too much, not to spoil it, but it is a classic scene not to me missed), the scene where he sneaks back into the mortuary to investigate, and when Rafe heads into the coffin drop to visit the Bordello.<br /><br />So why 7 out of 10 stars? One point deducted for the opening scene, which tends to be long and drawn-out. Watch this once, and you\\'ll understand what is going on. What redeems this film is that after this point in the film, it becomes better, and the plot begins to move a little. One the same point, the entire first twenty minutes of the film is a complete drag. Skip the introduction on the next viewing. Another point deducted for the scene where Lilith encounters Rafe in his office--this scene is just a complete turn-off to me (2, 4, 6, 8--You can watch me masturbate!--yuck). And a third point deducted for the nudity. Yes, I know, it\\'s a bordello, yes, they\\'re supposed to be nude. But, I \\'m a female, and I don\\'t take pleasure in watching naked women prance around. But, I\\'m flexible, so I pushed past that dislike and ignored it. The bad acting isn\\'t even a negative--it adds to the movie\\'s silly nature.<br /><br />This is a great Halloween movie, but non-Dennis Miller fans may be turned off by it. Maybe not, I don\\'t know. The acting is pretty bad, but that\\'s the point--it\\'s not Oscar-caliber material. I highly recommend this movie--it has its moments that make is memorable (probably not for all the right reasons, but it tries). Some classic scenes make it funny, and you just may watch it more than once (I have!). Just try not to read too much into it. It really is quite an enjoyable diversion.'\n",
            "-------------\n",
            "b'Although I\\'m not a Star Wars fanatic (I certainly don\\'t read the books or anything), I love the old Star Wars movies. In fact, when I was littler, The Empire Strikes Back was my favorite film. Now that I\\'m older, I respect them for what they are: incredibly creative, exciting and touching films. I have yet to see Episode 1. My friend recommended Episode 2 to me, telling me that it was better than its predecessor, but warning me \"don\\'t see it if you expect anything more than a Star Wars movie.\" Maybe I just have a nostalgic love for the first trilogy, but I would never think that they were anywhere near as poor, in any way, as this new garbage. I can\\'t think of a high budget movie that I\\'ve seen that has such bad directing, bad acting, bad casting, bad special effects (or lack thereof), bad music, bad dialogue and bad plot, as ATTACK OF THE CLONES (bad title too). The reviewers on this site giving this movie positive reviews must all be brainwashed. Maybe they\\'re all just excited that it\\'s better than Episode One, which I can only assume must be the worst movie ever made, considering this one definitely belongs in the bottom 100.<br /><br />Let\\'s begin with the directing. WHAT THE HELL DID GEORGE LUKAS TELL HIS ACTORS? My only guess that the conversations went something like this... LUKAS: Hey Sam, sit in that chair and say your line. S.JACKSON: How do you want me to deliver it? LUKAS: Don\\'t worry about that. It doesn\\'t really matter. All the animated creatures don\\'t really show any emotion anyway. In general, you should just say your line like you\\'re reading it. Oh, but if you\\'re supposed to be angry or upset, just screw up your face a little bit.<br /><br />S.JACKSON: Okay. I guess...<br /><br />I can\\'t begin to describe how boring the non-action sequences are in this film. The actors aren\\'t interacting at all. It\\'s astounding.<br /><br />Furthermore, talk about a classic example of bad acting, Ewan McGregor spends the entire movie doing a really bad impression of the actor who played Obi Wan in the original series...uuuugh, yuck. Whoever cast this movie needs to get their head examined. I\\'ve always learned that one of the prime objectives in film, especially a drama, like this one, is to suspend the audience\\'s disbelief (perhaps George Lukas was striving to suspend belief with this one). How could anyone accept Samuel L. Jackson, one of the most prolific actors in Hollywood, as \"Mace Windu\" and Jimmy Smits, another instantly recognizable household name, as Senator \"Bail Organa\". My God, Lukas could have at least picked actors who haven\\'t reached idol status yet, but no, he had to make his budget LARGER. The majority of people who liked this casting probably just liked seeing Sam Jackson meditating next to a poorly animated Yoda (SHAFT AND YODA TOGETHER IN THE SAME ROOM, MEDITATING LIKE BUDDHISTS! AWESOME!).<br /><br />The digital special effects were disappointing and not convincing. I prefer people in elaborate costumes to the digitally animated, and amazingly generic looking, critters that Lukas used here. You\\'ve seen \\'em in the fifth element, in the trailer for men in black II (before the film started) and here they are again, a long time ago in a galaxy far far away. Go figure. Furthermore, juxtaposing digitally composed fantasy settings/landscapes(as ridiculous as they are on their own), with a real, easily recognizable, famous swiss tourist attraction was appalling.<br /><br />The music as a whole sounded like a parody of the original score (in other words, it was fitting). The dialogue was laughably atrocious. Probably my favorite line *POSSIBLE SPOILER* was when Anakin (or little Ann(ie?,y?,e??) as the Senator calls him) tells the senator, \"I didn\\'t just kill the men...but the WOMEN...and the CHILDREN TOO!\" \"Ooh am I a bad guy. I\\'m such an evil dude that I use cliches to describe my horrible deeds.\" *NO MORE SPOILERS* The plot is so delightfully convoluted that thousands of viewers at home will be able to watch this movie in less than half it\\'s running time when it comes out on VHS. They can all simply fast-forward to the action sequences and not miss anything important in the film. In fact they might as well fast-forward through the whole thing, given that the ending credits are by far the movie\\'s finest sequence.<br /><br />I\\'m getting tired of writing, so I\\'ll just say that there are so many problems with this movie that this review hasn\\'t even nearly given it justice. PLEASE, DON\\'T DISMISS THIS REVIEW JUST BECAUSE IT\\'S NEGATIVE. IF YOU HAVEN\\'T SEEN THE MOVIE YET, PLEASE, WAIT TILL COMES OUT ON VIDEO. AT LEAST THEN YOU CAN GET THE PLEASURE OF TAKING THE TAPE OUT OF THE MACHINE AND SMASHING IT TO BITS IN FRUSTRATION.'\n",
            "-------------\n"
          ]
        }
      ],
      "source": [
        "test_cluster = 0\n",
        "most_representative_docs = np.argsort(\n",
        "    np.linalg.norm(vectorized_docs - clusterer.cluster_centers_[test_cluster], axis=1))\n",
        "\n",
        "for d in most_representative_docs[:2]:\n",
        "    print(docs[d])\n",
        "    print(\"-------------\")"
      ]
    }
  ],
  "metadata": {
    "accelerator": "GPU",
    "colab": {
      "collapsed_sections": [],
      "name": "w2v_mbkm.ipynb",
      "provenance": [],
      "toc_visible": true
    },
    "gpuClass": "standard",
    "kernelspec": {
      "display_name": "Python 3",
      "language": "python",
      "name": "python3"
    },
    "language_info": {
      "codemirror_mode": {
        "name": "ipython",
        "version": 3
      },
      "file_extension": ".py",
      "mimetype": "text/x-python",
      "name": "python",
      "nbconvert_exporter": "python",
      "pygments_lexer": "ipython3",
      "version": "3.8.3"
    }
  },
  "nbformat": 4,
  "nbformat_minor": 0
}