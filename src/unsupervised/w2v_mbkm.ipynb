{
  "cells": [
    {
      "cell_type": "markdown",
      "metadata": {
        "id": "gDAkSM1Uyrw7"
      },
      "source": [
        "# Word2Vec x MBKm"
      ]
    },
    {
      "cell_type": "markdown",
      "metadata": {
        "id": "h5nD_IIaumKO"
      },
      "source": [
        "## Import Data"
      ]
    },
    {
      "cell_type": "code",
      "execution_count": null,
      "metadata": {
        "id": "4IkU-xUPumKQ"
      },
      "outputs": [],
      "source": [
        "# Import libraries \n",
        "import re\n",
        "import string\n",
        "import nltk\n",
        "\n",
        "import tensorflow_datasets as tfds\n",
        "tfds.disable_progress_bar()\n",
        "import numpy as np\n",
        "import pandas as pd\n",
        "import matplotlib.cm as cm\n",
        "import matplotlib.pyplot as plt\n",
        "\n",
        "from collections import Counter \n",
        "\n",
        "import gensim.downloader as api\n",
        "from gensim.models import Word2Vec\n",
        "\n",
        "from nltk import word_tokenize\n",
        "from nltk.corpus import stopwords\n",
        "\n",
        "from sklearn.cluster import MiniBatchKMeans\n",
        "from sklearn.mixture import GaussianMixture\n",
        "from sklearn.metrics import silhouette_samples, silhouette_score\n",
        "\n",
        "tfds.disable_progress_bar()\n",
        "nltk.download(\"stopwords\")\n",
        "nltk.download(\"punkt\")"
      ]
    },
    {
      "cell_type": "code",
      "execution_count": null,
      "metadata": {
        "id": "CwhqbprTw-WC"
      },
      "outputs": [],
      "source": [
        "# Load data \n",
        "dataset = tfds.load(\"imdb_reviews\", as_supervised = True)\n",
        "unsup_data = dataset[\"unsupervised\"]\n",
        "\n",
        "# Unsup\n",
        "unsup_sens = [str(s[0].numpy()) for s in unsup_data] \n",
        "\n",
        "# DataFrame Unsup\n",
        "df = pd.DataFrame(unsup_sens, columns = [\"text\"])"
      ]
    },
    {
      "cell_type": "markdown",
      "metadata": {
        "id": "YEBB2efWumKS"
      },
      "source": [
        "## Clean data"
      ]
    },
    {
      "cell_type": "markdown",
      "metadata": {
        "id": "dZW5Nr8kumKT"
      },
      "source": [
        "### Define function to clean and tokenize"
      ]
    },
    {
      "cell_type": "code",
      "execution_count": 3,
      "metadata": {
        "id": "3uX74ZfXumKT"
      },
      "outputs": [],
      "source": [
        "def clean_text(text, tokenizer, stopwords):\n",
        "    \"\"\"Pre-process text and generate tokens\n",
        "    \n",
        "    Args:\n",
        "        text: Text to tokenize.\n",
        "\n",
        "    Returns:\n",
        "        Tokenized text.\n",
        "    \"\"\"\n",
        "    text = str(text).lower()                            # Lowercase words\n",
        "    text = re.sub(r\"\\[(.*?)\\]\", \"\", text)               # Remove [+XYZ chars] in content\n",
        "    text = re.sub(r\"\\s+\", \" \", text)                    # Remove multiple spaces in content\n",
        "    text = re.sub(r\"\\w+…|…\", \"\", text)                  # Remove ellipsis (and last word)\n",
        "    text = re.sub(r\"(?<=\\w)-(?=\\w)\", \" \", text)         # Replace dash between words\n",
        "    text = re.sub(f\"[{re.escape(string.punctuation)}]\", \"\", text)  # Remove punctuation\n",
        "\n",
        "    tokens = tokenizer(text)                                            # Get tokens from text\n",
        "    tokens = [t for t in tokens if not t in stopwords]                  # Remove stopwords\n",
        "    tokens = [\"\" if t.isdigit() else t for t in tokens]                 # Remove digits\n",
        "    tokens = [t for t in tokens if len(t) > 1]                          # Remove short tokens\n",
        "    return tokens"
      ]
    },
    {
      "cell_type": "markdown",
      "metadata": {
        "id": "_Ga4ErQEumKT"
      },
      "source": [
        "### Apply function and remove duplicates"
      ]
    },
    {
      "cell_type": "code",
      "execution_count": 4,
      "metadata": {
        "id": "rTj4fCrmumKT"
      },
      "outputs": [],
      "source": [
        "stop_words = set(stopwords.words(\"english\"))\n",
        "\n",
        "df[\"tokens\"] = df[\"text\"].map(lambda x: clean_text(x, word_tokenize, stop_words))\n",
        "\n",
        "# Remove duplicated after preprocessing\n",
        "_, idx = np.unique(df[\"tokens\"], return_index=True)\n",
        "df = df.iloc[idx, :]"
      ]
    },
    {
      "cell_type": "markdown",
      "metadata": {
        "id": "D5UAUsdIumKU"
      },
      "source": [
        "### Check vocabulary"
      ]
    },
    {
      "cell_type": "code",
      "execution_count": 5,
      "metadata": {
        "id": "Bz0vQYvlumKU"
      },
      "outputs": [],
      "source": [
        "docs = df[\"text\"].values\n",
        "tokenized_docs = df[\"tokens\"].values\n",
        "vocab = Counter()\n",
        "for token in tokenized_docs:\n",
        "    vocab.update(token)"
      ]
    },
    {
      "cell_type": "code",
      "execution_count": 6,
      "metadata": {
        "colab": {
          "base_uri": "https://localhost:8080/"
        },
        "id": "I2EHXDOnumKU",
        "outputId": "55209c27-203b-4bf0-d55e-a607882236d9"
      },
      "outputs": [
        {
          "output_type": "execute_result",
          "data": {
            "text/plain": [
              "[('br', 114467),\n",
              " ('movie', 83804),\n",
              " ('film', 76140),\n",
              " ('one', 52238),\n",
              " ('like', 39851),\n",
              " ('good', 28801),\n",
              " ('even', 24223),\n",
              " ('time', 24029),\n",
              " ('would', 24025),\n",
              " ('really', 22801)]"
            ]
          },
          "metadata": {},
          "execution_count": 6
        }
      ],
      "source": [
        "vocab.most_common(10)"
      ]
    },
    {
      "cell_type": "markdown",
      "metadata": {
        "id": "hQl6qZlI1BFZ"
      },
      "source": [
        "### Load pretrained FastText"
      ]
    },
    {
      "cell_type": "code",
      "execution_count": 38,
      "metadata": {
        "id": "1MP91xsT1AmS"
      },
      "outputs": [],
      "source": [
        "model = api.load(\"fasttext-wiki-news-subwords-300\")\n",
        "# model = Word2Vec(sentences=tokenized_docs, seed=42)"
      ]
    },
    {
      "cell_type": "code",
      "execution_count": 39,
      "metadata": {
        "id": "uw_DBFTp38lI",
        "colab": {
          "base_uri": "https://localhost:8080/"
        },
        "outputId": "066940f8-5753-487e-d39d-584872427f11"
      },
      "outputs": [
        {
          "output_type": "execute_result",
          "data": {
            "text/plain": [
              "[('film', 0.8769422769546509),\n",
              " ('movie-', 0.8271825313568115),\n",
              " ('movies', 0.7997194528579712),\n",
              " ('film--', 0.7811052799224854),\n",
              " ('movie.', 0.7665870189666748),\n",
              " ('film.', 0.7414735555648804),\n",
              " ('filmdom', 0.7352851629257202),\n",
              " ('mini-movie', 0.729194164276123),\n",
              " ('films', 0.7288245558738708),\n",
              " ('moviehouse', 0.728100061416626)]"
            ]
          },
          "metadata": {},
          "execution_count": 39
        }
      ],
      "source": [
        "model.most_similar(\"movie\")"
      ]
    },
    {
      "cell_type": "markdown",
      "metadata": {
        "id": "elmevGx_umKV"
      },
      "source": [
        "## Generate vectors from document"
      ]
    },
    {
      "cell_type": "markdown",
      "metadata": {
        "id": "05oItNUfumKV"
      },
      "source": [
        "### Define function for creating a single vectors from word embeddings"
      ]
    },
    {
      "cell_type": "code",
      "execution_count": 40,
      "metadata": {
        "id": "qA6qq_AaumKV"
      },
      "outputs": [],
      "source": [
        "def vectorize(list_of_docs, model):\n",
        "    \"\"\"Generate vectors for list of documents using a Word Embedding\n",
        "\n",
        "    Args:\n",
        "        list_of_docs: List of documents\n",
        "        model: Gensim's Word Embedding\n",
        "\n",
        "    Returns:\n",
        "        List of document vectors\n",
        "    \"\"\"\n",
        "    features = []\n",
        "\n",
        "    for tokens in list_of_docs:\n",
        "        zero_vector = np.zeros(model.vector_size)\n",
        "        vectors = []\n",
        "        for token in tokens:\n",
        "            if token in model.wv:\n",
        "                try:\n",
        "                    vectors.append(model.wv[token])\n",
        "                except KeyError:\n",
        "                    continue\n",
        "        if vectors:\n",
        "            vectors = np.asarray(vectors)\n",
        "            avg_vec = vectors.mean(axis=0)\n",
        "            features.append(avg_vec)\n",
        "        else:\n",
        "            features.append(zero_vector)\n",
        "    return features"
      ]
    },
    {
      "cell_type": "markdown",
      "metadata": {
        "id": "f71tCm8eumKW"
      },
      "source": [
        "### Apply function to previously pre-processed text"
      ]
    },
    {
      "cell_type": "code",
      "execution_count": null,
      "metadata": {
        "id": "opV4uIgAumKW"
      },
      "outputs": [],
      "source": [
        "vectorized_docs = vectorize(tokenized_docs, model=model)"
      ]
    },
    {
      "cell_type": "code",
      "execution_count": 42,
      "metadata": {
        "colab": {
          "base_uri": "https://localhost:8080/"
        },
        "id": "94aXXYb1umKW",
        "outputId": "8100c333-e3a1-4b52-e296-49490ae9e15c"
      },
      "outputs": [
        {
          "output_type": "stream",
          "name": "stderr",
          "text": [
            "/usr/local/lib/python3.7/dist-packages/ipykernel_launcher.py:1: DeprecationWarning: Call to deprecated `wv` (Attribute will be removed in 4.0.0, use self instead).\n",
            "  \"\"\"Entry point for launching an IPython kernel.\n"
          ]
        },
        {
          "output_type": "execute_result",
          "data": {
            "text/plain": [
              "[('film', 0.8769422769546509),\n",
              " ('movie-', 0.8271825313568115),\n",
              " ('movies', 0.7997194528579712),\n",
              " ('film--', 0.7811052799224854),\n",
              " ('movie.', 0.7665870189666748),\n",
              " ('film.', 0.7414735555648804),\n",
              " ('filmdom', 0.7352851629257202),\n",
              " ('mini-movie', 0.729194164276123),\n",
              " ('films', 0.7288245558738708),\n",
              " ('moviehouse', 0.728100061416626)]"
            ]
          },
          "metadata": {},
          "execution_count": 42
        }
      ],
      "source": [
        "model.wv.most_similar(\"movie\")"
      ]
    },
    {
      "cell_type": "markdown",
      "metadata": {
        "id": "U-50EA11umKX"
      },
      "source": [
        "### Generate and analyze clusters"
      ]
    },
    {
      "cell_type": "code",
      "execution_count": 64,
      "metadata": {
        "id": "33CfTSJoumKY"
      },
      "outputs": [],
      "source": [
        "def mbkmeans_clusters(X, k, mb=500, print_silhouette_values=False):\n",
        "    \"\"\"Generate clusters.\n",
        "\n",
        "    Args:\n",
        "        X: Matrix of features.\n",
        "        k: Number of clusters.\n",
        "        # mb: Size of mini-batches. Defaults to 500.\n",
        "        print_silhouette_values: Print silhouette values per cluster.\n",
        "\n",
        "    Returns:\n",
        "        Trained clustering model and labels based on X.\n",
        "    \"\"\"\n",
        "    km = MiniBatchKMeans(n_clusters=k, batch_size=mb).fit(X)\n",
        "    print(f\"For n_clusters = {k}\")\n",
        "    print(f\"Silhouette coefficient: {silhouette_score(X, km.labels_):0.2f}\")\n",
        "    print(f\"Inertia:{km.inertia_}\")\n",
        "\n",
        "    if print_silhouette_values:\n",
        "        sample_silhouette_values = silhouette_samples(X, km.labels_)\n",
        "        print(f\"Silhouette values:\")\n",
        "        silhouette_values = []\n",
        "        for i in range(k):\n",
        "            cluster_silhouette_values = sample_silhouette_values[km.labels_ == i]\n",
        "            silhouette_values.append(\n",
        "                (\n",
        "                    i,\n",
        "                    cluster_silhouette_values.shape[0],\n",
        "                    cluster_silhouette_values.mean(),\n",
        "                    cluster_silhouette_values.min(),\n",
        "                    cluster_silhouette_values.max(),\n",
        "                )\n",
        "            )\n",
        "        silhouette_values = sorted(\n",
        "            silhouette_values, key=lambda tup: tup[2], reverse=True\n",
        "        )\n",
        "        for s in silhouette_values:\n",
        "            print(\n",
        "                f\"    Cluster {s[0]}: Size:{s[1]} | Avg:{s[2]:.2f} | Min:{s[3]:.2f} | Max: {s[4]:.2f}\"\n",
        "            )\n",
        "    return km, km.labels_"
      ]
    },
    {
      "cell_type": "markdown",
      "source": [
        "\n",
        "`Inertia` measures how well a dataset was clustered by K-Means. It is calculated by measuring the distance between each data point and its centroid, squaring this distance, and summing these squares across one cluster. A good model is one with low inertia AND a low number of clusters ( K )."
      ],
      "metadata": {
        "id": "a1Tb89Zxa-LI"
      }
    },
    {
      "cell_type": "code",
      "execution_count": 66,
      "metadata": {
        "colab": {
          "base_uri": "https://localhost:8080/"
        },
        "id": "qn1M9VfCumKY",
        "outputId": "f670e96f-d56e-4da0-ff6d-fa4af820699d"
      },
      "outputs": [
        {
          "output_type": "stream",
          "name": "stdout",
          "text": [
            "For n_clusters = 2\n",
            "Silhouette coefficient: 0.07\n",
            "Inertia:901.8926307473923\n",
            "Silhouette values:\n",
            "    Cluster 1: Size:24972 | Avg:0.10 | Min:0.01 | Max: 0.24\n",
            "    Cluster 0: Size:24534 | Avg:0.04 | Min:-0.05 | Max: 0.19\n"
          ]
        }
      ],
      "source": [
        "clusterer, cluster_labels = mbkmeans_clusters(X=vectorized_docs, k=2, print_silhouette_values=True)\n",
        "df_clusters = pd.DataFrame({\n",
        "    \"text\": docs,\n",
        "    \"tokens\": [\" \".join(text) for text in tokenized_docs],\n",
        "    \"cluster\": cluster_labels\n",
        "})"
      ]
    },
    {
      "cell_type": "markdown",
      "source": [
        "## Visualization"
      ],
      "metadata": {
        "id": "ulgc4UAeroGC"
      }
    },
    {
      "cell_type": "code",
      "source": [
        "X = vectorized_docs\n",
        "n_clusters = 2 \n",
        "\n",
        "# Create a subplot with 1 row and 2 columns\n",
        "fig, ax1 = plt.subplots(1, 1)\n",
        "fig.set_size_inches(18, 7)\n",
        "\n",
        "# Silhouette plot\n",
        "# The silhouette coefficient can range from -1, 1\n",
        "ax1.set_xlim([-0.1, 1])\n",
        "# The (n_clusters+1)*10 is for inserting blank space between silhouette\n",
        "# plots of individual clusters, to demarcate them clearly.\n",
        "ax1.set_ylim([0, len(X) + (n_clusters + 1) * 10])\n",
        "\n",
        "# The silhouette_score gives the average value for all the samples.\n",
        "# This gives a perspective into the density and separation of the formed clusters\n",
        "silhouette_avg = silhouette_score(X, cluster_labels)\n",
        "\n",
        "# Compute the silhouette scores for each sample\n",
        "sample_silhouette_values = silhouette_samples(X, cluster_labels)\n",
        "\n",
        "y_lower = 10\n",
        "for i in range(n_clusters):\n",
        "    # Aggregate the silhouette scores for samples belonging to cluster i, and sort them\n",
        "    ith_cluster_silhouette_values = sample_silhouette_values[cluster_labels == i]\n",
        "\n",
        "    ith_cluster_silhouette_values.sort()\n",
        "\n",
        "    size_cluster_i = ith_cluster_silhouette_values.shape[0]\n",
        "    y_upper = y_lower + size_cluster_i\n",
        "\n",
        "    color = cm.nipy_spectral(float(i) / n_clusters)\n",
        "    ax1.fill_betweenx(\n",
        "            np.arange(y_lower, y_upper),\n",
        "            0,\n",
        "            ith_cluster_silhouette_values,\n",
        "            facecolor=color,\n",
        "            edgecolor=color,\n",
        "            alpha=0.7,\n",
        "        )\n",
        "\n",
        "    # Label the silhouette plots with their cluster numbers at the middle\n",
        "    ax1.text(-0.05, y_lower + 0.5 * size_cluster_i, str(i))\n",
        "\n",
        "    # Compute the new y_lower for next plot\n",
        "    y_lower = y_upper + 10  # 10 for the 0 samples\n",
        "\n",
        "ax1.set_title(\"The silhouette plot for the various clusters.\")\n",
        "ax1.set_xlabel(\"The silhouette coefficient values\")\n",
        "ax1.set_ylabel(\"Cluster label\")\n",
        "\n",
        "    # The vertical line for average silhouette score of all the values\n",
        "ax1.axvline(x=silhouette_avg, color=\"red\", linestyle=\"--\")\n",
        "\n",
        "ax1.set_yticks([])  # Clear the yaxis labels / ticks\n",
        "ax1.set_xticks([-0.1, 0, 0.2, 0.4, 0.6, 0.8, 1])\n",
        "\n",
        "plt.suptitle(\"Silhouette analysis for KMeans clustering on sample data with n_clusters = %d\"\n",
        "        % n_clusters,\n",
        "        fontsize=15,\n",
        "        fontweight=\"bold\")\n",
        "\n",
        "plt.show()"
      ],
      "metadata": {
        "colab": {
          "base_uri": "https://localhost:8080/",
          "height": 489
        },
        "id": "7YqhX9r3bkPo",
        "outputId": "d181525f-06d3-462f-8c50-8d9df157b5b4"
      },
      "execution_count": 67,
      "outputs": [
        {
          "output_type": "display_data",
          "data": {
            "text/plain": [
              "<Figure size 1296x504 with 1 Axes>"
            ],
            "image/png": "[encoded data removed]"
          },
          "metadata": {
            "needs_background": "light"
          }
        }
      ]
    },
    {
      "cell_type": "code",
      "execution_count": 69,
      "metadata": {
        "colab": {
          "base_uri": "https://localhost:8080/"
        },
        "id": "JxUSlkLWumKY",
        "outputId": "1cf7cfa2-0c52-47ff-9a80-ab5946aeb79b"
      },
      "outputs": [
        {
          "output_type": "stream",
          "name": "stdout",
          "text": [
            "Top terms per cluster (based on centroids):\n",
            "Cluster 0: toook meak bady just strory balnce seeen wory reaason excute shoild visble disgard steped proect \n"
          ]
        },
        {
          "output_type": "stream",
          "name": "stderr",
          "text": [
            "/usr/local/lib/python3.7/dist-packages/ipykernel_launcher.py:4: DeprecationWarning: Call to deprecated `wv` (Attribute will be removed in 4.0.0, use self instead).\n",
            "  after removing the cwd from sys.path.\n"
          ]
        },
        {
          "output_type": "stream",
          "name": "stdout",
          "text": [
            "Cluster 1: toook meak strory bady balnce visble cooool fild thru-out excute furure grusome deline shoild non-one \n"
          ]
        }
      ],
      "source": [
        "print(\"Top terms per cluster (based on centroids):\")\n",
        "for i in range(2):\n",
        "    tokens_per_cluster = \"\"\n",
        "    most_representative = model.wv.most_similar(positive=[clustering.cluster_centers_[i]], topn=15)\n",
        "    for t in most_representative:\n",
        "        tokens_per_cluster += f\"{t[0]} \"\n",
        "    print(f\"Cluster {i}: {tokens_per_cluster}\")"
      ]
    },
    {
      "cell_type": "code",
      "execution_count": 70,
      "metadata": {
        "colab": {
          "base_uri": "https://localhost:8080/"
        },
        "id": "Xeo3Uno7umKZ",
        "outputId": "baea00d9-6b12-450e-b8b7-0639a7aca69f"
      },
      "outputs": [
        {
          "output_type": "stream",
          "name": "stdout",
          "text": [
            "b'Before I write this interview, I wanted to just explain that I have been a Dennis Miller fan since I was 11 (1994), and he was the only reason I saw this movie. I also think he was one of the aspects of this movie that held redeeming value. In addition, purchased it new for less than $10 a few years ago, and it is in my Halloween movie collection. With that out of the way, I\\'ll start my review.<br /><br />Vampress Lilith (Angie Everhart) is brought to life again after a long rest in one of the far corners of the world by Reverend Jimmy Current (Chris Sarandon) and his partner Vincent. The two establish a bordello disguised as a funeral home to attract \"evil\" local young men. The men can \"get stiff among the stiffs,\" but men start disappearing. This disappearance of local young men hits close to home for Katherine Verdoux(Erika Eleniak) when her rebellious younger brother Caleb (Corey Feldman) goes missing. So, she hires a Rafe Guttman (Dennis Miller) a wisecracking, seedy private investigator with good intentions and a quite unusual case--all involving this mortuary with secrets. Rafe and Katherine put themselves into a mystery that crosses the boundary of the living and the dead--rather, the undead.<br /><br />This movie, thought quite funny, is a bad movie. That\\'s just how it is. Going into this movie, the title itself is an indication of how trashy or bad it really is. But man, is it a fun trip! I found myself laughing at pretty much all the right scenes and all the right lines. Its as though the lines are tailored for Miller himself, it is perfect shtick for him. Most of the movies he\\'s been in had parts written especially for him, but this was perfect. My first impression of Rafe is that he\\'s a jerk, but I discovered (rather quickly) that he is rather good-natured and good-intentioned, and that he truly wants to help Katherine out.<br /><br />There are two scenes I absolutely loathed about this movie--the scene where Lilith encounters Rafe in his office (I turn the channel off or fast-forward the tape), and the opening scene of the movie where Lilith is discovered by Rev. Current and Vincent (this is only watchable once). Otherwise, this movie is quite funny and interesting if you plan on getting into it. My biggest beef (spoiler) is that we don\\'t even meet our hero until roughly 20 minutes into the movie! When you\\'re first billed, doesn\\'t this mean you\\'ll show up earlier in the film? I guess someone missed one of the most important parts of film-making, or at least credit order. But, its OK, really, it\\'s not the worst thing about the film.<br /><br />This is essentially a bad movie. I read another review that says that it seems Dennis Miller is letting the viewers know this. He sure is! This is one of those so-bad-it\\'s-funny kind of movies (why it used to be in the horror section of the video store I have no idea). However, Dennis Miller is hysterical in it!! I loved his moments--he had a lot of good ones.<br /><br />I liked when he goes to the \"Cunningham wake,\" and watches as the men lift the coffin out of the room, but struggle with it. Guttman, observing the scene, says \"Wow, she really was a heavyweight.\" He does make some of the most classically bad facial expressions I have witnessed in a long time (honestly, after seeing this, I want to know what acting school I have to go to just to learn to \"Act the Dennis Miller Way\"). My favorite scenes are the Super Soaker scene (I won\\'t divulge on this too much, not to spoil it, but it is a classic scene not to me missed), the scene where he sneaks back into the mortuary to investigate, and when Rafe heads into the coffin drop to visit the Bordello.<br /><br />So why 7 out of 10 stars? One point deducted for the opening scene, which tends to be long and drawn-out. Watch this once, and you\\'ll understand what is going on. What redeems this film is that after this point in the film, it becomes better, and the plot begins to move a little. One the same point, the entire first twenty minutes of the film is a complete drag. Skip the introduction on the next viewing. Another point deducted for the scene where Lilith encounters Rafe in his office--this scene is just a complete turn-off to me (2, 4, 6, 8--You can watch me masturbate!--yuck). And a third point deducted for the nudity. Yes, I know, it\\'s a bordello, yes, they\\'re supposed to be nude. But, I \\'m a female, and I don\\'t take pleasure in watching naked women prance around. But, I\\'m flexible, so I pushed past that dislike and ignored it. The bad acting isn\\'t even a negative--it adds to the movie\\'s silly nature.<br /><br />This is a great Halloween movie, but non-Dennis Miller fans may be turned off by it. Maybe not, I don\\'t know. The acting is pretty bad, but that\\'s the point--it\\'s not Oscar-caliber material. I highly recommend this movie--it has its moments that make is memorable (probably not for all the right reasons, but it tries). Some classic scenes make it funny, and you just may watch it more than once (I have!). Just try not to read too much into it. It really is quite an enjoyable diversion.'\n",
            "-------------\n",
            "b'Although I\\'m not a Star Wars fanatic (I certainly don\\'t read the books or anything), I love the old Star Wars movies. In fact, when I was littler, The Empire Strikes Back was my favorite film. Now that I\\'m older, I respect them for what they are: incredibly creative, exciting and touching films. I have yet to see Episode 1. My friend recommended Episode 2 to me, telling me that it was better than its predecessor, but warning me \"don\\'t see it if you expect anything more than a Star Wars movie.\" Maybe I just have a nostalgic love for the first trilogy, but I would never think that they were anywhere near as poor, in any way, as this new garbage. I can\\'t think of a high budget movie that I\\'ve seen that has such bad directing, bad acting, bad casting, bad special effects (or lack thereof), bad music, bad dialogue and bad plot, as ATTACK OF THE CLONES (bad title too). The reviewers on this site giving this movie positive reviews must all be brainwashed. Maybe they\\'re all just excited that it\\'s better than Episode One, which I can only assume must be the worst movie ever made, considering this one definitely belongs in the bottom 100.<br /><br />Let\\'s begin with the directing. WHAT THE HELL DID GEORGE LUKAS TELL HIS ACTORS? My only guess that the conversations went something like this... LUKAS: Hey Sam, sit in that chair and say your line. S.JACKSON: How do you want me to deliver it? LUKAS: Don\\'t worry about that. It doesn\\'t really matter. All the animated creatures don\\'t really show any emotion anyway. In general, you should just say your line like you\\'re reading it. Oh, but if you\\'re supposed to be angry or upset, just screw up your face a little bit.<br /><br />S.JACKSON: Okay. I guess...<br /><br />I can\\'t begin to describe how boring the non-action sequences are in this film. The actors aren\\'t interacting at all. It\\'s astounding.<br /><br />Furthermore, talk about a classic example of bad acting, Ewan McGregor spends the entire movie doing a really bad impression of the actor who played Obi Wan in the original series...uuuugh, yuck. Whoever cast this movie needs to get their head examined. I\\'ve always learned that one of the prime objectives in film, especially a drama, like this one, is to suspend the audience\\'s disbelief (perhaps George Lukas was striving to suspend belief with this one). How could anyone accept Samuel L. Jackson, one of the most prolific actors in Hollywood, as \"Mace Windu\" and Jimmy Smits, another instantly recognizable household name, as Senator \"Bail Organa\". My God, Lukas could have at least picked actors who haven\\'t reached idol status yet, but no, he had to make his budget LARGER. The majority of people who liked this casting probably just liked seeing Sam Jackson meditating next to a poorly animated Yoda (SHAFT AND YODA TOGETHER IN THE SAME ROOM, MEDITATING LIKE BUDDHISTS! AWESOME!).<br /><br />The digital special effects were disappointing and not convincing. I prefer people in elaborate costumes to the digitally animated, and amazingly generic looking, critters that Lukas used here. You\\'ve seen \\'em in the fifth element, in the trailer for men in black II (before the film started) and here they are again, a long time ago in a galaxy far far away. Go figure. Furthermore, juxtaposing digitally composed fantasy settings/landscapes(as ridiculous as they are on their own), with a real, easily recognizable, famous swiss tourist attraction was appalling.<br /><br />The music as a whole sounded like a parody of the original score (in other words, it was fitting). The dialogue was laughably atrocious. Probably my favorite line *POSSIBLE SPOILER* was when Anakin (or little Ann(ie?,y?,e??) as the Senator calls him) tells the senator, \"I didn\\'t just kill the men...but the WOMEN...and the CHILDREN TOO!\" \"Ooh am I a bad guy. I\\'m such an evil dude that I use cliches to describe my horrible deeds.\" *NO MORE SPOILERS* The plot is so delightfully convoluted that thousands of viewers at home will be able to watch this movie in less than half it\\'s running time when it comes out on VHS. They can all simply fast-forward to the action sequences and not miss anything important in the film. In fact they might as well fast-forward through the whole thing, given that the ending credits are by far the movie\\'s finest sequence.<br /><br />I\\'m getting tired of writing, so I\\'ll just say that there are so many problems with this movie that this review hasn\\'t even nearly given it justice. PLEASE, DON\\'T DISMISS THIS REVIEW JUST BECAUSE IT\\'S NEGATIVE. IF YOU HAVEN\\'T SEEN THE MOVIE YET, PLEASE, WAIT TILL COMES OUT ON VIDEO. AT LEAST THEN YOU CAN GET THE PLEASURE OF TAKING THE TAPE OUT OF THE MACHINE AND SMASHING IT TO BITS IN FRUSTRATION.'\n",
            "-------------\n",
            "b'People looking for a HORROR movie should read:<br /><br />This movie has a great concept. A serial killer who uses a miniature crossbow to shoot suburban civilians from their very own rooftops! This movie could have been so good! But it\\'s not. It\\'s actually pretty terrible, ranking among the worst horror movies that I have ever seen. First of all, the entire movie takes place in the middle of broad daylight. The atmosphere is bright, and sunny, and happy. Couldn\\'t the director have chosen a moodier setting? Yes, he could have. What was the deal? Did this movie really have so small a budget that they couldn\\'t afford to properly light a night scene? That at least would have created a bit of suspense, but no, this movie contains no suspense. The main reason for this is that we, as the audience, don\\'t care about the characters, mainly because we can tell that they are not really afraid about their circumstances. They are not very good actresses. Also, every time a kill takes place, it is extremely uninteresting: nothing more than a tiny, dart-like, arrow piercing through the victim\\'s chest. The unmasking of the killer is played off as if it is some great epiphany. Oh My! The killer is just a kid! Who cares? I sure didn\\'t, and neither would anybody else who has an attention span higher than that of some kid with ADD. The artwork on the front of the box is so pretty, and the description on the back of the box is so intriguing, but don\\'t be fooled like I was. Stay away! The only interesting part of this film was the opening credits in which one of the characters listens to the radio as it spouts information about the serial killer. There is a direct reference to the sniper who terrorized the east coast recently. The director must have seen that story on the news and thought he could play off of it. Sicko. This movie gets a 1/10.<br /><br />Continued: for the people who have been bashing my comment:<br /><br />You\\'re right, this wasn\\'t a horror movie, but it was still complete and utter garbage that contained no suspense, terrible acting, a stupid killer, awfully done death scenes, and not one hint of hope that anything good could come out of whoever made this heap of trash. HORROR FANS STAY CLEAR- this isn\\'t horror! It\\'s supposed to be suspense/thriller. However, it should be filed under its own specific genre of BAD. You have to agree with me here though: Lion\\'s Gate made this film look like it was a serial killer slasher/ horror film, and for that they are total jerks! (Sorry lion\\'s gate, I mostly Love you!)And here\\'s the thing about the darkness: We are instinctively afraid of what we cannot see, of what could be waiting for us in the dark silence. If this movie was supposed to be suspenseful, was supposed to have a killer stalking from house to house by means of rooftop, then the movie should not have taken place entirely at the middle of the day! What kind of a stupid killer would go out and jump from rooftop to rooftop killing many people at random in the middle of suburbia during the afternoon??? You can bet he\\'d be caught before he got too far! Stupid movie. Stupid, STUPID movie. I could go on forever about how horrible it truly is. Maybe I will...<br /><br />The dialog (some go as far to say that there is some humor in it- nope) is laughable in a \\'this is so bad I can\\'t laugh\\' sort of way. The lead actress say she\\'s taken classes on serial killer behavior, and she spouts off the same clich\\xc3\\xa9d information that has been recited in every serial killer movie ever made. Not to mention, the information she does know serves absolutely no purpose in the progression of the plot. It\\'s just randomly thrown in there because the director though he had to put it in there somewhere. It comes at an unbelievably boring scene in which the girls sit around and waste time doing nothing.<br /><br />People, I am in love with horror/suspense/thriller films. There are really really good ones out there. See the movies \"Halloween\" or \"Silence of the Lambs\" or \"Seven\" or, if you\\'re looking for low budget, see \"Open Water\". I especially recommend Dario Argento\\'s \"Opera.\" Those are all a billion times more suspenseful than this. There is a reason that they are or have remained popular over the years. \"Serial Slayer\" nearly put me to sleep. Avoid it at ALL COSTS! Re-rating: 0/10. And that is the lowest and most absolute zero I can give.'\n",
            "-------------\n",
            "b'It\\'s always on buses, planes and other modes of transportation where I end up watching movies like this one. For some reason though, I didn\\'t plug my iPod back in and do something more meaningful, like stare blankly out my window and try to make animals out of the clouds in the sky on my way to New Hampshire. No, I watched the whole movie from start to finish, somehow believing that it had to get better as the movie went along.<br /><br />To my chagrin, it did the opposite.<br /><br />Anyway, the film starts out a serviceable enough romantic comedy. The premise isn\\'t too contrived: he is a slacker guy who doesn\\'t move out of his house because of some issues in his past. She is a girl that dates guys (for money) to help them get over whatever issues they have that prevents them from leaving their parents\\' homes (because of issues she has in the past). Okay, so it is contrived. But I tried to see past the way-too-obvious setup to find some golden performances. By... nobody. In fact, all the characters are unidimensional and even the leading characters\\' \"depth\" has the subtlety of a nuclear warhead.<br /><br />But that\\'s the not actors fault, Matthew McConaughey of the mindblowing dragon film Reign of Fire and the unforgettable romantic comedy The Wedding Planner does an incredible job at playing Tripp, the aforementioned two dimensional character. In fact, he does such a good job that I really did think that Tripp was made of cardboard and that his emotions were indeed drawn onto his face with a magic marker. And what can be said of Sarah Jessica Parker? She\\'s really come a long way from playing Carrie Bradshaw in Sex and the City. Her character is so different from her previous character that it was a 360 degree change! Of course, adding that the direction is outstanding like the classic Western martial arts comedy Shanghai Noon, I just couldn\\'t take my eyes off the screen. Because I think someone pulled them from my sockets and placed them there.<br /><br />Really though, I might be making this film sound like just about every contrived uninventive uninspiring star vehicle excuse of a romantic comedy that you\\'ve ever seen, but it\\'s got more! It\\'s got vicious animal attacks that makes FOX\\'s When Animals Attack! seem like, well, a documentary! Honestly, the inclusion of these scenes only serves to create a phenomenal incongruity in the film, making the \"oh-so-real-life\" premise seem that much more believable. Because chipmunks, dolphins and vegetarian lizards really do bite people who don\\'t leave their parents\\' homes.<br /><br />What other accolades shall I place upon this golden shining example of a film? It almost made me hate myself for watching the whole thing. Oh, actually, I think it did. It takes a special movie to cause that reaction. Why, oh why, do I allow myself to get trapped on buses and planes and watch this madness? Thankfully, the trip back had a showing of 12 Angry Men that, in combination with the wonderful meals provided to me by my gracious hosts in New Hampshire, helped to calm the ire that Failure to Launch sparked inside me.<br /><br />Come to think of it, \"Failure to Launch\" is a very apt title for this movie. Recommended? No. Watch it for fun? No. Honestly, though, you might find it passable entertainment if you\\'re bored and locked in solitary confinement and the only other thing you can look at is a disturbing polaroid photo one One-Toothed Bill. Me? I\\'ll just take to staring at the wall this time. 4/10.'\n",
            "-------------\n",
            "b'Ruggero Deodato...<br /><br />I hope I\\'m not bumbing against people\\'s cart when I say that with having just watched PHANTOM OF DEATH his directorial skills somewhat became a bit more questionable again to me. I mean, the man undeniably is a master in depicting \\'jungle mayhem\\', with CANNIBAL HOLOCAUST arguably the best cannibal movie ever made (except no substitute - it is actually a very good movie with the most effective set-up I\\'ve ever witnessed in such films) and CUT AND RUN, again, one of the best efforts in the genre I\\'ve ever seen (and one of my personal favorites). Deodato is at his best anytime he\\'s free to go over the top in any genre (THE BARBARIANS, anyone?)... But put him in the director\\'s seat of a movie that\\'s a bit more serious and demanding on the (international) cast\\'s behalf, and he\\'s bound to slip. As is, in my opinion, the case with PHANTOM OF DEATH.<br /><br />The Italian title, by the way, doesn\\'t exactly encourage viewers to go see it, so I don\\'t know what the producers were thinking. Literally translated, it means \"A crime a little bit common (ordinary)\". Sounds a little bit dull, doesn\\'t it? Regardless, the basic synopsis does sound interesting enough: A successful pianist - why exactly a pianist is totally irrelevant; I suspect it was to lend the movie a bit more \\'class\\' - starts suffering from a disease that rapidly ages him. Aside from not being able to cope with this affliction, it also starts affecting his mind and he can\\'t resist the urge to kill women any longer. All this wrapped up in a Giallo-style film. This idea is put to good use in the plot, as his rapid aging makes it quite difficult for the police to determine what the killer looks like.<br /><br />Further more, Deodato (or the screenplay?) does have a good sense of pacing regarding the unfolding of events and presenting us a necessary killing on regular occasions. The murders are also pretty bloody & squirty, so that\\'s a plus. One killing even has a girl bursting through a glass door in slow motion. But face it, as far as originality goes, Dario Argento had been throwing girls through windows in slow motion since 1977 already. So, nothing too special there either.<br /><br />But now for the two main things Deodato completely messes up. He has absolutely no clue on how to make an effective transition from one scene to another. And on a few occasions he sometimes even makes the cut from one shot to another look bad. Now, when you\\'re wildly shooting a movie in a jungle, you can get away with that and the audience just doesn\\'t notice it. But when you\\'re shooting a stylish crime thriller and trying to tell a decent story, then you better fine-tune your directing skills in that department too. Deodato just jumps and cuts from one scene to another, including often too short and seemingly pointless scenes. It often results in a character\\'s lines barely having come out of his mouth, and wham-bam cut to a different scenery. Doing it like that, might get you on with the story, but it also causes more than one problem for other aspects of the movie. Some might think I\\'m nitpicking, and I might be, as in some other movies (pulpy exploitation flicks, for example) I wouldn\\'t point out these things. But you can feel PHANTOM OF DEATH tries to be a bit more ambitions on several levels, so I\\'m holding these flaws against it. However, the mise-en-sc\\xc3\\xa8ne is more polished than I would have thought. So at least the movie looks good enough.<br /><br />The other problem I have, is that with a movie of this type, Deodato just can\\'t move his cast to give a decent performance. A given is, of course, that the supporting cast is downright abominable (acting/performance-wise). But it\\'s worse than that. Donald Pleasance looks exhausted and uninspired and I suspect the main cause of this being that he has been given bad material to work with (so not necessarily his age at the time). The dialogue is poor and one scene has him go shamelessly over the top, running into a crowd on a square, shouting stuff like \"Where are you? Show yourself, bastard! I kill you! You bastard! I kill you!!!\". Very funny, yes. Very sad too. Same goes for Edwige Fenech. She\\'s got her on-screen charisma and looks great. But she has not much to do or say. In the second half of the movie, she basically sits at home all the time being pregnant and waiting for her lover (the killer) to return. Michael York somehow does pull it off on some level, but his character is loaded with so much pathos - man, those scenes when he\\'s talking to the blind dog - that it sometimes becomes painful to watch. And his slow motion death-scene at the end was plain laughable, to put it mildly. Attentive viewers can spot a cameo by Giovanni Lombardi Radice. And no, don\\'t get your hopes up: He doesn\\'t die a painfully bloody death.<br /><br />But this movie is memorable for at least one scene alone. Freaky & creepy sh!t, I tell ya. Two words as a teaser: Old kid.<br /><br />And yes, there\\'s female nudity coming from more than one cast member.<br /><br />Let me end it here by saying that PHANTOM OF DEATH (or OFF BALANCE, as is the title I prefer) is certainly of interest to Giallo fans. It can be enjoyed. But it\\'s not a great movie.'\n",
            "-------------\n",
            "b'<br /><br />No no no no.<br /><br />I foolishly rented this, thinking that...uh\\xc2\\x85what was I thinking? I\\'ve seen Man Behind the Sun and while I can\\'t exactly say I \\'enjoyed\\' it, it was shocking, powerful, and deeply disturbing. I watched it once around 5 years ago, re-watched it recently to review it. For some reason I thought I\\'d read the sequel was much more disturbing. So, what do I do? Like a fool, out of morbid curiosity I have to check it out.<br /><br />If you\\'ve seen the original, just quit while you\\'re ahead. I cannot stress this strongly enough. I mean it. RUN! If you haven\\'t seen any of the \\'series\\' and feel the need to see any of them (whether or not that is a good idea for you to do is a whole different discussion) just see the first one. In the original, the plot centers on camp 731, where horribly inventive and vicious medical experiments are performed on prisoners under the guise of \\'scientific research\\' for warfare. That one actually has a plot, and some characters you care about. The reason I\\'m going on at length about the first movie is that 90% of this movie \"Laboratory of the Devil\" is simply the first movie, re-staged, only done very badly.<br /><br />The \\xc2\\x91plot\\' goes something like this: a guy, who I think was supposed to have been at camp 731, goes to a house for a meeting, post WW2. A bunch of Japanese men sit stiffly around the table. Through This review contains some slight spoilers, but you\\'ll be doing yourself a big favor if you read it before you decide to waste your money on this terrible sequel (if you can call it that). some very badly written dialogue (though to be fair, the movie is dubbed, so maybe the translation lost something) we find out that the main evil guy from the first movie wants to restart the medical experiments. Why he would want to is not that clear, other than out of sheer meanness. After more boring dialogue that I was tempted to fast forward through, the guy that came in says something to the effect of \\'have you no honor? Don\\'t you remember what happened before?\\' No, for some reason they don\\'t, even though they were all there the first time. \"Well let me tell you about it...\"<br /><br />We go into flashback mode and I optimistically figure it\\'ll last maybe 5 minutes, summing up the first movie. Uh-oh, it seems to be going on longer. And the plot seems kind of familiar. OK, well, maybe they\\'ll wrap it up in the next 15 minutes. After I realized the movie was half over, I resigned myself to the fact that the whole movie was going to be a re-hash of the first.<br /><br />Now that\\'s bad and lazy enough, but not only do they just blunderingly re-stage the first movie, they manage to completely f-*$% it up in every way possible. To try to add pathos, there\\'s a lame romantic subplot. The experiments that are restaged are the most boring ones, and they only include one from the first movie that was a real shocker, but since most of us have SEEN the first movie, it\\'s not shocking. The first movie was well paced, but in this case, it seems like the screenwriters just wrote down all the scenes from the original on index cards, put them all in a hat, and picked them out at random and filmed them in no particular order, making sure to leave out the most powerful ones and substituting incredibly stupid ones in their place. There\\'s an autopsy at the beginning on a corpse that goes on way too long and is obviously intercut with actual autopsy footage. Not only is this lazy, but if I wanted to sit there watching endless scenes of autopsies, I would have, well, rented a video that consisted of actual autopsies<br /><br />instead (yes, you can rent those now). I didn\\'t think a movie could be disgusting and boring at the same time, but LOTD manages.<br /><br />But wait! There\\'s more. They also figured that maybe the first movie wasn\\'t humorous enough (yeah, you really need humor in a movie about POW torture), so they stuck in some really, really unfunny \"comic relief\". Here is an exact quote, to give you an idea. Two guards are walking out of the lab after a frostbite experiment. Guy #1:\"...they found out that women have a greater resistance to cold than men.\" Guy #2-\"Yeah well, I guess that explains why my wife is frigid!\" (rim shot) They roar with laughter. HAHAHAHAHA!<br /><br />Stop, you guys, I\\'m laughing so hard it hurts! Whooo-hooo! I\\'m still holding my sides! (I was kidding about the rim shot, but there might as well have been one, it would have been an improvement).<br /><br />There is, however, some unintentional humor (though NOT worth watching the movie for-if the forthcoming description of the unintentional humor amuses you at all , just LEAVE IT AT THAT. Count your blessings. I\\'m making it sound much more entertaining than sitting through the movie is) For instance, the English dubbing is so laughably bad it sounds like a parody of bad dubbing in an Asian film (Your Kung Fu is lousy!) It sounds like they have maybe 2, 3 guys tops doing all the characters. In one scene a bunch of scientists or commanders or whatever they\\'re supposed to be are wearing surgical masks. One sounds completely normal while the other guy sounds like he\\'s yelling into his cupped hands or through a saltine box. Also, the characters, both heroes and bad guys, are amazingly stupid. At one point, the hero (I think he was the hero, anyway) helps with one \\'test\\' that consists of prisoners being lined up and shot. Why they need to research what happens when they do this, I don\\'t know, but anyway, the hero reluctantly fires at the commander\\'s order, naturally killing them, then looks shocked and horrified at the results. What did he think was going to happen? Oh, and this is after he watches the same thing being done 3 times in a row before this with no expression at all on his face.<br /><br />In another scene, the bad guys inject a slice of watermelon with what I assume is some sort of toxic substance. Then we see a guy being dragged, struggling, into frame by the other bad guys,: \"No! No! You can\\'t make me eat it!\" \"You WILL eat this!!\" They force feed it to him, though it looks more like they just rubbed it into his teeth, he foams at the mouth a little, and dies. Was that supposed to scare me or disturb me? Why the hell didn\\'t they just give it to him to eat and not tell him what it was? In the first movie, during several scenes prisoners are tricked into the experiments, which is much more believable and has much more powerful and disturbing results. In the first movie, it had the effect of making you hate the villains even more. Here, you just think they\\'re badly organized morons. Speaking of that, there\\'s another scene where the prisoners are all in one room with huge numbers on their uniforms so large that the digits would be visible from another planet, and when they need them for experiments, a guard just walks in with a clipboard and calls out their numbers, and they call out \"here!\" like it\\'s roll call in a class or something. For some reason that struck me as funny. Maybe I was just so bored I was trying to entertain myself by finding anything I could to jeer at.<br /><br />Not enough reasons to skip this? OK, here\\'s more. The makeup effects (other than the real autopsy footage) are really, really cheesy and unrealistic. Several workers are beaten and slapped for disobeying. I\\'ve seen more realistic punches thrown in Dolemite movies-seriously, we\\'re talking the hand visibly not coming within six inches of the person\\'s face and the person reacting like they were hit. Terrible continuity, too-in one scene, a guy bites into a small corner of a guards earlobe while fighting, then we cut (they always cut away instead of going to the trouble of showing any sort of effect) to a shot of the guy with a huge chunk of flesh in his mouth. Oh, and every once in a while, they stick in some stock war footage that is so grainy you can barely tell what\\'s going on (I *think* that was a shot of something being blown up there...)<br /><br />The characters look so much alike (I\\'m not saying this in a racist way -in the first movie, I had no problem, but here the screenwriting is so sloppy I didn\\'t know who was who. OK, is that guy upset because they just killed....uh...his father?his brother? Was that his roommate? Who knows? The only positive things about this wretched excuse for an exploitation movie are that it leaves out the suspiciously realistic, unnecessary scenes of animal cruelty included in the first one, and that it has the guts to have a downbeat ending (though again, it\\'s just a really inept rip-off of the first movie). SPOILER AHEAD:<br /><br />any movie that ends with the hero suddenly being decapitated should get a tiny iota of credit, I guess. The first movie was so disturbing it made me lose sleep, this one just put me to sleep. I repeat, do NOT waste your time with this (especially if you\\'ve seen the first one). If you want to see something really shocking, upsetting, and disturbing, just rent the original. If you want to be bored, mad at yourself for wasting your money, and have your intelligence insulted, then rent this one. I heard that the third one is the worst in the series-boy, I don\\'t even want to think about that.'\n",
            "-------------\n",
            "b'You know those movies where if you\\'ve seen the trailer, you\\'ve seen all the good parts? I felt that way while watching this film. I don\\'t typically expect much from crappy spoof movies, but I at least expect them to try. This came off as too much of a bad Saturday Night Live or Mad TV sketch that runs on way too long. A number of SNL\\'s movies have felt that way, but really....<br /><br />Why can\\'t they ever pick _good_ \"two of the six writers from Scary Movie\"? I feel like I\\'ve seen this brand of dumb humor a million times before, albeit much better presented. I don\\'t mind abstract references that would seemingly change the storyline (the four protagonists becoming part of Wonka\\'s candy, but seconds later reverting to normal, for example), but these \"Family Guy\" style cutaways were so poorly done, it almost made me want to leave. I felt genuinely ripped off, longing for satires like Spy Hard, Last Action Hero, and Spaceballs. A friend and I debated whether this film or Scary Movie 4 was worse. We agreed it was a tie.<br /><br />The first two Scary Movies were funny because they didn\\'t let the flat parts slow them down. Scary Movie 2 contained a number of bad jokes, but it was okay because the filmmakers had a general idea of where they wanted to take the \"story\", and at least made a concentrated effort to tone down the absurdist humor in places where it wasn\\'t needed.<br /><br />Epic Movie temporarily halts the predictable, unfunny jokes close to the end of the film, when Kal Penn (who made two Harold and Kumar references, also falling quite flat, even amongst the largely tweenage audience) spells out the film\\'s moral--a sappy and poorly placed monologue on the importance of family. The repetitive use of the word \"Bitch\" to refer to the antagonist, played by Jennifer Coolidge (\"Stiffler\\'s mother\" in American Pie, a point also mentioned) got tiring. I will admit there were a few laugh-worthy moments, notably in the name of Jack Sparrow\\'s parody, Jack Swallows. The actors were all fairly devoid of talent (especially that kid from the MySpace movie, playing Ashton Kutcher), and the directing seemed nonexistent.<br /><br />Seeing the trailer is a bit of a spoiler as well, as you can tell when certain parts are coming up, effectively ruining the humor. Plus, the trailer has all the reasonably funny moments. It feels as if they directed the rest of the film as merely filler between the points showcased in the preview. I\\'m honestly not sure whether this review is in fact spoiling anything, because the trailer does a pretty good job of that on its own.<br /><br />My recommendation: don\\'t see it in theaters. Don\\'t rent it. Don\\'t even watch it on TV when nothing else is on. Forget it was even made. Trust me, you\\'re not missing anything.'\n",
            "-------------\n",
            "b'If you have seen American Pie and think of it as being honest and real about sex and the way kids talk, then Clerks is right up your alley. I don\\'t think a movie has pleasantly shocked me more than this one has. And make no mistake about it, this is one of the funniest movies I\\'ve ever seen.<br /><br />By now we\\'ve all heard the story of how Kevin Smith somehow scrounged up $27000 to piece this rag tag film together. It was at a film festival and some film executive saw it and offered him a generous amount of money. They fixed it up and before you know it we have the best indie film ever made. Kevin Smith is now a recognizable name in Hollywood and that alone should make you want to see this film.<br /><br />Dante and Randal are best friends. They work at a small convenience store and a crappy little video store respectively. As a matter a fact, the video store is so inept that Randall actually goes to one of the bigger video stores in town to rent his movies. Anyway, Dante is obsessed with his ex-girlfriend that cheated on him and he has a present girlfriend that is wonderful to him. That is the basic premise for the movie. And that is all you need to know about the plot. Because what the film is really about is how these characters really talk to each other. It is a bunch of clever anecdotes pieced together hilariously to form a movie. But some of the scenes are just so damn funny that Clerks stays with you for a long long time.<br /><br />Take for instance a scene where Dante and his girlfriend are discussing the various responsibilities of a man and a woman in sex. Each has an obvious gender biased view of the act but listen to how honest it is written, it gives meaning and much hilarity to the scene. From here, the two end up discussing how many people the other has slept with. And we all know that is an absolute no no in relationships. Because no matter how many or how little the number is, it is too much. But that would be too easy for Smith to end it at that. No, he takes it a step further. From here Veronica ( the girlfriend ) explains that she has only slept with X amount of guys but she has gone down on 36 others. Dante is mortified. How can she do that? And she explains that when she \"does it\" it means more than when she goes down and that is supposed to make him feel better. It of course doesn\\'t and the pay off in the scene is brilliant as Veronica is walking back to her car. And that is just one of the scenes that makes the film work. There are dozens of other scenes similar in nature that are so humourous yet painfully honest that you laugh but when the giggles subside, you realize that it is so true.<br /><br />The obvious strength of this film is the writing. But beyond that, Smith establishes himself as a director that can get a performance out of his actors. Almost every major character in here is so well done that you think they had 20 attempts to get it perfect instead of the 3 or 4 that the budget would allow. Dante is well played by O\\'Halloran but it is Anderson as Randle that I think steels the picture. He is so honest and natural in every scene that he is in that it actually bothers me that he has not established himself in the game. Is it because no one wants to give him a role or is it that he has no interest in movies? I don\\'t know, I just wish he was around again because he is electric.<br /><br />Jay and Silent Bob are funny as well and Bob provides the film with one of the funnier moments as he dances out of nowhere and then he shocks us with his only line of the film. And what he says may as well be Socrates talking and not a simple street hood. It really works.<br /><br />I love Clerks. It is such a fun movie and if you haven\\'t seen this gem, check it out. Like it for the funny film that it is, but love it for whats behind it.<br /><br />This film has heart. And Smith is an inspiration to anyone that wants to do what he did. After all, he proves that nothing is impossible. He is living proof of that.'\n",
            "-------------\n",
            "b'This is a perfect example of the kind of low-level, low budget, crummy movie that really should not have been made in the first place. It has the feel of a \"direct-to-cable/3rd feature at the Drive-in\" snooze fest that never really generates any interest or momentum. The best you can say about it is that it helped a bunch of B-to-Z level actors make their condo payments, that Sherry Belafonte-Harper was fairly cute, and that both the director of photography and the soundtrack composer worked really hard to pump up the watch-ability of this movie with a lot of extra jiving and filling.<br /><br />Poor Ben Murphy slogs along as best he can here, trying to make the audience (all 4 or us) believe that he is an archaeologist. I\\'ll give him this; even in a snooze like this movie, where all the close-ups are held too long and every scene has the drama and pacing of a drivers\\' ed training film, he remains amiable and likable. God only knows how hard \"Time Walker\" would have been to watch if he hadn\\'t at least given the movie his agreeable screen presence. People make fun of him, and he is a light-weight, but I\\'ve always liked the guy; I hope he made a million dollars and retired happily somewhere.<br /><br />The rest of the cast comes off as somewhere between \"unlikeable\" and \"despicable\", (I have no idea what they are like in real life, so please don\\'t take this as character assassination), so you actually sort of enjoy it (instead of being horrified) when the mummy kills them. Of course, that may have been the intention of the movie, but in that case, the director could at least have made the deaths a little more memorable. I saw better staged monster attacks in the infamous \"Pod People\" - the victim\\'s death-scenes here are like watching hamsters getting squished with a giant clown hammer. And Belafonte-Harper actually has some on camera charisma, but the movie doesn\\'t seem to know what to do with her - she seems to be in, but not of, the film. It\\'s as if she wanted the exposure, but she couldn\\'t bear to actually be involved in the plot. <br /><br />The movie ends with Murphy\\'s character teleporting off with the mummy to an unknown fate (good riddance) and the dean\\'s assistant screaming into the camera as left-over space slime eats his hand. I think this was meant to leave us with a feeling of mystery and wonder and horror, but it left me with a profound feeling of relief that this bag of creaky dramatic devices was finally done. Not the worst or most incompetent movie I\\'ve ever seen, but definitely pretty useless.'\n",
            "-------------\n",
            "b'First of all Jan Guillou is a fantastic writer. But even so, I have not read his \"Arn\"-series books. As I have great love and respect for Guillou, I had high expectations for this movie. Also, a good friend of mine (student in university reading history) had read and recommended this book strongly. Perhaps the director couldn\\'t catch the atmosphere in the book, because the movie was a huge disappointment. So I will go very hard on this MOVIE and not on the book so please make the difference.<br /><br />Arn , movie, tells us the tale of Arn, born in 1150, in the north of Europe, in what would later become today\\'s Sweden. The movie is basically separated in three parts; (1) Rise of Sweden, meaning the rivals and fights for land and kingdom, (2) Arns own tale, (3) a romantic. I don\\'t want to tell more than that about the movie, but now on the trailers you see a lot of wars in Jerusalem, but that is only very short time of this 2.31 hour long movie .<br /><br />ACTING/LINES The actors were way too aware of that this was a Swedish blockbuster, and when they played their rolls, one could see an All to relaxed (not living into their characters) actors. Acting was so poor, I sometimes wondered; if this WAS a middle age movie. They were saying their lines as a person living in Stockholm would do in 2007, which was just really lame, there was no attempt to change the accent I believe, made the quality poor. In some parts, they didn\\'t even use old Swedish words! I mean I can\\'t believe that the Swedish language/accent hasn\\'t change since 1150-2007\\xc2\\x85 The lines was empty and when the accents was so poor, this equaled in very low performance, and I sometimes felt that I was watching Swedish Big Brother\\xc2\\x85 I think this is because Swedish actors has not yet understood that acting is with whole body, eye moves, body-language, etc, not just standing there like a jukebox and saying your lines one after other. The kids acting was horrible, I was dying every time they said their empty lines, with no feeling, just saying it as instructed! I mean, compare little girl Briony Tallis in Atonement, her majestic way of acting, taking the crowd, filling up the scenes whether to make us like her, hate her, moving us from different moods by her acting, those well-formed lines she so realistically with so much emotions said. If you find her too old for comparative purpose, then one could compare to Jake Lloyd, little Anakin skywalker (SW E1). In Arn, those kids didn\\'t even have many scenes to play and most of their scenes where just the same, and lines so easy compared to Jakes, whom was the one character we\\'ve waited for since 1977! The only good actors in Arn was the old nun, Mother Rikissa, she was \"good\" but not Perfect as the actors should have been in this movie! Also Saladin, Father Henry, Brother Guilbert, and the Bishop passed, all other sucked so bad I was about to leave the cinema and take a rape-shower. Worst acting I found, Cecilia Algottsdotter (and her sister in the movie), I have no words. Arn himself is right behind\\xc2\\x85 They could simply not let us feel those really important scenes of creating a character, make us love, hate, or mystic feelings.<br /><br />CUTTING/CAMERA (story telling) What were those stupid layering other scenes about (picture over picture)!? I mean, when you\\'re supposed to create a flashback, you want to do it good, like \"I am Legend\". Even the TV-series LOST makes better and more intense flashbacks. And most times this layering of flags etc just explains the movie watcher as Stupid! I mean in one scene, Mother Rikissa says \"we are Sverkar\" and BAM a layer over her face with their flag, what is the meaning?! Who made that on Photoshop?! I will come to that later! The cutting was poor, a lot of scenes didn\\'t make sense at all, we were pushed all too suddenly from one place to another and we didn\\'t even get an explanation why\\xc2\\x85 Arns riding (I even heard this guy is actually good at riding) was really bad, the horse was so beautiful and powerful, but Arns carriage/attitude made it look so STUPID, I mean a cool horse riding scenes have we all seen, is it so hard?! In Elizabeth the golden age, when they ride their horses, one catches that freedom, speed, carriage/attitude I am talking about. \"Let them come with armies of hell! They shall not pass!\" Elizabeth shouts with furious anger! Cool quotes as these can also be found (in Elizabeth \\xc2\\x96 not Arn! Not one single line is memorable quote!) I didn\\'t even like Elizabeth the golden age! <br /><br />ATMOSPHERE/MUSIC Now, some movies have characteristic music, Godfather, Star Wars, Lord of the rings, every movie you read now you\\'ve heard the music and felt that atmosphere within you, didn\\'t you? Forget that on Arn. The music is really poor, no atmosphere at all, no tension or bravery \\xc2\\x96 there is nothing. And I mean, this is the type of movie where you could create amazing music to create different moods! <br /><br />ENVIRONMENT Well, This was the only positive part of the movie, beautiful places, great houses, roads, weapons and clothes, all that was really good.<br /><br />So my conclusion is. They have tried to push three books in one movie and therefore the cutting, building up characters, story, conflicts and lines has failed brutally. After watching this movie you will see: bad actors, no good lines, extremely bad cutting (read Bad story telling) and no good music. Simply no atmosphere, no creation of different moods etc and isn\\'t that what a movie is suppose to do? I rate Arn 1 Awful. \"Kingdom of Heaven\" still is winner in this genre.'\n",
            "-------------\n"
          ]
        }
      ],
      "source": [
        "test_cluster = 0\n",
        "most_representative_docs = np.argsort(\n",
        "    np.linalg.norm(vectorized_docs - clustering.cluster_centers_[test_cluster], axis=1)\n",
        ")\n",
        "for d in most_representative_docs[:10]:\n",
        "    print(docs[d])\n",
        "    print(\"-------------\")"
      ]
    }
  ],
  "metadata": {
    "colab": {
      "collapsed_sections": [],
      "name": "w2v_mbkm.ipynb",
      "toc_visible": true,
      "provenance": []
    },
    "kernelspec": {
      "display_name": "Python 3",
      "language": "python",
      "name": "python3"
    },
    "language_info": {
      "codemirror_mode": {
        "name": "ipython",
        "version": 3
      },
      "file_extension": ".py",
      "mimetype": "text/x-python",
      "name": "python",
      "nbconvert_exporter": "python",
      "pygments_lexer": "ipython3",
      "version": "3.8.3"
    },
    "accelerator": "GPU",
    "gpuClass": "standard"
  },
  "nbformat": 4,
  "nbformat_minor": 0
}