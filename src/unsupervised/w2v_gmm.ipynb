{
  "cells": [
    {
      "cell_type": "markdown",
      "metadata": {
        "id": "h5nD_IIaumKO"
      },
      "source": [
        "## Imports"
      ]
    },
    {
      "cell_type": "code",
      "execution_count": null,
      "metadata": {
        "colab": {
          "base_uri": "https://localhost:8080/"
        },
        "id": "4IkU-xUPumKQ",
        "outputId": "a80fcf88-ac75-45e7-dfb9-e0a54dd3513f"
      },
      "outputs": [],
      "source": [
        "import re\n",
        "import string\n",
        "\n",
        "import nltk\n",
        "import numpy as np\n",
        "import pandas as pd\n",
        "\n",
        "from collections import Counter \n",
        "\n",
        "from gensim.models import Word2Vec\n",
        "\n",
        "from nltk import word_tokenize\n",
        "from nltk.corpus import stopwords\n",
        "\n",
        "from sklearn.cluster import MiniBatchKMeans\n",
        "from sklearn.metrics import silhouette_samples, silhouette_score\n",
        "\n",
        "nltk.download(\"stopwords\")\n",
        "nltk.download('punkt')"
      ]
    },
    {
      "cell_type": "code",
      "execution_count": null,
      "metadata": {
        "colab": {
          "base_uri": "https://localhost:8080/"
        },
        "id": "CwhqbprTw-WC",
        "outputId": "cf47afc4-fcd6-468c-8a15-240009d87bc2"
      },
      "outputs": [],
      "source": [
        "import tensorflow_datasets as tfds\n",
        "tfds.disable_progress_bar()\n",
        "\n",
        "# Load data \n",
        "dataset = tfds.load(\"imdb_reviews\", as_supervised = True)\n",
        "unsup_data = dataset[\"unsupervised\"]\n",
        "\n",
        "# Unsup\n",
        "unsup_sens = [str(s[0].numpy()) for s in unsup_data] "
      ]
    },
    {
      "cell_type": "code",
      "execution_count": 3,
      "metadata": {
        "colab": {
          "base_uri": "https://localhost:8080/",
          "height": 204
        },
        "id": "0DwA1qPBxsnR",
        "outputId": "e8d11e44-95aa-48f9-9b40-d1afa034a057"
      },
      "outputs": [
        {
          "data": {
            "text/html": [
              "\n",
              "  <div id=\"df-c544c906-719f-4c3c-b7c4-7b75b39da184\">\n",
              "    <div class=\"colab-df-container\">\n",
              "      <div>\n",
              "<style scoped>\n",
              "    .dataframe tbody tr th:only-of-type {\n",
              "        vertical-align: middle;\n",
              "    }\n",
              "\n",
              "    .dataframe tbody tr th {\n",
              "        vertical-align: top;\n",
              "    }\n",
              "\n",
              "    .dataframe thead th {\n",
              "        text-align: right;\n",
              "    }\n",
              "</style>\n",
              "<table border=\"1\" class=\"dataframe\">\n",
              "  <thead>\n",
              "    <tr style=\"text-align: right;\">\n",
              "      <th></th>\n",
              "      <th>text</th>\n",
              "    </tr>\n",
              "  </thead>\n",
              "  <tbody>\n",
              "    <tr>\n",
              "      <th>0</th>\n",
              "      <td>b\"SPOILER - Now knowing the ending I find it s...</td>\n",
              "    </tr>\n",
              "    <tr>\n",
              "      <th>1</th>\n",
              "      <td>b'I knew about this film long before I saw it....</td>\n",
              "    </tr>\n",
              "    <tr>\n",
              "      <th>2</th>\n",
              "      <td>b\"This movie is really really awful. It's as b...</td>\n",
              "    </tr>\n",
              "    <tr>\n",
              "      <th>3</th>\n",
              "      <td>b'Wait a minute... yes I do.&lt;br /&gt;&lt;br /&gt;The di...</td>\n",
              "    </tr>\n",
              "    <tr>\n",
              "      <th>4</th>\n",
              "      <td>b'This is the type of movie that\\'s just barel...</td>\n",
              "    </tr>\n",
              "  </tbody>\n",
              "</table>\n",
              "</div>\n",
              "      <button class=\"colab-df-convert\" onclick=\"convertToInteractive('df-c544c906-719f-4c3c-b7c4-7b75b39da184')\"\n",
              "              title=\"Convert this dataframe to an interactive table.\"\n",
              "              style=\"display:none;\">\n",
              "        \n",
              "  <svg xmlns=\"http://www.w3.org/2000/svg\" height=\"24px\"viewBox=\"0 0 24 24\"\n",
              "       width=\"24px\">\n",
              "    <path d=\"M0 0h24v24H0V0z\" fill=\"none\"/>\n",
              "    <path d=\"M18.56 5.44l.94 2.06.94-2.06 2.06-.94-2.06-.94-.94-2.06-.94 2.06-2.06.94zm-11 1L8.5 8.5l.94-2.06 2.06-.94-2.06-.94L8.5 2.5l-.94 2.06-2.06.94zm10 10l.94 2.06.94-2.06 2.06-.94-2.06-.94-.94-2.06-.94 2.06-2.06.94z\"/><path d=\"M17.41 7.96l-1.37-1.37c-.4-.4-.92-.59-1.43-.59-.52 0-1.04.2-1.43.59L10.3 9.45l-7.72 7.72c-.78.78-.78 2.05 0 2.83L4 21.41c.39.39.9.59 1.41.59.51 0 1.02-.2 1.41-.59l7.78-7.78 2.81-2.81c.8-.78.8-2.07 0-2.86zM5.41 20L4 18.59l7.72-7.72 1.47 1.35L5.41 20z\"/>\n",
              "  </svg>\n",
              "      </button>\n",
              "      \n",
              "  <style>\n",
              "    .colab-df-container {\n",
              "      display:flex;\n",
              "      flex-wrap:wrap;\n",
              "      gap: 12px;\n",
              "    }\n",
              "\n",
              "    .colab-df-convert {\n",
              "      background-color: #E8F0FE;\n",
              "      border: none;\n",
              "      border-radius: 50%;\n",
              "      cursor: pointer;\n",
              "      display: none;\n",
              "      fill: #1967D2;\n",
              "      height: 32px;\n",
              "      padding: 0 0 0 0;\n",
              "      width: 32px;\n",
              "    }\n",
              "\n",
              "    .colab-df-convert:hover {\n",
              "      background-color: #E2EBFA;\n",
              "      box-shadow: 0px 1px 2px rgba(60, 64, 67, 0.3), 0px 1px 3px 1px rgba(60, 64, 67, 0.15);\n",
              "      fill: #174EA6;\n",
              "    }\n",
              "\n",
              "    [theme=dark] .colab-df-convert {\n",
              "      background-color: #3B4455;\n",
              "      fill: #D2E3FC;\n",
              "    }\n",
              "\n",
              "    [theme=dark] .colab-df-convert:hover {\n",
              "      background-color: #434B5C;\n",
              "      box-shadow: 0px 1px 3px 1px rgba(0, 0, 0, 0.15);\n",
              "      filter: drop-shadow(0px 1px 2px rgba(0, 0, 0, 0.3));\n",
              "      fill: #FFFFFF;\n",
              "    }\n",
              "  </style>\n",
              "\n",
              "      <script>\n",
              "        const buttonEl =\n",
              "          document.querySelector('#df-c544c906-719f-4c3c-b7c4-7b75b39da184 button.colab-df-convert');\n",
              "        buttonEl.style.display =\n",
              "          google.colab.kernel.accessAllowed ? 'block' : 'none';\n",
              "\n",
              "        async function convertToInteractive(key) {\n",
              "          const element = document.querySelector('#df-c544c906-719f-4c3c-b7c4-7b75b39da184');\n",
              "          const dataTable =\n",
              "            await google.colab.kernel.invokeFunction('convertToInteractive',\n",
              "                                                     [key], {});\n",
              "          if (!dataTable) return;\n",
              "\n",
              "          const docLinkHtml = 'Like what you see? Visit the ' +\n",
              "            '<a target=\"_blank\" href=https://colab.research.google.com/notebooks/data_table.ipynb>data table notebook</a>'\n",
              "            + ' to learn more about interactive tables.';\n",
              "          element.innerHTML = '';\n",
              "          dataTable['output_type'] = 'display_data';\n",
              "          await google.colab.output.renderOutput(dataTable, element);\n",
              "          const docLink = document.createElement('div');\n",
              "          docLink.innerHTML = docLinkHtml;\n",
              "          element.appendChild(docLink);\n",
              "        }\n",
              "      </script>\n",
              "    </div>\n",
              "  </div>\n",
              "  "
            ],
            "text/plain": [
              "                                                text\n",
              "0  b\"SPOILER - Now knowing the ending I find it s...\n",
              "1  b'I knew about this film long before I saw it....\n",
              "2  b\"This movie is really really awful. It's as b...\n",
              "3  b'Wait a minute... yes I do.<br /><br />The di...\n",
              "4  b'This is the type of movie that\\'s just barel..."
            ]
          },
          "execution_count": 3,
          "metadata": {},
          "output_type": "execute_result"
        }
      ],
      "source": [
        "df = pd.DataFrame(unsup_sens, columns = [\"text\"])\n",
        "df.head()"
      ]
    },
    {
      "cell_type": "markdown",
      "metadata": {
        "id": "YEBB2efWumKS"
      },
      "source": [
        "## Clean data"
      ]
    },
    {
      "cell_type": "markdown",
      "metadata": {
        "id": "dZW5Nr8kumKT"
      },
      "source": [
        "### Define function to clean and tokenize"
      ]
    },
    {
      "cell_type": "code",
      "execution_count": 4,
      "metadata": {
        "id": "3uX74ZfXumKT"
      },
      "outputs": [],
      "source": [
        "def clean_text(text, tokenizer, stopwords):\n",
        "    \"\"\"Pre-process text and generate tokens\n",
        "    \n",
        "    Args:\n",
        "        text: Text to tokenize.\n",
        "\n",
        "    Returns:\n",
        "        Tokenized text.\n",
        "    \"\"\"\n",
        "    text = str(text).lower()                            # Lowercase words\n",
        "    text = re.sub(r\"\\[(.*?)\\]\", \"\", text)               # Remove [+XYZ chars] in content\n",
        "    text = re.sub(r\"\\s+\", \" \", text)                    # Remove multiple spaces in content\n",
        "    text = re.sub(r\"\\w+…|…\", \"\", text)                  # Remove ellipsis (and last word)\n",
        "    text = re.sub(r\"(?<=\\w)-(?=\\w)\", \" \", text)         # Replace dash between words\n",
        "    text = re.sub(f\"[{re.escape(string.punctuation)}]\", \"\", text)  # Remove punctuation\n",
        "\n",
        "    tokens = tokenizer(text)                                            # Get tokens from text\n",
        "    tokens = [t for t in tokens if not t in stopwords]                  # Remove stopwords\n",
        "    tokens = [\"\" if t.isdigit() else t for t in tokens]                 # Remove digits\n",
        "    tokens = [t for t in tokens if len(t) > 1]                          # Remove short tokens\n",
        "    return tokens"
      ]
    },
    {
      "cell_type": "markdown",
      "metadata": {
        "id": "_Ga4ErQEumKT"
      },
      "source": [
        "### Apply function and remove duplicates"
      ]
    },
    {
      "cell_type": "code",
      "execution_count": 5,
      "metadata": {
        "id": "rTj4fCrmumKT"
      },
      "outputs": [],
      "source": [
        "stop_words = set(stopwords.words(\"english\"))\n",
        "\n",
        "df[\"tokens\"] = df[\"text\"].map(lambda x: clean_text(x, word_tokenize, stop_words))\n",
        "\n",
        "# Remove duplicated after preprocessing\n",
        "_, idx = np.unique(df[\"tokens\"], return_index=True)\n",
        "df = df.iloc[idx, :]"
      ]
    },
    {
      "cell_type": "markdown",
      "metadata": {
        "id": "D5UAUsdIumKU"
      },
      "source": [
        "### Check vocabulary"
      ]
    },
    {
      "cell_type": "code",
      "execution_count": 6,
      "metadata": {
        "id": "Bz0vQYvlumKU"
      },
      "outputs": [],
      "source": [
        "docs = df[\"text\"].values\n",
        "tokenized_docs = df[\"tokens\"].values\n",
        "vocab = Counter()\n",
        "for token in tokenized_docs:\n",
        "    vocab.update(token)"
      ]
    },
    {
      "cell_type": "code",
      "execution_count": 7,
      "metadata": {
        "colab": {
          "base_uri": "https://localhost:8080/"
        },
        "id": "I2EHXDOnumKU",
        "outputId": "755cee94-773c-424a-e9d1-990a342d6226"
      },
      "outputs": [
        {
          "data": {
            "text/plain": [
              "[('br', 114467),\n",
              " ('movie', 83804),\n",
              " ('film', 76140),\n",
              " ('one', 52238),\n",
              " ('like', 39851),\n",
              " ('good', 28801),\n",
              " ('even', 24223),\n",
              " ('time', 24029),\n",
              " ('would', 24025),\n",
              " ('really', 22801)]"
            ]
          },
          "execution_count": 7,
          "metadata": {},
          "output_type": "execute_result"
        }
      ],
      "source": [
        "vocab.most_common(10)"
      ]
    },
    {
      "cell_type": "markdown",
      "metadata": {
        "id": "elmevGx_umKV"
      },
      "source": [
        "## Generate vectors from document"
      ]
    },
    {
      "cell_type": "markdown",
      "metadata": {
        "id": "05oItNUfumKV"
      },
      "source": [
        "### Define function for creating a single vectors from word embeddings"
      ]
    },
    {
      "cell_type": "code",
      "execution_count": 8,
      "metadata": {
        "id": "qA6qq_AaumKV"
      },
      "outputs": [],
      "source": [
        "def vectorize(list_of_docs, model):\n",
        "    \"\"\"Generate vectors for list of documents using a Word Embedding\n",
        "\n",
        "    Args:\n",
        "        list_of_docs: List of documents\n",
        "        model: Gensim's Word Embedding\n",
        "\n",
        "    Returns:\n",
        "        List of document vectors\n",
        "    \"\"\"\n",
        "    features = []\n",
        "\n",
        "    for tokens in list_of_docs:\n",
        "        zero_vector = np.zeros(model.vector_size)\n",
        "        vectors = []\n",
        "        for token in tokens:\n",
        "            if token in model.wv:\n",
        "                try:\n",
        "                    vectors.append(model.wv[token])\n",
        "                except KeyError:\n",
        "                    continue\n",
        "        if vectors:\n",
        "            vectors = np.asarray(vectors)\n",
        "            avg_vec = vectors.mean(axis=0)\n",
        "            features.append(avg_vec)\n",
        "        else:\n",
        "            features.append(zero_vector)\n",
        "    return features"
      ]
    },
    {
      "cell_type": "markdown",
      "metadata": {
        "id": "f71tCm8eumKW"
      },
      "source": [
        "### Apply function to previously pre-processed text"
      ]
    },
    {
      "cell_type": "code",
      "execution_count": 9,
      "metadata": {
        "id": "opV4uIgAumKW"
      },
      "outputs": [],
      "source": [
        "model = Word2Vec(sentences=tokenized_docs, workers=1, seed=42)"
      ]
    },
    {
      "cell_type": "code",
      "execution_count": 10,
      "metadata": {
        "colab": {
          "base_uri": "https://localhost:8080/"
        },
        "id": "94aXXYb1umKW",
        "outputId": "f00fe29f-51da-4ce8-f656-31e244dc7c1d"
      },
      "outputs": [
        {
          "data": {
            "text/plain": [
              "[('movie', 0.8345317840576172),\n",
              " ('filmbr', 0.7882905006408691),\n",
              " ('moviebr', 0.6851252317428589),\n",
              " ('films', 0.662550151348114),\n",
              " ('picture', 0.6391305327415466),\n",
              " ('flick', 0.6316883563995361),\n",
              " ('movies', 0.5813993215560913),\n",
              " ('cinema', 0.5772110223770142),\n",
              " ('documentary', 0.5747405886650085),\n",
              " ('filmsbr', 0.5089253783226013)]"
            ]
          },
          "execution_count": 10,
          "metadata": {},
          "output_type": "execute_result"
        }
      ],
      "source": [
        "model.wv.most_similar(\"film\")"
      ]
    },
    {
      "cell_type": "code",
      "execution_count": 11,
      "metadata": {
        "colab": {
          "base_uri": "https://localhost:8080/"
        },
        "id": "msbAu25FumKX",
        "outputId": "d42bd2d1-3261-4dfb-c665-42417ff5f006"
      },
      "outputs": [
        {
          "data": {
            "text/plain": [
              "(49506, 100)"
            ]
          },
          "execution_count": 11,
          "metadata": {},
          "output_type": "execute_result"
        }
      ],
      "source": [
        "vectorized_docs = vectorize(tokenized_docs, model=model)\n",
        "len(vectorized_docs), len(vectorized_docs[0])"
      ]
    },
    {
      "cell_type": "markdown",
      "metadata": {
        "id": "U-50EA11umKX"
      },
      "source": [
        "### Generate and analyze clusters"
      ]
    },
    {
      "cell_type": "code",
      "execution_count": 12,
      "metadata": {
        "id": "33CfTSJoumKY"
      },
      "outputs": [],
      "source": [
        "def mbkmeans_clusters(X, k, mb=500, print_silhouette_values=False):\n",
        "    \"\"\"Generate clusters.\n",
        "\n",
        "    Args:\n",
        "        X: Matrix of features.\n",
        "        k: Number of clusters.\n",
        "        mb: Size of mini-batches. Defaults to 500.\n",
        "        print_silhouette_values: Print silhouette values per cluster.\n",
        "\n",
        "    Returns:\n",
        "        Trained clustering model and labels based on X.\n",
        "    \"\"\"\n",
        "    km = MiniBatchKMeans(n_clusters=k, batch_size=mb).fit(X)\n",
        "    print(f\"For n_clusters = {k}\")\n",
        "    print(f\"Silhouette coefficient: {silhouette_score(X, km.labels_):0.2f}\")\n",
        "    print(f\"Inertia:{km.inertia_}\")\n",
        "\n",
        "    if print_silhouette_values:\n",
        "        sample_silhouette_values = silhouette_samples(X, km.labels_)\n",
        "        print(f\"Silhouette values:\")\n",
        "        silhouette_values = []\n",
        "        for i in range(k):\n",
        "            cluster_silhouette_values = sample_silhouette_values[km.labels_ == i]\n",
        "            silhouette_values.append(\n",
        "                (\n",
        "                    i,\n",
        "                    cluster_silhouette_values.shape[0],\n",
        "                    cluster_silhouette_values.mean(),\n",
        "                    cluster_silhouette_values.min(),\n",
        "                    cluster_silhouette_values.max(),\n",
        "                )\n",
        "            )\n",
        "        silhouette_values = sorted(\n",
        "            silhouette_values, key=lambda tup: tup[2], reverse=True\n",
        "        )\n",
        "        for s in silhouette_values:\n",
        "            print(\n",
        "                f\"    Cluster {s[0]}: Size:{s[1]} | Avg:{s[2]:.2f} | Min:{s[3]:.2f} | Max: {s[4]:.2f}\"\n",
        "            )\n",
        "    return km, km.labels_"
      ]
    },
    {
      "cell_type": "code",
      "execution_count": 13,
      "metadata": {
        "colab": {
          "base_uri": "https://localhost:8080/"
        },
        "id": "qn1M9VfCumKY",
        "outputId": "663d5e94-984c-4010-eefd-33514482d1b5"
      },
      "outputs": [
        {
          "name": "stdout",
          "output_type": "stream",
          "text": [
            "For n_clusters = 2\n",
            "Silhouette coefficient: 0.15\n",
            "Inertia:154019.53867232235\n",
            "Silhouette values:\n",
            "    Cluster 0: Size:27460 | Avg:0.20 | Min:0.02 | Max: 0.38\n",
            "    Cluster 1: Size:22046 | Avg:0.08 | Min:-0.08 | Max: 0.27\n"
          ]
        }
      ],
      "source": [
        "clustering, cluster_labels = mbkmeans_clusters(X=vectorized_docs, k=2, print_silhouette_values=True)\n",
        "df_clusters = pd.DataFrame({\n",
        "    \"text\": docs,\n",
        "    \"tokens\": [\" \".join(text) for text in tokenized_docs],\n",
        "    \"cluster\": cluster_labels\n",
        "})"
      ]
    },
    {
      "cell_type": "code",
      "execution_count": 14,
      "metadata": {
        "colab": {
          "base_uri": "https://localhost:8080/"
        },
        "id": "JxUSlkLWumKY",
        "outputId": "0093f6e8-860f-4e4c-ebde-b80bcd5fc2ea"
      },
      "outputs": [
        {
          "name": "stdout",
          "output_type": "stream",
          "text": [
            "Top terms per cluster (based on centroids):\n",
            "Cluster 0: worser irked washout wantbr itit \n",
            "Cluster 1: movie really suppose anyway guess \n"
          ]
        }
      ],
      "source": [
        "print(\"Top terms per cluster (based on centroids):\")\n",
        "for i in range(2):\n",
        "    tokens_per_cluster = \"\"\n",
        "    most_representative = model.wv.most_similar(positive=[clustering.cluster_centers_[i]], topn=5)\n",
        "    for t in most_representative:\n",
        "        tokens_per_cluster += f\"{t[0]} \"\n",
        "    print(f\"Cluster {i}: {tokens_per_cluster}\")"
      ]
    },
    {
      "cell_type": "code",
      "execution_count": 15,
      "metadata": {
        "colab": {
          "base_uri": "https://localhost:8080/"
        },
        "id": "Xeo3Uno7umKZ",
        "outputId": "03ec66ae-e341-40a1-ba89-9bc1f1523463"
      },
      "outputs": [
        {
          "name": "stdout",
          "output_type": "stream",
          "text": [
            "b'This movie was a little bit better than i thought it would be. Which isn\\'t saying much as the Scifi Channel has a history of showing some real sulfurous stinkers.<br /><br />But volcanoes are one of my most favorite movie genres, and wild dead horses couldn\\'t drag me away from watching one i haven\\'t seen yet. And i do believe i\\'ve seen just about all of them. Or at least those that i have been currently aware of.<br /><br />As this was a Scifi Channel movie showing, i wasn\\'t really expecting an outstanding movie, and in that, i wasn\\'t disappointed. The screenplay seemed awfully, awfully similar in some places to a certain volcano movie that took place on the US west coast, on Wilshire Blvd. Apparently, some idea \"borrowing\" went on...<br /><br />I was pleased to see Mike Ironsides still in the movie biz. Mike has been in good movies and in bad movies, and sometimes in the bad movies, he was the only reason to bother watching it. His character here is pretty amusing in its irresponsible ego mania and Mike plays it pretty well. The good doctor is not so good and maybe more than a little bit teensy-weensy frothing-at-the-mouth bat doodoo crazy. Ironsides\\' performance of the raving wacko got me snickering. I think he could have thrown in a few more drops of rabid drool for fun, but still, it was acceptable for a demented scientist role.<br /><br />A note to film makers: a shouldercam is only to be used when using anything else wouldn\\'t be practical or for trying to give a quick and temporary intimate \"you are there\" feeling. Wa-a-ay too much use of shouldercam here when a tripod-mounted one should have been used instead. Sometimes the too-much jiggly camera work made me start feeling seasick.<br /><br />This movie did have one of my pet movie peeves. The characters were wasting precious moments futzing around when moments were too precious to waste. Apparently thrown in for \"dramatic impact\" when in real life, you know the characters would be hopped up on adrenalin and moving their butts like greased lightning.<br /><br />Is this movie actually worth watching? Well, if you\\'re a volcano movie aficionado like i am, you KNOW you\\'re going to watch it anyway no matter how much it reeks of hydrogen sulphide. This movie is more dumb than bad, but it will be essential to have your Dramamine ready in case of seasickness caused by the jiggly camera work.'\n",
            "-------------\n",
            "b'Although I\\'m not a Star Wars fanatic (I certainly don\\'t read the books or anything), I love the old Star Wars movies. In fact, when I was littler, The Empire Strikes Back was my favorite film. Now that I\\'m older, I respect them for what they are: incredibly creative, exciting and touching films. I have yet to see Episode 1. My friend recommended Episode 2 to me, telling me that it was better than its predecessor, but warning me \"don\\'t see it if you expect anything more than a Star Wars movie.\" Maybe I just have a nostalgic love for the first trilogy, but I would never think that they were anywhere near as poor, in any way, as this new garbage. I can\\'t think of a high budget movie that I\\'ve seen that has such bad directing, bad acting, bad casting, bad special effects (or lack thereof), bad music, bad dialogue and bad plot, as ATTACK OF THE CLONES (bad title too). The reviewers on this site giving this movie positive reviews must all be brainwashed. Maybe they\\'re all just excited that it\\'s better than Episode One, which I can only assume must be the worst movie ever made, considering this one definitely belongs in the bottom 100.<br /><br />Let\\'s begin with the directing. WHAT THE HELL DID GEORGE LUKAS TELL HIS ACTORS? My only guess that the conversations went something like this... LUKAS: Hey Sam, sit in that chair and say your line. S.JACKSON: How do you want me to deliver it? LUKAS: Don\\'t worry about that. It doesn\\'t really matter. All the animated creatures don\\'t really show any emotion anyway. In general, you should just say your line like you\\'re reading it. Oh, but if you\\'re supposed to be angry or upset, just screw up your face a little bit.<br /><br />S.JACKSON: Okay. I guess...<br /><br />I can\\'t begin to describe how boring the non-action sequences are in this film. The actors aren\\'t interacting at all. It\\'s astounding.<br /><br />Furthermore, talk about a classic example of bad acting, Ewan McGregor spends the entire movie doing a really bad impression of the actor who played Obi Wan in the original series...uuuugh, yuck. Whoever cast this movie needs to get their head examined. I\\'ve always learned that one of the prime objectives in film, especially a drama, like this one, is to suspend the audience\\'s disbelief (perhaps George Lukas was striving to suspend belief with this one). How could anyone accept Samuel L. Jackson, one of the most prolific actors in Hollywood, as \"Mace Windu\" and Jimmy Smits, another instantly recognizable household name, as Senator \"Bail Organa\". My God, Lukas could have at least picked actors who haven\\'t reached idol status yet, but no, he had to make his budget LARGER. The majority of people who liked this casting probably just liked seeing Sam Jackson meditating next to a poorly animated Yoda (SHAFT AND YODA TOGETHER IN THE SAME ROOM, MEDITATING LIKE BUDDHISTS! AWESOME!).<br /><br />The digital special effects were disappointing and not convincing. I prefer people in elaborate costumes to the digitally animated, and amazingly generic looking, critters that Lukas used here. You\\'ve seen \\'em in the fifth element, in the trailer for men in black II (before the film started) and here they are again, a long time ago in a galaxy far far away. Go figure. Furthermore, juxtaposing digitally composed fantasy settings/landscapes(as ridiculous as they are on their own), with a real, easily recognizable, famous swiss tourist attraction was appalling.<br /><br />The music as a whole sounded like a parody of the original score (in other words, it was fitting). The dialogue was laughably atrocious. Probably my favorite line *POSSIBLE SPOILER* was when Anakin (or little Ann(ie?,y?,e??) as the Senator calls him) tells the senator, \"I didn\\'t just kill the men...but the WOMEN...and the CHILDREN TOO!\" \"Ooh am I a bad guy. I\\'m such an evil dude that I use cliches to describe my horrible deeds.\" *NO MORE SPOILERS* The plot is so delightfully convoluted that thousands of viewers at home will be able to watch this movie in less than half it\\'s running time when it comes out on VHS. They can all simply fast-forward to the action sequences and not miss anything important in the film. In fact they might as well fast-forward through the whole thing, given that the ending credits are by far the movie\\'s finest sequence.<br /><br />I\\'m getting tired of writing, so I\\'ll just say that there are so many problems with this movie that this review hasn\\'t even nearly given it justice. PLEASE, DON\\'T DISMISS THIS REVIEW JUST BECAUSE IT\\'S NEGATIVE. IF YOU HAVEN\\'T SEEN THE MOVIE YET, PLEASE, WAIT TILL COMES OUT ON VIDEO. AT LEAST THEN YOU CAN GET THE PLEASURE OF TAKING THE TAPE OUT OF THE MACHINE AND SMASHING IT TO BITS IN FRUSTRATION.'\n",
            "-------------\n",
            "b'You know those movies where if you\\'ve seen the trailer, you\\'ve seen all the good parts? I felt that way while watching this film. I don\\'t typically expect much from crappy spoof movies, but I at least expect them to try. This came off as too much of a bad Saturday Night Live or Mad TV sketch that runs on way too long. A number of SNL\\'s movies have felt that way, but really....<br /><br />Why can\\'t they ever pick _good_ \"two of the six writers from Scary Movie\"? I feel like I\\'ve seen this brand of dumb humor a million times before, albeit much better presented. I don\\'t mind abstract references that would seemingly change the storyline (the four protagonists becoming part of Wonka\\'s candy, but seconds later reverting to normal, for example), but these \"Family Guy\" style cutaways were so poorly done, it almost made me want to leave. I felt genuinely ripped off, longing for satires like Spy Hard, Last Action Hero, and Spaceballs. A friend and I debated whether this film or Scary Movie 4 was worse. We agreed it was a tie.<br /><br />The first two Scary Movies were funny because they didn\\'t let the flat parts slow them down. Scary Movie 2 contained a number of bad jokes, but it was okay because the filmmakers had a general idea of where they wanted to take the \"story\", and at least made a concentrated effort to tone down the absurdist humor in places where it wasn\\'t needed.<br /><br />Epic Movie temporarily halts the predictable, unfunny jokes close to the end of the film, when Kal Penn (who made two Harold and Kumar references, also falling quite flat, even amongst the largely tweenage audience) spells out the film\\'s moral--a sappy and poorly placed monologue on the importance of family. The repetitive use of the word \"Bitch\" to refer to the antagonist, played by Jennifer Coolidge (\"Stiffler\\'s mother\" in American Pie, a point also mentioned) got tiring. I will admit there were a few laugh-worthy moments, notably in the name of Jack Sparrow\\'s parody, Jack Swallows. The actors were all fairly devoid of talent (especially that kid from the MySpace movie, playing Ashton Kutcher), and the directing seemed nonexistent.<br /><br />Seeing the trailer is a bit of a spoiler as well, as you can tell when certain parts are coming up, effectively ruining the humor. Plus, the trailer has all the reasonably funny moments. It feels as if they directed the rest of the film as merely filler between the points showcased in the preview. I\\'m honestly not sure whether this review is in fact spoiling anything, because the trailer does a pretty good job of that on its own.<br /><br />My recommendation: don\\'t see it in theaters. Don\\'t rent it. Don\\'t even watch it on TV when nothing else is on. Forget it was even made. Trust me, you\\'re not missing anything.'\n",
            "-------------\n",
            "b'I watched this thinking it would be a great journey. Rave reviews, awards, life changing, etc ... <br /><br />Good God. This was one of the most awful, insufferable Australian movies I have ever seen. And I *am* Australian. I don\\'t like to dis movies made in my home country, but this movie most certainly deserves a damn good thrashing. Mindbogginlingly stereotypical, annoying and boring as watching sh!t fester. Good thing I didn\\'t have to pay money as well to see it (Borrowed a friend\\'s video). I\\'m glad to see by other reviews I\\'m not the only one who despised it, annoyed that my time and intelligence were so sorely insulted. Toni Collette\\'s atrocious overacting (nothing personal though), especially in the unconvincing grief scenes did nothing to help this lamo movie, in fact made it worse and I only watched it to see if it got better. Needn\\'t\\'ve bothered. The first part of it was boring as hell, then the second half was just plain God damn depressing. I was hoping to learn more about the outback and more about Australian geology and have more scenes with Toni\\'s character\\'s work (she was supposed to be a geologist), rather than this annoying yuppie chick, having major league hissy fits and non-stop winging.<br /><br />And the movie was just *starting* to get good, he was just starting to loosen up and enjoy himself and then he dies ... and it goes even more downhill from there than when it started - hard to believe but true. <br /><br />I was hoping for a sensual, spiritual and moving journey through the outback, not some b!tchy angsty crap that thinks it\\'s good because it\\'s got people screaming in it and call it acting. The \"death scene\" did not even seem convincing, at first I thought the guy was playing and going to pop up and scare her or something. It did not seem the water was that shallow where he dived - and with arms outstretched? If he was hurt the worst that would have happened is he would have broken an arm or wrist. What a cop out just to kill him off and get out of writing anything more intelligent or insightful. Who gets paid to write these idiotic movies (and gets them produced) when there are literally *millions* of good writers out there who struggle their guts out to get their stuff out there to knocked back at every turn? Very disappointed. This \"Story\" could have been great with more of a journey, more soul, feeling and more about the outback and what *real* Australian geologists do... As we Aussies say: \"Bugger.\" Waste of time, talent and videotape.<br /><br />The only good thing of this movie was the beautiful outback scenery, the wonder and the danger, and two cultures learning each others differences - other than that it was overrated melodramatic, pathetic hype. Actually, I spent more quality time updating my webpage whilst watching this over-rated boof-brained, sad attempt of what could have been a wonderful story.<br /><br />Want to see a brilliant Aussie movie with non stop action, feeling, and a sense of awe and wonder - watch \"Gabriel\" Made only four years later with much less money and a lot more soul - literally. I found \"Gabriel\\'s Story\" much more convincing, heartwarming and awakening.'\n",
            "-------------\n",
            "b'It probably wouldn\\'t be fair of me to say that this is the singularly worst movie of all time. However, it certainly does rank at the bottom of the pile.<br /><br />I\\'ve read the comments published to date very carefully and seen comparisons made with classic movies such as HALLOWEEN. It would not be fair to compare this movie to such classics, however it is fair to compare it to contemporary movies made with similar budgets and similar premises.<br /><br />As someone who loves straight-to-DVD movies like CAMP BLOOD and BACHELOR PARTY MASSACRE, I was expecting another \"so-bad-it\\'s-good\" movie in a similar vain when I put SERIAL SLAYER into my DVD player. What I saw on the screen was a long way departed from my expectations.<br /><br />From the opening moments, this movie was obviously going to be very poor as production values go, but this did not mean it would be devoid of all merit. Indeed it could have been an unintentionally funny variation of HALLOWEEN if placed in the right hands.<br /><br />Unfortunately, this movie just got worse and worse as it moved on. There is more padding than any armchair ever manufactured. In fact, the only movie I can think of with this level of padding is HG Lewis\\'s THE GRUESOME TWOSOME. However, the director of that movie did at least make some of the padding interesting to watch in the \"so-bad-it\\'s-good\" kind of way. At least 80 percent of SERIAL SLAYER consists of 3 women talking. Nothing happens at all. Hints are dropped that a stalker is creeping up on them but the producers lead this fabulous premise to absolutely nothing. As another commenter has correctly pointed out, the movie keeps stalling like a dysfunctional road vehicle. Just when it appears that something interesting is transpiring, the action comes to a halt and the seemingly never-ending boring conversations between the 3 main characters resume. Only in the last 10 minutes does anything remotely interesting happen but by this time most viewers will have given up on the endurance of watching this movie.<br /><br />Judith O\\'Dea of NIGHT OF THE LIVING DEAD fame must have really needed some money to supplement her retirement pension when she made this because this is the most embarrassing production any actress of her ilk could have appeared in. Her appearance is little more than a cameo so at least she did get out of the movie in time.<br /><br />Many commenters have resorted to using the daytime conditions during which the movie filming took place as a means to defending its shortcomings. However, CAMP BLOOD was also filmed entirely in daylight and did not even have the benefit of a claustrophobic indoors setting, yet it surpasses SERIAL SLAYER by miles in terms of entertainment value.<br /><br />Put simply, viewing this movie just once is the very definition of an endurance exercise and most viewers accepting the challenge are going to feel the pain every second.<br /><br />You have every right to doubt my review of SERIAL SLAYER but if you choose to see it, I think you will find yourself wishing you heeded the warning.<br /><br />If you want to see a movie with a similar premise, try SLUMBER PARTY MASSACRE or SORORITY HOUSE MASSACRE. Both movies are better paced, better acted and genuinely entertaining low-budget exercises in film-making.'\n",
            "-------------\n",
            "b'I wasn\\'t really sure what to make of this movie before I went to the advanced screening. I heard from a friend of mine at the Chicago Tribune (she\\'s female, and you\\'ll see why that matters in a second) and she said, \"It was so stupid! It was like, BANG BANG BANG, EXPLETIVE EXPLETIVE EXPLETIVE, BANG BANG BANG! Then gallons of blood and we move on.\" For some reason, the little boy in me that loved the scene in Predator where all of the soldiers shoot at open woods for a complete minute, got very excited. She wasn\\'t kidding, either, that\\'s just what this movie was. Don\\'t worry about the plot, it\\'s not really a concern. Don\\'t worry about the script either, the lines are so over the top and shallow that you know a man wrote this script without allowing anyone to comment on it.<br /><br />At the same time, this movie is just plain fun. You will find yourself laughing from the moment the movie starts to the ending (which you won\\'t be glancing at your watch while waiting for). There are funny lines, funny situations, and stuff that is so impossible in the real world that you can\\'t help but chuckle. Various moments during the film, I found myself applauding along with the audience, maybe not for the film, but for how writer/director Michael Davis got our hero out of another situation.<br /><br />The directing, as opposed to the writing, was done very well, especially for a movie like this. If you take the directing too seriously, the script won\\'t work, which is probably why Michael Davis did both. Clive Owen delivers another strong performance, adapting to the cheesy script and outrageous events like a participant in a prank or gag. Monica Bellucci plays the most serious role in the film, and still takes to mocking her life and situation in this movie like the rest of them. My favorite character would still have to be the sly Paul Giamatti, who is given some pretty crazy situations himself but they are coupled with the only lines of any intelligence (or longer than about four words).<br /><br />By the end of this movie, I was having a lot of fun watching a plot unfold that I didn\\'t really care about. That doesn\\'t deter the film, though, because it\\'s kind of like a stunt show, you\\'re not really concerned with the story. I loved it and, apparently, so did most of the audience. It really reminded me of seeing, well, a live action movie that was more like a video game (we even have coordinated colors for the costumes of the \"bad guys\" in the various \"levels\"). I\\'d like to use this film as an example to my (former) favorite critic Roger Ebert as a perfect example of how video games can be construed in the same light as video games, because Roger, this is clearly a movie made by a large video game fan.'\n",
            "-------------\n",
            "b'With the name and the description, it\\'s easy to mistake this as being another edge-of-your-seat, thrill-ride horror movie. It\\'s anything but. Apart from having a supernatural aspect to it, it\\'s pretty much an after-school special sort of film. Its PG-13 rating isn\\'t even needed. The suicide element is so brief and tame, that this could still easily be rated G (remember, G doesn\\'t have to mean kids, it just means General Audiences). The interesting thing is that, when the credits finally rolled, I was satisfied with what I\\'d seen. Imagine that, a movie that doesn\\'t go for the kill and just wants to entertain you with a decent story for an hour or two. The script is...OK, the dialogue is... acceptable, the acting is good, for the most part (this movie is rife with underrated actors that are much more talented than they\\'ve ever been given credit for). What I find interesting is that everyone comes across as real people. Not \"good actors,\" just your regular, flawed bozos found on every street corner. When Julia Roberts or Tom Cruise are on a screen, you get drawn-in, but it\\'s always \"them.\" Marina Sirtis, on the other hand, makes you believe you\\'re watching a typical house-mom type, not an actress, who\\'s both kind and overbearing under different circumstances --just as a real person might be. There\\'s a scene towards the end that\\'ll have you wanting to give her a medal for realistically portraying someone in emotional agony, and not simply \"oh, the script says I\\'m supposed to scream here.\" So, overall it\\'s not a blockbuster, and it\\'s not something you\\'ll want to rush out and tell your friends about. Heck, some of the metaphysical/religious concepts used are so... well, let\\'s just say I don\\'t subscribe to them and politely leave it there, suffice to say they\\'re a bit corny and detracting, in an amalgamated \"I\\'ve read a lot of spiritual books, but don\\'t really know a thing about it\" sort of way. But, I gave this one an \"8\" score for one very good reason: It accomplished what it set out to do, and it did leave me happy that I\\'d watched it. With Hollywood pumping out multi-million dollar blockbusters with tons of FX and no story on a regular basis, how often can we really say that about a film these days?'\n",
            "-------------\n",
            "b'As the most recent installment of Mystery Science Theater 3000 movies I have seen (Parts: The Clonus Horror doesn\\'t count because I\\'ve already seen it) I immediately went out and rented this movie after I saw the show. I wanted to see this movie as it was originally made if I wanted to form an honest opinion about it. And, after seeing this movie twice, I have come to the conclusion that this movie wasn\\'t so terrible. \"But it has such a low rating! You\\'re just not an easy critic!\" No I am not. I consider myself to be very harsh. In some of my other reviews I have bombarded movies to no end with my opinions. I simply feel that a movie should automatically be voted so low merely because it was shown on MST 3K. On the IMDB scale of 1-10, I gave this movie a three (3) and here\\'s why.<br /><br />This movie has a decent plot. No, the plot\\'s not the journey of Tee to the lost cellar, it\\'s not the victories over Lord Voltaire and it\\'s definitely not the Delta Knights attempting to bring about the New Renaissance (they could have done that years before if they hadn\\'t waited for Tee to come around). This movie\\'s decent plot was the back story of how the lost storehouse came to be, through their inventions and writings of Archimedes and the technology of the lost continent Atlantis. That is where the story induces interest into me. I think it\\'s interesting to have a story where Leonardo da Vinci was really a thief of good ideas and Archimedes was the real genius. It\\'s a new twist on old facts, and therefore it deserves some credit. I think if this movie had more of a budget, it could have been made into a very decent picture. <br /><br />The MST3K viewing of this movie produced two of the funniest quotes I have ever heard from the show. Both quotes came from the scene where Baydool comes out of the bathroom holding his pan of pee and Pearl exclaims \"Ewwww! Wizard wiz...\" I think the house shook I was laughing so hard. But then, not five seconds later, he threw his urine on the guy trying to steal Tee and Baydool makes the goofiest and Tom says \"That\\'s my pee!\" After that I lost it. I was rolling on the floor, stuffing my face into my pillow trying to muffle my laughter. Boy those two quotes really made that one episode worth watching because most of the stuff after that wasn\\'t really that great. I would actually prefer to watch the movie without Mike, Tom and Crow and make my own jokes instead of having the show tell me what\\'s funny about the movie. I would much rather use my own humor to make my own jokes to degrade this movie.<br /><br />All-in-all, I think you people judged this movie too harshly. A movie being on MST3K doesn\\'t necessarily qualify it for being a terrible movie. Thank you and good day. <br /><br />-Scott-'\n",
            "-------------\n",
            "b'As some have mentioned, this is, well, not a good movie. The only good part are the scenes at the beginning and at the end in which our hot lead actress Tatum brings out the twins - and nice twins they are. I would NOT, however, care to see them again if that means watching the whole damn movie - it was THAT bad.<br /><br />Fine, so it\\'s low-budget. And yes, i\\'ve seen Eclipse and I\\'ve seen Back From Hell, and I enjoyed them! I\\'ve even ANALYZED Black Woods. These films are all fine examples of cult-like films that have done the most out of their budgets. I\\'ll give you another example of low-budget horror: \"Blair Witch\" ring a bell? True, it didn\\'t need as much special effects as this move would need, but every single actor in that film was better than every single actor in Ghost Lake - and for one hell of a lot less money. For Nick, who wrote that the acting was more done \"like in real life\" instead of exaggerating - please watch the movie one more time. I could never in my life have talked anything like any of those actors. They talked like they were reading from the script during the whole film, from start to finish. In fact, I found myself thinking several times, \"what the hell? Didn\\'t they get time to memorize their lines properly??\". <br /><br />This movie is one I would not want to watch again unless my life depended on it. Let\\'s say we forget about the acting that makes Coolio look like Oscar material for a minute. Let\\'s say that we didn\\'t notice the make-up that is supposed to make the actors look like zombies but instead makes them look like they dropped buckets of various paint over their heads, or when water came out the \"zombies\\'\" mouths like when you put water in your mouth and talk - you know, like when you were in kindergarten. Let\\'s say that just for a minute, the story wasn\\'t utter rubbish, and didn\\'t contain almost exclusively script flaws and logical errors. Let\\'s then say that we would be able to overlook ALL of this at ONCE, in an attempt to find other good things about this movie. The what would we have?<br /><br />We would still have a bad movie.<br /><br />The first thing that struck me was that this was actually a comedy! My thoughts wandered off to \"Scary Movie\" or \"Dawn of the Dead\" - in other words either an intentional parody or, well, another kind of intentional parody. I was sad to see that I was mistaken. <br /><br />Never mind the laughable scene in which our boobalicious Tatum is PUSHED out to the party by her parents; never mind the scenes where it switches between her driving, her letting the nice, big twins out for some air and some lickin\\' - it\\'s the plot. <br /><br />First of all: For a horror movie, something happening every 13 years is way too often. A curse is not something happening twice every generation. I can not for the life of me figure out how anyone in their right mind will even CONSIDER the plot or the storyline in any way anything but awful. <br /><br />Secondly, I can say the same thing about the directing - yes, he does film very well at night, fine. But he\\'s using amateurish cutting and ways of quickening the pace. It seems to me that he\\'s rushing the production to make the suffering shorter.. I don\\'t think even Jay Woelfel really knew what the explanatory mathematics at the end meant, and our poor Tatum and her twins looked just like a teenager pretending to understand when being presented with the Theory of Relativity - \"Ah, so THAT\\'S what\\'s happening! Of course! I KNEW that E wasn\\'t good for you, but i never knew why!\"<br /><br />And thirdly, and this is the worst part of the whole movie: The beginning. And i\\'m not even talking about the laughable way Woelfel is cutting the memories into her driving, or the humorous \"Days of our Lives\"-wannabe expressions on Tatums face when she tries to act on the cuts, either. No, i\\'m talking about the way her parents dies.<br /><br />This is a major spoiler for you who haven\\'t seen the movie yet, but it\\'s a fun one, and the reason why I thought this movie was a comedy at first: Her dad wakes up in the master bedroom, coughing - he smells the gas and yells something like \"honey! *cough, cough* I think there might be a gas leak! *cough *cough\\' Honey?!\", with no response. So he crawls (yes, CRAWLS) out of bed, and KEEPS crawling, actually, across the floor and to the stairs - from which he falls down and dies. And how does her mother die? From the gas as well - as she is sitting right next to the stove. Now hold on, I\\'ll say that one more time: Her MOTHER dies next to the stove without noticing the gas leak, but her FATHER not only notices the gas, but he notices the gas IN HIS SLEEP and WAKES UP! Not only is it highly unlikely that the father would even be much affected in the second story of such a big house - he would CERTAINLY not wake up from the smell! There are so many logical flaws at the beginning of the film that I could not see how this could be anything but a parody. I even told my girlfriend as we started watching, \"oh, cool, it\\'s a parody! I thought it was a horror flick!\" - and sadly, I was mistaken. <br /><br />I rank this among the two worst movies I\\'ve seen along with \"Dracula 3000\".<br /><br />However, I still just can\\'t bare to give this a one. After all, Tatum ARE letting her twins out. Twice. That, to me, doubles the value of this film.'\n",
            "-------------\n",
            "b'As I left the cinema I turned to my friend and said, \"I\\'m glad I saw that film. Finally Batman and Robin isn\\'t \\'worst movie ever.\\'\" And it\\'s true, this film is really bad. That\\'s not to say that it\\'s boring, it\\'s not, but it just reeks of \\'bad\\'.<br /><br />The basic story is simple. Some teenagers (typical clubbers, armed with cigarettes and drugs) play with a ouija board one night, and unlock some evil spirits. These spirits then hunt all the kiddies down and kill them one by one. Sounds like standard horror fare, but what actually makes the film bad?<br /><br />For a start, the scriptwriters appear to have forgotten the cardinal rules of teen horror flicks. You don\\'t kill the most attractive cast members first. That\\'s the only reason why \\'I Know What You Did Last Summer\\' was any good, the cute girls lasted to the end.<br /><br />Not only that, but the scriptwriter appears to have written the script in a single sitting. Characters are often not where they\\'re supposed to be and also have severe amnesia problems, forgetting what they did in previous scenes or information they have been given.<br /><br />\\'Final Destination\\' used the element of surprise very effectively, despite being a trashy teen horror movie itself. Long Time Dead tries to copy its predecessor and fails. Any surprises in the film are simply marked by a loud Psycho-style hit from the orchestra.. If the team who made this film really believe that sudden loud noises are all you need to scare people, they should get back to film-making school.<br /><br />The characters are also undeveloped. You really couldn\\'t care less who\\'s going to die next, and I was hoping they\\'d all die soon so we could reach the finale of this cinematic calamity. And yes, the ending is bad too! Typically clich\\xc3\\xa9 and you can see it coming a mile off.<br /><br />I love cinema, and I\\'ve never slated a film like this before, but this film deserves it. Go and see it with some mates so you can laugh at the hideously poor acting and directing. It\\'s almost as if this was the single film that the Scream series parodies. In that way, it\\'s actually fairly entertaining, so I give it 2 out of 10.'\n",
            "-------------\n"
          ]
        }
      ],
      "source": [
        "test_cluster = 1\n",
        "most_representative_docs = np.argsort(\n",
        "    np.linalg.norm(vectorized_docs - clustering.cluster_centers_[test_cluster], axis=1)\n",
        ")\n",
        "for d in most_representative_docs[:10]:\n",
        "    print(docs[d])\n",
        "    print(\"-------------\")"
      ]
    }
  ],
  "metadata": {
    "colab": {
      "collapsed_sections": [],
      "name": "new-clustering_word2vec.ipynb",
      "provenance": []
    },
    "kernelspec": {
      "display_name": "Python 3",
      "language": "python",
      "name": "python3"
    },
    "language_info": {
      "codemirror_mode": {
        "name": "ipython",
        "version": 3
      },
      "file_extension": ".py",
      "mimetype": "text/x-python",
      "name": "python",
      "nbconvert_exporter": "python",
      "pygments_lexer": "ipython3",
      "version": "3.8.3"
    }
  },
  "nbformat": 4,
  "nbformat_minor": 0
}
